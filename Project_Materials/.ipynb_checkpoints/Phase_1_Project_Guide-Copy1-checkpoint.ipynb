{
 "cells": [
  {
   "cell_type": "markdown",
   "metadata": {},
   "source": [
    "## Part 1 - Understanding your data and question\n",
    "\n",
    "Lok at the question and determine what data you will need to store in your database in order to answer the questions. Start to thin about your DB schema. What tables will you want to create and what columns will you ahve for those tables. \n",
    "\n",
    "Look at the API documentation, and determine what fields of the API response you will match up with the columns you want in your DB tables. \n",
    "\n",
    "\n",
    "https://www.yelp.com/developers/documentation/v3/get_started"
   ]
  },
  {
   "cell_type": "code",
   "execution_count": null,
   "metadata": {},
   "outputs": [],
   "source": [
    "#Which are the 5 most reviewed businesses?  \n",
    "# Look for. ' review_count'#Lapis Spa, Tao Spa Miami, VITA Body Club,  Exhale Miami, Mindykim Skincare, Elements Massage-Pinecrest \n",
    "#What is the highest rating recieved in your data set and how many businesses have that rating?\n",
    "#''rating''\n",
    "#What percentage of businesses have a rating greater than or 4.5?\n",
    "#What percentage of businesses have a rating less than 3?\n",
    "\n",
    "#What is the average rating of businesses that have a price label of one dollar sign? Two dollar signs? Three dollar signs?\n",
    "#'price' , 0:4 $ \n",
    "#Return the text of the reviews for the most reviewed business.\n",
    "#Return the name of the business with the most recent review.\n",
    "#Find the highest rated business and return text of the most recent review. If multiple business have the same rating, select the business with the most reviews.\n",
    "#Find the lowest rated business and return text of the most recent review. If multiple business have the same rating, select the business with the least reviews"
   ]
  },
  {
   "cell_type": "code",
   "execution_count": 41,
   "metadata": {},
   "outputs": [],
   "source": [
    "import requests\n",
    "import json"
   ]
  },
  {
   "cell_type": "code",
   "execution_count": 42,
   "metadata": {},
   "outputs": [],
   "source": [
    "url =  'https://api.yelp.com/v3/businesses/search' "
   ]
  },
  {
   "cell_type": "code",
   "execution_count": 43,
   "metadata": {},
   "outputs": [],
   "source": [
    "client_id = 'HX7Zg3hgCbFKs_FeotRdCA' \n",
    "api_key = 'm3thcmik5l2yJb4BAfg-uYJyI82T6W52bEBS_HFE4nzUudzabtUagvEnJUdwb9wfSDjTZD1C2-qdcpLU6x-suSaz8ijI2b4hc3Brygw8hmNGm_skfaMen_JZ6EvzX3Yx'"
   ]
  },
  {
   "cell_type": "code",
   "execution_count": 44,
   "metadata": {},
   "outputs": [],
   "source": [
    "headers = {\n",
    "        'Authorization': 'Bearer {}'.format(api_key),\n",
    "    }"
   ]
  },
  {
   "cell_type": "code",
   "execution_count": 53,
   "metadata": {},
   "outputs": [],
   "source": [
    "# what type of business do you want to search\n",
    "term = 'spa' \n",
    "\n",
    "#where do you want to perform this search\n",
    "location = 'Orlando, FL'\n",
    "\n",
    "# what is your other parameter you want to search against\n",
    "radius = 40000"
   ]
  },
  {
   "cell_type": "code",
   "execution_count": 54,
   "metadata": {},
   "outputs": [],
   "source": [
    "\n",
    "url_params = {\n",
    "                \"term\": term.replace(' ', '+'),\n",
    "                \"location\": location.replace(' ', '+'),\n",
    "                \"radius\" : radius,\n",
    "                \"limit\": 50 \n",
    "                \n",
    "            }"
   ]
  },
  {
   "cell_type": "code",
   "execution_count": 55,
   "metadata": {},
   "outputs": [
    {
     "data": {
      "text/plain": [
       "{'term': 'spa', 'location': 'Orlando,+FL', 'radius': 40000, 'limit': 50}"
      ]
     },
     "execution_count": 55,
     "metadata": {},
     "output_type": "execute_result"
    }
   ],
   "source": [
    "url_params"
   ]
  },
  {
   "cell_type": "code",
   "execution_count": 56,
   "metadata": {},
   "outputs": [],
   "source": [
    "response = requests.get(url, headers=headers, params=url_params)"
   ]
  },
  {
   "cell_type": "code",
   "execution_count": 57,
   "metadata": {},
   "outputs": [
    {
     "data": {
      "text/plain": [
       "'{\"businesses\": [{\"id\": \"Y6Ywqa4u1GKNEhM6ZzbDpg\", \"alias\": \"the-spa-orlando\", \"name\": \"The Spa\", \"image_url\": \"https://s3-media2.fl.yelpcdn.com/bphoto/u16AfZT26Yld62IgH5Z3ig/o.jpg\", \"is_closed\": false, \"url\": \"https://www.yelp.com/biz/the-spa-orlando?adjust_creative=HX7Zg3hgCbFKs_FeotRdCA&utm_campaign=yelp_api_v3&utm_medium=api_v3_business_search&utm_source=HX7Zg3hgCbFKs_FeotRdCA\", \"review_count\": 393, \"categories\": [{\"alias\": \"spas\", \"title\": \"Day Spas\"}, {\"alias\": \"massage\", \"title\": \"Massage\"}, {\"alias\": \"skincare\", \"title\": \"Skin Care\"}], \"rating\": 3.5, \"coordinates\": {\"latitude\": 28.5755896872417, \"longitude\": -81.3897647059506}, \"transactions\": [], \"price\": \"$$\", \"location\": {\"address1\": \"2626 Edgewater Dr\", \"address2\": \"\", \"address3\": \"\", \"city\": \"Orlando\", \"zip_code\": \"32804\", \"country\": \"US\", \"state\": \"FL\", \"display_address\": [\"2626 Edgewater Dr\", \"Orlando, FL 32804\"]}, \"phone\": \"+14078987737\", \"display_phone\": \"(407) 898-7737\", \"distance\": 8239.085479713352}, {\"id\": \"72fOmD7Xumv9QlWMM2WyNg\", \"alias\": \"the-ritz-carlton-spa-orlando-grande-lakes-orlando\", \"name\": \"The Ritz-Carlton Spa, Orlando, Grande Lakes\", \"image_url\": \"https://s3-media1.fl.yelpcdn.com/bphoto/pJHz9eWJ_fIYRFJUb_fOFw/o.jpg\", \"is_closed\": false, \"url\": \"https://www.yelp.com/biz/the-ritz-carlton-spa-orlando-grande-lakes-orlando?adjust_creative=HX7Zg3hgCbFKs_FeotRdCA&utm_campaign=yelp_api_v3&utm_medium=api_v3_business_search&utm_source=HX7Zg3hgCbFKs_FeotRdCA\", \"review_count\": 92, \"categories\": [{\"alias\": \"spas\", \"title\": \"Day Spas\"}, {\"alias\": \"skincare\", \"title\": \"Skin Care\"}, {\"alias\": \"massage_therapy\", \"title\": \"Massage Therapy\"}], \"rating\": 4.5, \"coordinates\": {\"latitude\": 28.4051590839979, \"longitude\": -81.429525197345}, \"transactions\": [], \"price\": \"$$$\", \"location\": {\"address1\": \"4012 Central Florida Parkway\", \"address2\": null, \"address3\": \"The Ritz-Carlton Orlando, Grande Lakes\", \"city\": \"Orlando\", \"zip_code\": \"32837\", \"country\": \"US\", \"state\": \"FL\", \"display_address\": [\"4012 Central Florida Parkway\", \"The Ritz-Carlton Orlando, Grande Lakes\", \"Orlando, FL 32837\"]}, \"phone\": \"+14073934200\", \"display_phone\": \"(407) 393-4200\", \"distance\": 11958.90423563043}, {\"id\": \"2DoJ6e7D3Bq6xCK37Lc2lQ\", \"alias\": \"lotus-blossom-massage-orlando\", \"name\": \"Lotus Blossom Massage\", \"image_url\": \"https://s3-media2.fl.yelpcdn.com/bphoto/8mS4vGA6UoZL1ZZ0o0gY0Q/o.jpg\", \"is_closed\": false, \"url\": \"https://www.yelp.com/biz/lotus-blossom-massage-orlando?adjust_creative=HX7Zg3hgCbFKs_FeotRdCA&utm_campaign=yelp_api_v3&utm_medium=api_v3_business_search&utm_source=HX7Zg3hgCbFKs_FeotRdCA\", \"review_count\": 291, \"categories\": [{\"alias\": \"massage_therapy\", \"title\": \"Massage Therapy\"}, {\"alias\": \"acupuncture\", \"title\": \"Acupuncture\"}, {\"alias\": \"saunas\", \"title\": \"Saunas\"}], \"rating\": 4.5, \"coordinates\": {\"latitude\": 28.4171861, \"longitude\": -81.4216917}, \"transactions\": [], \"location\": {\"address1\": \"10249 S John Young Pkwy\", \"address2\": \"Unit 106\", \"address3\": \"\", \"city\": \"Orlando\", \"zip_code\": \"32837\", \"country\": \"US\", \"state\": \"FL\", \"display_address\": [\"10249 S John Young Pkwy\", \"Unit 106\", \"Orlando, FL 32837\"]}, \"phone\": \"+14076747986\", \"display_phone\": \"(407) 674-7986\", \"distance\": 10422.97584252574}, {\"id\": \"q5lUaJ8B2NZM-MLmzURB6g\", \"alias\": \"spavia-day-spa-winter-park-winter-park\", \"name\": \"Spavia Day Spa - Winter Park\", \"image_url\": \"https://s3-media1.fl.yelpcdn.com/bphoto/zT-h-ladPcq4IbbfD7j2Hw/o.jpg\", \"is_closed\": false, \"url\": \"https://www.yelp.com/biz/spavia-day-spa-winter-park-winter-park?adjust_creative=HX7Zg3hgCbFKs_FeotRdCA&utm_campaign=yelp_api_v3&utm_medium=api_v3_business_search&utm_source=HX7Zg3hgCbFKs_FeotRdCA\", \"review_count\": 80, \"categories\": [{\"alias\": \"spas\", \"title\": \"Day Spas\"}, {\"alias\": \"skincare\", \"title\": \"Skin Care\"}, {\"alias\": \"massage_therapy\", \"title\": \"Massage Therapy\"}], \"rating\": 4.0, \"coordinates\": {\"latitude\": 28.596879, \"longitude\": -81.364776}, \"transactions\": [], \"price\": \"$$\", \"location\": {\"address1\": \"110 S Orlando Ave\", \"address2\": \"Ste 9\", \"address3\": null, \"city\": \"Winter Park\", \"zip_code\": \"32789\", \"country\": \"US\", \"state\": \"FL\", \"display_address\": [\"110 S Orlando Ave\", \"Ste 9\", \"Winter Park, FL 32789\"]}, \"phone\": \"+14076703200\", \"display_phone\": \"(407) 670-3200\", \"distance\": 10581.773176590224}, {\"id\": \"cOZGyP1jGH0LZSNbt02Zag\", \"alias\": \"the-woodhouse-day-spa-orlando-orlando-2\", \"name\": \"The Woodhouse Day Spa - Orlando\", \"image_url\": \"https://s3-media3.fl.yelpcdn.com/bphoto/5Jj_KzSp3rY_1iYnfDPtyw/o.jpg\", \"is_closed\": false, \"url\": \"https://www.yelp.com/biz/the-woodhouse-day-spa-orlando-orlando-2?adjust_creative=HX7Zg3hgCbFKs_FeotRdCA&utm_campaign=yelp_api_v3&utm_medium=api_v3_business_search&utm_source=HX7Zg3hgCbFKs_FeotRdCA\", \"review_count\": 154, \"categories\": [{\"alias\": \"spas\", \"title\": \"Day Spas\"}, {\"alias\": \"massage\", \"title\": \"Massage\"}, {\"alias\": \"skincare\", \"title\": \"Skin Care\"}], \"rating\": 4.0, \"coordinates\": {\"latitude\": 28.450376, \"longitude\": -81.4947320896376}, \"transactions\": [], \"price\": \"$$$\", \"location\": {\"address1\": \"8060 Via Dellagio Way\", \"address2\": \"Ste 102\", \"address3\": null, \"city\": \"Orlando\", \"zip_code\": \"32819\", \"country\": \"US\", \"state\": \"FL\", \"display_address\": [\"8060 Via Dellagio Way\", \"Ste 102\", \"Orlando, FL 32819\"]}, \"phone\": \"+14079653131\", \"display_phone\": \"(407) 965-3131\", \"distance\": 12866.974992928586}, {\"id\": \"5fI7EuC8ECEcAYA71CGL1Q\", \"alias\": \"the-spa-at-bella-collina-montverde\", \"name\": \"The Spa at Bella Collina\", \"image_url\": \"https://s3-media4.fl.yelpcdn.com/bphoto/WR6vQ_YbXHGLbf6gWBG_PQ/o.jpg\", \"is_closed\": false, \"url\": \"https://www.yelp.com/biz/the-spa-at-bella-collina-montverde?adjust_creative=HX7Zg3hgCbFKs_FeotRdCA&utm_campaign=yelp_api_v3&utm_medium=api_v3_business_search&utm_source=HX7Zg3hgCbFKs_FeotRdCA\", \"review_count\": 15, \"categories\": [{\"alias\": \"spas\", \"title\": \"Day Spas\"}], \"rating\": 4.5, \"coordinates\": {\"latitude\": 28.578189, \"longitude\": -81.678338}, \"transactions\": [], \"price\": \"$$$\", \"location\": {\"address1\": \"15920 County Rd\", \"address2\": \"\", \"address3\": \"\", \"city\": \"Montverde\", \"zip_code\": \"34756\", \"country\": \"US\", \"state\": \"FL\", \"display_address\": [\"15920 County Rd\", \"Montverde, FL 34756\"]}, \"phone\": \"+14074694001\", \"display_phone\": \"(407) 469-4001\", \"distance\": 30610.20126649201}, {\"id\": \"0tIG5Q-ryqUdJjjLrJXqrA\", \"alias\": \"orlando-spa-oasis-orlando-3\", \"name\": \"Orlando Spa Oasis\", \"image_url\": \"https://s3-media1.fl.yelpcdn.com/bphoto/7B-MXzzBA97CI2v4oo_8VA/o.jpg\", \"is_closed\": false, \"url\": \"https://www.yelp.com/biz/orlando-spa-oasis-orlando-3?adjust_creative=HX7Zg3hgCbFKs_FeotRdCA&utm_campaign=yelp_api_v3&utm_medium=api_v3_business_search&utm_source=HX7Zg3hgCbFKs_FeotRdCA\", \"review_count\": 207, \"categories\": [{\"alias\": \"massage\", \"title\": \"Massage\"}, {\"alias\": \"massage_therapy\", \"title\": \"Massage Therapy\"}, {\"alias\": \"reflexology\", \"title\": \"Reflexology\"}], \"rating\": 5.0, \"coordinates\": {\"latitude\": 28.4546830400765, \"longitude\": -81.4698443854993}, \"transactions\": [], \"price\": \"$$\", \"location\": {\"address1\": \"7251 International Dr\", \"address2\": null, \"address3\": \"\", \"city\": \"Orlando\", \"zip_code\": \"32819\", \"country\": \"US\", \"state\": \"FL\", \"display_address\": [\"7251 International Dr\", \"Orlando, FL 32819\"]}, \"phone\": \"+14077203587\", \"display_phone\": \"(407) 720-3587\", \"distance\": 10499.244749597354}, {\"id\": \"pZWZVSIGKPTOGU7_bR3iDQ\", \"alias\": \"the-salt-room-orlando\", \"name\": \"The Salt Room\", \"image_url\": \"https://s3-media3.fl.yelpcdn.com/bphoto/qhnPuPahJMmUVfhRywAV8g/o.jpg\", \"is_closed\": false, \"url\": \"https://www.yelp.com/biz/the-salt-room-orlando?adjust_creative=HX7Zg3hgCbFKs_FeotRdCA&utm_campaign=yelp_api_v3&utm_medium=api_v3_business_search&utm_source=HX7Zg3hgCbFKs_FeotRdCA\", \"review_count\": 100, \"categories\": [{\"alias\": \"massage\", \"title\": \"Massage\"}, {\"alias\": \"skincare\", \"title\": \"Skin Care\"}, {\"alias\": \"acupuncture\", \"title\": \"Acupuncture\"}], \"rating\": 4.5, \"coordinates\": {\"latitude\": 28.550057, \"longitude\": -81.3646466}, \"transactions\": [], \"price\": \"$$\", \"location\": {\"address1\": \"508 N Mills Ave\", \"address2\": \"Ste C\", \"address3\": \"\", \"city\": \"Orlando\", \"zip_code\": \"32803\", \"country\": \"US\", \"state\": \"FL\", \"display_address\": [\"508 N Mills Ave\", \"Ste C\", \"Orlando, FL 32803\"]}, \"phone\": \"+14079653065\", \"display_phone\": \"(407) 965-3065\", \"distance\": 5444.464521875388}, {\"id\": \"VQk8CF8yiauLOQS4hy1sBA\", \"alias\": \"allora-day-spa-thornton-park-orlando\", \"name\": \"Allora Day Spa Thornton Park\", \"image_url\": \"https://s3-media3.fl.yelpcdn.com/bphoto/qPzOek3GqcR2I5L5biZ7vA/o.jpg\", \"is_closed\": false, \"url\": \"https://www.yelp.com/biz/allora-day-spa-thornton-park-orlando?adjust_creative=HX7Zg3hgCbFKs_FeotRdCA&utm_campaign=yelp_api_v3&utm_medium=api_v3_business_search&utm_source=HX7Zg3hgCbFKs_FeotRdCA\", \"review_count\": 25, \"categories\": [{\"alias\": \"spas\", \"title\": \"Day Spas\"}, {\"alias\": \"skincare\", \"title\": \"Skin Care\"}, {\"alias\": \"massage_therapy\", \"title\": \"Massage Therapy\"}], \"rating\": 5.0, \"coordinates\": {\"latitude\": 28.540967, \"longitude\": -81.36964}, \"transactions\": [], \"price\": \"$$\", \"location\": {\"address1\": \"101 S Eola Dr\", \"address2\": \"Ste 104\", \"address3\": null, \"city\": \"Orlando\", \"zip_code\": \"32801\", \"country\": \"US\", \"state\": \"FL\", \"display_address\": [\"101 S Eola Dr\", \"Ste 104\", \"Orlando, FL 32801\"]}, \"phone\": \"+14078689000\", \"display_phone\": \"(407) 868-9000\", \"distance\": 4357.379197336655}, {\"id\": \"zR8TTomsB-usO0QMrI7JZQ\", \"alias\": \"the-spa-at-hyatt-regency-orlando-orlando\", \"name\": \"The Spa at Hyatt Regency Orlando\", \"image_url\": \"https://s3-media3.fl.yelpcdn.com/bphoto/rVdZGiwSR16B3EhtIO6sGg/o.jpg\", \"is_closed\": false, \"url\": \"https://www.yelp.com/biz/the-spa-at-hyatt-regency-orlando-orlando?adjust_creative=HX7Zg3hgCbFKs_FeotRdCA&utm_campaign=yelp_api_v3&utm_medium=api_v3_business_search&utm_source=HX7Zg3hgCbFKs_FeotRdCA\", \"review_count\": 17, \"categories\": [{\"alias\": \"spas\", \"title\": \"Day Spas\"}], \"rating\": 4.5, \"coordinates\": {\"latitude\": 28.427947, \"longitude\": -81.468805}, \"transactions\": [], \"price\": \"$$$\", \"location\": {\"address1\": \"9801 International Dr\", \"address2\": null, \"address3\": null, \"city\": \"Orlando\", \"zip_code\": \"32819\", \"country\": \"US\", \"state\": \"FL\", \"display_address\": [\"9801 International Dr\", \"Orlando, FL 32819\"]}, \"phone\": \"+14073454431\", \"display_phone\": \"(407) 345-4431\", \"distance\": 12196.917867665474}, {\"id\": \"ZqsICcG85EuHBweC7sbNNw\", \"alias\": \"senses-a-disney-spa-at-disneys-grand-floridian-resort-bay-lake\", \"name\": \"Senses - A Disney Spa at Disney\\'s Grand Floridian Resort\", \"image_url\": \"https://s3-media2.fl.yelpcdn.com/bphoto/5SdJOZ-W0vzgjLPQJiJikA/o.jpg\", \"is_closed\": false, \"url\": \"https://www.yelp.com/biz/senses-a-disney-spa-at-disneys-grand-floridian-resort-bay-lake?adjust_creative=HX7Zg3hgCbFKs_FeotRdCA&utm_campaign=yelp_api_v3&utm_medium=api_v3_business_search&utm_source=HX7Zg3hgCbFKs_FeotRdCA\", \"review_count\": 46, \"categories\": [{\"alias\": \"spas\", \"title\": \"Day Spas\"}], \"rating\": 4.0, \"coordinates\": {\"latitude\": 28.4088176964201, \"longitude\": -81.5880545389258}, \"transactions\": [], \"price\": \"$$$\", \"location\": {\"address1\": \"4411 Floridian Way\", \"address2\": \"\", \"address3\": \"\", \"city\": \"Bay Lake\", \"zip_code\": \"34787\", \"country\": \"US\", \"state\": \"FL\", \"display_address\": [\"4411 Floridian Way\", \"Bay Lake, FL 34787\"]}, \"phone\": \"+14079397727\", \"display_phone\": \"(407) 939-7727\", \"distance\": 23095.826274416417}, {\"id\": \"zTLQUUsGtoJrE4ziVCf8pQ\", \"alias\": \"blue-harmony-spa-orlando\", \"name\": \"Blue Harmony Spa\", \"image_url\": \"https://s3-media1.fl.yelpcdn.com/bphoto/JaM8Cu2JIZ5oc9nNwZB6nQ/o.jpg\", \"is_closed\": false, \"url\": \"https://www.yelp.com/biz/blue-harmony-spa-orlando?adjust_creative=HX7Zg3hgCbFKs_FeotRdCA&utm_campaign=yelp_api_v3&utm_medium=api_v3_business_search&utm_source=HX7Zg3hgCbFKs_FeotRdCA\", \"review_count\": 35, \"categories\": [{\"alias\": \"spas\", \"title\": \"Day Spas\"}, {\"alias\": \"massage\", \"title\": \"Massage\"}, {\"alias\": \"skincare\", \"title\": \"Skin Care\"}], \"rating\": 4.5, \"coordinates\": {\"latitude\": 28.3578185, \"longitude\": -81.5350833}, \"transactions\": [], \"price\": \"$$$\", \"location\": {\"address1\": \"14651 Chelonia Pkwy\", \"address2\": \"\", \"address3\": \"\", \"city\": \"Orlando\", \"zip_code\": \"32821\", \"country\": \"US\", \"state\": \"FL\", \"display_address\": [\"14651 Chelonia Pkwy\", \"Orlando, FL 32821\"]}, \"phone\": \"+14073902442\", \"display_phone\": \"(407) 390-2442\", \"distance\": 22290.236088394107}, {\"id\": \"-qcWUeALjOtylzqTt7PvUw\", \"alias\": \"mokara-spa-four-corners\", \"name\": \"Mokara Spa\", \"image_url\": \"https://s3-media1.fl.yelpcdn.com/bphoto/_Wgkpm6AJmXUQBMk_LOUng/o.jpg\", \"is_closed\": false, \"url\": \"https://www.yelp.com/biz/mokara-spa-four-corners?adjust_creative=HX7Zg3hgCbFKs_FeotRdCA&utm_campaign=yelp_api_v3&utm_medium=api_v3_business_search&utm_source=HX7Zg3hgCbFKs_FeotRdCA\", \"review_count\": 18, \"categories\": [{\"alias\": \"spas\", \"title\": \"Day Spas\"}], \"rating\": 4.5, \"coordinates\": {\"latitude\": 28.2615, \"longitude\": -81.626647}, \"transactions\": [], \"price\": \"$$$\", \"location\": {\"address1\": \"1500 Masters Blvd\", \"address2\": \"\", \"address3\": \"\", \"city\": \"Four Corners\", \"zip_code\": \"33896\", \"country\": \"US\", \"state\": \"FL\", \"display_address\": [\"1500 Masters Blvd\", \"Four Corners, FL 33896\"]}, \"phone\": \"+14073906603\", \"display_phone\": \"(407) 390-6603\", \"distance\": 36223.55528385272}, {\"id\": \"QbGO8lcc7ZEC4Dywk5dvqg\", \"alias\": \"serenity-spa-by-westgate-orlando\", \"name\": \"Serenity Spa by Westgate\", \"image_url\": \"https://s3-media1.fl.yelpcdn.com/bphoto/_8h_Rw-E7m-eGVZX_PqDhg/o.jpg\", \"is_closed\": false, \"url\": \"https://www.yelp.com/biz/serenity-spa-by-westgate-orlando?adjust_creative=HX7Zg3hgCbFKs_FeotRdCA&utm_campaign=yelp_api_v3&utm_medium=api_v3_business_search&utm_source=HX7Zg3hgCbFKs_FeotRdCA\", \"review_count\": 21, \"categories\": [{\"alias\": \"spas\", \"title\": \"Day Spas\"}, {\"alias\": \"hair\", \"title\": \"Hair Salons\"}], \"rating\": 4.0, \"coordinates\": {\"latitude\": 28.4291362, \"longitude\": -81.4761257}, \"transactions\": [], \"price\": \"$$\", \"location\": {\"address1\": \"9500 Turkey Lake Rd\", \"address2\": \"\", \"address3\": \"Westgate Lakes Resort & Spa\", \"city\": \"Orlando\", \"zip_code\": \"32819\", \"country\": \"US\", \"state\": \"FL\", \"display_address\": [\"9500 Turkey Lake Rd\", \"Westgate Lakes Resort & Spa\", \"Orlando, FL 32819\"]}, \"phone\": \"+14079922938\", \"display_phone\": \"(407) 992-2938\", \"distance\": 12646.545019391158}, {\"id\": \"XNQ-GjZuFf_5OAJfXM1ZmQ\", \"alias\": \"a-royal-pampering-orlando-2\", \"name\": \"A Royal Pampering\", \"image_url\": \"https://s3-media2.fl.yelpcdn.com/bphoto/gta-nrywP80A81w0S2pbyg/o.jpg\", \"is_closed\": false, \"url\": \"https://www.yelp.com/biz/a-royal-pampering-orlando-2?adjust_creative=HX7Zg3hgCbFKs_FeotRdCA&utm_campaign=yelp_api_v3&utm_medium=api_v3_business_search&utm_source=HX7Zg3hgCbFKs_FeotRdCA\", \"review_count\": 107, \"categories\": [{\"alias\": \"othersalons\", \"title\": \"Nail Salons\"}, {\"alias\": \"massage_therapy\", \"title\": \"Massage Therapy\"}, {\"alias\": \"spas\", \"title\": \"Day Spas\"}], \"rating\": 5.0, \"coordinates\": {\"latitude\": 28.5536689076723, \"longitude\": -81.331205740571}, \"transactions\": [], \"price\": \"$$\", \"location\": {\"address1\": \"4401 E Colonial Dr\", \"address2\": \"Ste 101\", \"address3\": \"\", \"city\": \"Orlando\", \"zip_code\": \"32803\", \"country\": \"US\", \"state\": \"FL\", \"display_address\": [\"4401 E Colonial Dr\", \"Ste 101\", \"Orlando, FL 32803\"]}, \"phone\": \"+14074564251\", \"display_phone\": \"(407) 456-4251\", \"distance\": 7258.931912309036}, {\"id\": \"bs745333jHEPbnJQt5Fhcw\", \"alias\": \"the-spa-at-the-four-seasons-lake-buena-vista\", \"name\": \"The Spa at the Four Seasons\", \"image_url\": \"https://s3-media2.fl.yelpcdn.com/bphoto/R3uzfWRysumkvL7-d_McWQ/o.jpg\", \"is_closed\": false, \"url\": \"https://www.yelp.com/biz/the-spa-at-the-four-seasons-lake-buena-vista?adjust_creative=HX7Zg3hgCbFKs_FeotRdCA&utm_campaign=yelp_api_v3&utm_medium=api_v3_business_search&utm_source=HX7Zg3hgCbFKs_FeotRdCA\", \"review_count\": 12, \"categories\": [{\"alias\": \"makeupartists\", \"title\": \"Makeup Artists\"}, {\"alias\": \"spas\", \"title\": \"Day Spas\"}, {\"alias\": \"skincare\", \"title\": \"Skin Care\"}], \"rating\": 4.5, \"coordinates\": {\"latitude\": 28.401964, \"longitude\": -81.545713}, \"transactions\": [], \"price\": \"$$$$\", \"location\": {\"address1\": \"10100 Dream Tree Blvd\", \"address2\": \"\", \"address3\": \"Four Seasons Resort Orlando At Walt Disney World Resort\", \"city\": \"Lake Buena Vista\", \"zip_code\": \"32836\", \"country\": \"US\", \"state\": \"FL\", \"display_address\": [\"10100 Dream Tree Blvd\", \"Four Seasons Resort Orlando At Walt Disney World Resort\", \"Lake Buena Vista, FL 32836\"]}, \"phone\": \"+14073137777\", \"display_phone\": \"(407) 313-7777\", \"distance\": 19906.556405376363}, {\"id\": \"-IAWgw5xBNn4Ki5xMi4pBQ\", \"alias\": \"waldorf-astoria-spa-orlando\", \"name\": \"Waldorf Astoria Spa\", \"image_url\": \"https://s3-media3.fl.yelpcdn.com/bphoto/U_Hi0WvAjVfInOrcbmBxWw/o.jpg\", \"is_closed\": false, \"url\": \"https://www.yelp.com/biz/waldorf-astoria-spa-orlando?adjust_creative=HX7Zg3hgCbFKs_FeotRdCA&utm_campaign=yelp_api_v3&utm_medium=api_v3_business_search&utm_source=HX7Zg3hgCbFKs_FeotRdCA\", \"review_count\": 31, \"categories\": [{\"alias\": \"spas\", \"title\": \"Day Spas\"}], \"rating\": 4.0, \"coordinates\": {\"latitude\": 28.3528574418012, \"longitude\": -81.5335657496681}, \"transactions\": [], \"price\": \"$$$\", \"location\": {\"address1\": \"14200 Bonnet Creek\", \"address2\": \"\", \"address3\": \"\", \"city\": \"Orlando\", \"zip_code\": \"32821\", \"country\": \"US\", \"state\": \"FL\", \"display_address\": [\"14200 Bonnet Creek\", \"Orlando, FL 32821\"]}, \"phone\": \"+14075975360\", \"display_phone\": \"(407) 597-5360\", \"distance\": 22590.623240868186}, {\"id\": \"RHFJzE8acl5NgJLMFnaCPw\", \"alias\": \"beyond-organic-day-spa-winter-park\", \"name\": \"Beyond Organic Day Spa\", \"image_url\": \"https://s3-media2.fl.yelpcdn.com/bphoto/P9Tr4nTqygR3KPHRa_e3Og/o.jpg\", \"is_closed\": false, \"url\": \"https://www.yelp.com/biz/beyond-organic-day-spa-winter-park?adjust_creative=HX7Zg3hgCbFKs_FeotRdCA&utm_campaign=yelp_api_v3&utm_medium=api_v3_business_search&utm_source=HX7Zg3hgCbFKs_FeotRdCA\", \"review_count\": 10, \"categories\": [{\"alias\": \"skincare\", \"title\": \"Skin Care\"}, {\"alias\": \"waxing\", \"title\": \"Waxing\"}, {\"alias\": \"spas\", \"title\": \"Day Spas\"}], \"rating\": 5.0, \"coordinates\": {\"latitude\": 28.5927798, \"longitude\": -81.3539069}, \"transactions\": [], \"price\": \"$$\", \"location\": {\"address1\": \"372 W Fairbanks Ave\", \"address2\": \"Studio 372\", \"address3\": null, \"city\": \"Winter Park\", \"zip_code\": \"32789\", \"country\": \"US\", \"state\": \"FL\", \"display_address\": [\"372 W Fairbanks Ave\", \"Studio 372\", \"Winter Park, FL 32789\"]}, \"phone\": \"+14076745546\", \"display_phone\": \"(407) 674-5546\", \"distance\": 10309.320121225654}, {\"id\": \"K7p8JeCowArGyvS2U4xO7Q\", \"alias\": \"hand-and-stone-massage-and-facial-spa-orlando-3\", \"name\": \"Hand & Stone Massage and Facial Spa\", \"image_url\": \"https://s3-media3.fl.yelpcdn.com/bphoto/Yz_Dksweg9Ylrykxi4B_dQ/o.jpg\", \"is_closed\": false, \"url\": \"https://www.yelp.com/biz/hand-and-stone-massage-and-facial-spa-orlando-3?adjust_creative=HX7Zg3hgCbFKs_FeotRdCA&utm_campaign=yelp_api_v3&utm_medium=api_v3_business_search&utm_source=HX7Zg3hgCbFKs_FeotRdCA\", \"review_count\": 53, \"categories\": [{\"alias\": \"spas\", \"title\": \"Day Spas\"}, {\"alias\": \"skincare\", \"title\": \"Skin Care\"}, {\"alias\": \"massage\", \"title\": \"Massage\"}], \"rating\": 4.5, \"coordinates\": {\"latitude\": 28.4526069210817, \"longitude\": -81.4899637851806}, \"transactions\": [], \"price\": \"$$\", \"location\": {\"address1\": \"7600 Dr Phillips Blvd\", \"address2\": \"Ste 18\", \"address3\": \"\", \"city\": \"Orlando\", \"zip_code\": \"32819\", \"country\": \"US\", \"state\": \"FL\", \"display_address\": [\"7600 Dr Phillips Blvd\", \"Ste 18\", \"Orlando, FL 32819\"]}, \"phone\": \"+14073212121\", \"display_phone\": \"(407) 321-2121\", \"distance\": 12339.0533889069}, {\"id\": \"NT_p_uz2GL92ABVHXyvnyw\", \"alias\": \"senses-a-disney-spa-at-disneys-saratoga-springs-resort-lake-buena-vista\", \"name\": \"Senses - A Disney Spa at Disney\\'s Saratoga Springs Resort\", \"image_url\": \"https://s3-media1.fl.yelpcdn.com/bphoto/AFnjXywuoiUCYJkMtSGe8w/o.jpg\", \"is_closed\": false, \"url\": \"https://www.yelp.com/biz/senses-a-disney-spa-at-disneys-saratoga-springs-resort-lake-buena-vista?adjust_creative=HX7Zg3hgCbFKs_FeotRdCA&utm_campaign=yelp_api_v3&utm_medium=api_v3_business_search&utm_source=HX7Zg3hgCbFKs_FeotRdCA\", \"review_count\": 25, \"categories\": [{\"alias\": \"spas\", \"title\": \"Day Spas\"}, {\"alias\": \"massage\", \"title\": \"Massage\"}], \"rating\": 4.0, \"coordinates\": {\"latitude\": 28.376414, \"longitude\": -81.522967}, \"transactions\": [], \"price\": \"$$$\", \"location\": {\"address1\": \"Walt Disney World Resort\", \"address2\": \"\", \"address3\": \"1960 Broadway\", \"city\": \"Lake Buena Vista\", \"zip_code\": \"32830\", \"country\": \"US\", \"state\": \"FL\", \"display_address\": [\"Walt Disney World Resort\", \"1960 Broadway\", \"Lake Buena Vista, FL 32830\"]}, \"phone\": \"+14078274455\", \"display_phone\": \"(407) 827-4455\", \"distance\": 19985.993847747086}, {\"id\": \"4OfisvEJwSj8srvFhfKg2w\", \"alias\": \"relache-spa-kissimmee-5\", \"name\": \"Relache Spa\", \"image_url\": \"https://s3-media1.fl.yelpcdn.com/bphoto/M11pHeWKI0x_DfdpdY8LMg/o.jpg\", \"is_closed\": false, \"url\": \"https://www.yelp.com/biz/relache-spa-kissimmee-5?adjust_creative=HX7Zg3hgCbFKs_FeotRdCA&utm_campaign=yelp_api_v3&utm_medium=api_v3_business_search&utm_source=HX7Zg3hgCbFKs_FeotRdCA\", \"review_count\": 42, \"categories\": [{\"alias\": \"spas\", \"title\": \"Day Spas\"}], \"rating\": 3.5, \"coordinates\": {\"latitude\": 28.2920690664742, \"longitude\": -81.407571}, \"transactions\": [], \"price\": \"$$$\", \"location\": {\"address1\": \"6000 W Osceola Pkwy\", \"address2\": \"\", \"address3\": \"Gaylord Palms Resort\", \"city\": \"Kissimmee\", \"zip_code\": \"34746\", \"country\": \"US\", \"state\": \"FL\", \"display_address\": [\"6000 W Osceola Pkwy\", \"Gaylord Palms Resort\", \"Kissimmee, FL 34746\"]}, \"phone\": \"+14075864772\", \"display_phone\": \"(407) 586-4772\", \"distance\": 23569.401598506327}, {\"id\": \"zD3ZEQZKjK75IiMtVO5nkg\", \"alias\": \"sufii-day-spa-altamonte-springs\", \"name\": \"Sufii Day Spa\", \"image_url\": \"https://s3-media3.fl.yelpcdn.com/bphoto/Vqy2jfenxLhhDzvrDz_PRw/o.jpg\", \"is_closed\": false, \"url\": \"https://www.yelp.com/biz/sufii-day-spa-altamonte-springs?adjust_creative=HX7Zg3hgCbFKs_FeotRdCA&utm_campaign=yelp_api_v3&utm_medium=api_v3_business_search&utm_source=HX7Zg3hgCbFKs_FeotRdCA\", \"review_count\": 10, \"categories\": [{\"alias\": \"spas\", \"title\": \"Day Spas\"}, {\"alias\": \"massage_therapy\", \"title\": \"Massage Therapy\"}, {\"alias\": \"skincare\", \"title\": \"Skin Care\"}], \"rating\": 4.5, \"coordinates\": {\"latitude\": 28.6827394, \"longitude\": -81.4197855}, \"transactions\": [], \"price\": \"$$$\", \"location\": {\"address1\": \"990 N State Road 434\", \"address2\": \"Ste 1136\", \"address3\": \"\", \"city\": \"Altamonte Springs\", \"zip_code\": \"32714\", \"country\": \"US\", \"state\": \"FL\", \"display_address\": [\"990 N State Road 434\", \"Ste 1136\", \"Altamonte Springs, FL 32714\"]}, \"phone\": \"+14077706666\", \"display_phone\": \"(407) 770-6666\", \"distance\": 20488.473568166224}, {\"id\": \"QeEP4Z56rMqA5M1QB83g-w\", \"alias\": \"eforea-spa-at-hilton-orlando-orlando-3\", \"name\": \"Eforea Spa At Hilton Orlando\", \"image_url\": \"https://s3-media3.fl.yelpcdn.com/bphoto/V4GXpGX1mzfXQw0Tut5afQ/o.jpg\", \"is_closed\": false, \"url\": \"https://www.yelp.com/biz/eforea-spa-at-hilton-orlando-orlando-3?adjust_creative=HX7Zg3hgCbFKs_FeotRdCA&utm_campaign=yelp_api_v3&utm_medium=api_v3_business_search&utm_source=HX7Zg3hgCbFKs_FeotRdCA\", \"review_count\": 18, \"categories\": [{\"alias\": \"hair\", \"title\": \"Hair Salons\"}, {\"alias\": \"spas\", \"title\": \"Day Spas\"}], \"rating\": 4.5, \"coordinates\": {\"latitude\": 28.42489, \"longitude\": -81.45792}, \"transactions\": [], \"price\": \"$$$\", \"location\": {\"address1\": \"6001 Destination Pkwy\", \"address2\": \"\", \"address3\": \"\", \"city\": \"Orlando\", \"zip_code\": \"32819\", \"country\": \"US\", \"state\": \"FL\", \"display_address\": [\"6001 Destination Pkwy\", \"Orlando, FL 32819\"]}, \"phone\": \"+14073138600\", \"display_phone\": \"(407) 313-8600\", \"distance\": 11763.411999142996}, {\"id\": \"3K4TmvWkDA07uU9oYU09qQ\", \"alias\": \"mandara-spa-orlando\", \"name\": \"Mandara Spa\", \"image_url\": \"https://s3-media4.fl.yelpcdn.com/bphoto/b5xxGjPtUQwq60Qkr7pPzQ/o.jpg\", \"is_closed\": false, \"url\": \"https://www.yelp.com/biz/mandara-spa-orlando?adjust_creative=HX7Zg3hgCbFKs_FeotRdCA&utm_campaign=yelp_api_v3&utm_medium=api_v3_business_search&utm_source=HX7Zg3hgCbFKs_FeotRdCA\", \"review_count\": 27, \"categories\": [{\"alias\": \"spas\", \"title\": \"Day Spas\"}, {\"alias\": \"massage\", \"title\": \"Massage\"}, {\"alias\": \"skincare\", \"title\": \"Skin Care\"}], \"rating\": 3.5, \"coordinates\": {\"latitude\": 28.48134, \"longitude\": -81.46209}, \"transactions\": [], \"price\": \"$$$\", \"location\": {\"address1\": \"5601 Universal Blvd\", \"address2\": \"\", \"address3\": \"Loews Portofino Bay Hotel\", \"city\": \"Orlando\", \"zip_code\": \"32819\", \"country\": \"US\", \"state\": \"FL\", \"display_address\": [\"5601 Universal Blvd\", \"Loews Portofino Bay Hotel\", \"Orlando, FL 32819\"]}, \"phone\": \"+14075031244\", \"display_phone\": \"(407) 503-1244\", \"distance\": 8627.10848484912}, {\"id\": \"RFwIDSRptcMHPhTAAyVm6Q\", \"alias\": \"privai-spa-orlando-orlando\", \"name\": \"Privai Spa Orlando\", \"image_url\": \"https://s3-media3.fl.yelpcdn.com/bphoto/kobR__WRQkrkA4891Coe0A/o.jpg\", \"is_closed\": false, \"url\": \"https://www.yelp.com/biz/privai-spa-orlando-orlando?adjust_creative=HX7Zg3hgCbFKs_FeotRdCA&utm_campaign=yelp_api_v3&utm_medium=api_v3_business_search&utm_source=HX7Zg3hgCbFKs_FeotRdCA\", \"review_count\": 6, \"categories\": [{\"alias\": \"massage\", \"title\": \"Massage\"}, {\"alias\": \"skincare\", \"title\": \"Skin Care\"}], \"rating\": 5.0, \"coordinates\": {\"latitude\": 28.4123, \"longitude\": -81.46861}, \"transactions\": [], \"location\": {\"address1\": \"6677 Sea Harbor Dr\", \"address2\": \"Fl 2\", \"address3\": \"\", \"city\": \"Orlando\", \"zip_code\": \"32821\", \"country\": \"US\", \"state\": \"FL\", \"display_address\": [\"6677 Sea Harbor Dr\", \"Fl 2\", \"Orlando, FL 32821\"]}, \"phone\": \"+14072487428\", \"display_phone\": \"(407) 248-7428\", \"distance\": 13499.200159336551}, {\"id\": \"Z2wyFX3aqz9a9TRPRbAkfQ\", \"alias\": \"mandara-spa-orlando-2\", \"name\": \"Mandara Spa\", \"image_url\": \"https://s3-media3.fl.yelpcdn.com/bphoto/j0vu74uKf7mEWfNUWgb5bQ/o.jpg\", \"is_closed\": false, \"url\": \"https://www.yelp.com/biz/mandara-spa-orlando-2?adjust_creative=HX7Zg3hgCbFKs_FeotRdCA&utm_campaign=yelp_api_v3&utm_medium=api_v3_business_search&utm_source=HX7Zg3hgCbFKs_FeotRdCA\", \"review_count\": 52, \"categories\": [{\"alias\": \"spas\", \"title\": \"Day Spas\"}, {\"alias\": \"massage\", \"title\": \"Massage\"}, {\"alias\": \"skincare\", \"title\": \"Skin Care\"}], \"rating\": 3.0, \"coordinates\": {\"latitude\": 28.3683, \"longitude\": -81.56117}, \"transactions\": [], \"price\": \"$$$\", \"location\": {\"address1\": \"1500 Epcot Resorts Blvd\", \"address2\": \"\", \"address3\": \"\", \"city\": \"Orlando\", \"zip_code\": \"32830\", \"country\": \"US\", \"state\": \"FL\", \"display_address\": [\"1500 Epcot Resorts Blvd\", \"Orlando, FL 32830\"]}, \"phone\": \"+14079344772\", \"display_phone\": \"(407) 934-4772\", \"distance\": 23387.20753255807}, {\"id\": \"u9AXmoXM7TQYnYUk69keWw\", \"alias\": \"hand-and-stone-massage-and-facial-spa-orlando\", \"name\": \"Hand & Stone Massage and Facial Spa\", \"image_url\": \"https://s3-media4.fl.yelpcdn.com/bphoto/sc2mH2tJMgh8Cbx5LBKJRA/o.jpg\", \"is_closed\": false, \"url\": \"https://www.yelp.com/biz/hand-and-stone-massage-and-facial-spa-orlando?adjust_creative=HX7Zg3hgCbFKs_FeotRdCA&utm_campaign=yelp_api_v3&utm_medium=api_v3_business_search&utm_source=HX7Zg3hgCbFKs_FeotRdCA\", \"review_count\": 103, \"categories\": [{\"alias\": \"spas\", \"title\": \"Day Spas\"}, {\"alias\": \"massage\", \"title\": \"Massage\"}, {\"alias\": \"skincare\", \"title\": \"Skin Care\"}], \"rating\": 4.0, \"coordinates\": {\"latitude\": 28.511401, \"longitude\": -81.374982}, \"transactions\": [], \"price\": \"$$\", \"location\": {\"address1\": \"2823 S Orange Ave\", \"address2\": \"\", \"address3\": \"\", \"city\": \"Orlando\", \"zip_code\": \"32806\", \"country\": \"US\", \"state\": \"FL\", \"display_address\": [\"2823 S Orange Ave\", \"Orlando, FL 32806\"]}, \"phone\": \"+14072038926\", \"display_phone\": \"(407) 203-8926\", \"distance\": 1029.4438134965778}, {\"id\": \"zbx3Hs4KwXk1GvkHKPWAJA\", \"alias\": \"day-spa-of-oviedo-oviedo\", \"name\": \"Day Spa of Oviedo\", \"image_url\": \"https://s3-media4.fl.yelpcdn.com/bphoto/mDroRSAdBLuFPI7WhQ_xDw/o.jpg\", \"is_closed\": false, \"url\": \"https://www.yelp.com/biz/day-spa-of-oviedo-oviedo?adjust_creative=HX7Zg3hgCbFKs_FeotRdCA&utm_campaign=yelp_api_v3&utm_medium=api_v3_business_search&utm_source=HX7Zg3hgCbFKs_FeotRdCA\", \"review_count\": 4, \"categories\": [{\"alias\": \"skincare\", \"title\": \"Skin Care\"}, {\"alias\": \"spas\", \"title\": \"Day Spas\"}], \"rating\": 5.0, \"coordinates\": {\"latitude\": 28.64149, \"longitude\": -81.2085}, \"transactions\": [], \"location\": {\"address1\": \"1984 Alafaya Trl\", \"address2\": \"Ste 1012\", \"address3\": null, \"city\": \"Oviedo\", \"zip_code\": \"32765\", \"country\": \"US\", \"state\": \"FL\", \"display_address\": [\"1984 Alafaya Trl\", \"Ste 1012\", \"Oviedo, FL 32765\"]}, \"phone\": \"+14078909300\", \"display_phone\": \"(407) 890-9300\", \"distance\": 22592.4626489692}, {\"id\": \"2pLbRPaMLAmMGqvheaFv4w\", \"alias\": \"essentials-spa-and-salon-metrowest-orlando\", \"name\": \"Essentials Spa & Salon Metrowest\", \"image_url\": \"https://s3-media4.fl.yelpcdn.com/bphoto/uF0tsJFavQXd-LERVp_0Bg/o.jpg\", \"is_closed\": false, \"url\": \"https://www.yelp.com/biz/essentials-spa-and-salon-metrowest-orlando?adjust_creative=HX7Zg3hgCbFKs_FeotRdCA&utm_campaign=yelp_api_v3&utm_medium=api_v3_business_search&utm_source=HX7Zg3hgCbFKs_FeotRdCA\", \"review_count\": 161, \"categories\": [{\"alias\": \"spas\", \"title\": \"Day Spas\"}, {\"alias\": \"skincare\", \"title\": \"Skin Care\"}, {\"alias\": \"reflexology\", \"title\": \"Reflexology\"}], \"rating\": 4.0, \"coordinates\": {\"latitude\": 28.5221939755814, \"longitude\": -81.4684837460518}, \"transactions\": [], \"price\": \"$$\", \"location\": {\"address1\": \"1507 Park Center Dr\", \"address2\": \"Unit 1K\", \"address3\": \"\", \"city\": \"Orlando\", \"zip_code\": \"32835\", \"country\": \"US\", \"state\": \"FL\", \"display_address\": [\"1507 Park Center Dr\", \"Unit 1K\", \"Orlando, FL 32835\"]}, \"phone\": \"+14076012392\", \"display_phone\": \"(407) 601-2392\", \"distance\": 9197.486193506662}, {\"id\": \"y5xD_yKVqKw86uXXfA2ehA\", \"alias\": \"orlando-float-and-massage-orlando\", \"name\": \"Orlando Float & Massage\", \"image_url\": \"https://s3-media3.fl.yelpcdn.com/bphoto/vnR8lvj7hHM4s3dgG6BRvw/o.jpg\", \"is_closed\": false, \"url\": \"https://www.yelp.com/biz/orlando-float-and-massage-orlando?adjust_creative=HX7Zg3hgCbFKs_FeotRdCA&utm_campaign=yelp_api_v3&utm_medium=api_v3_business_search&utm_source=HX7Zg3hgCbFKs_FeotRdCA\", \"review_count\": 32, \"categories\": [{\"alias\": \"floatspa\", \"title\": \"Float Spa\"}, {\"alias\": \"massage_therapy\", \"title\": \"Massage Therapy\"}], \"rating\": 5.0, \"coordinates\": {\"latitude\": 28.48441, \"longitude\": -81.45947}, \"transactions\": [], \"location\": {\"address1\": \"5380 S Kirkman Rd\", \"address2\": \"\", \"address3\": null, \"city\": \"Orlando\", \"zip_code\": \"32819\", \"country\": \"US\", \"state\": \"FL\", \"display_address\": [\"5380 S Kirkman Rd\", \"Orlando, FL 32819\"]}, \"phone\": \"+14074207250\", \"display_phone\": \"(407) 420-7250\", \"distance\": 8292.18981415142}, {\"id\": \"k1sFFvGZevfbyz0HtCzrvQ\", \"alias\": \"universal-day-spa-and-massage-orlando\", \"name\": \"Universal Day Spa & Massage\", \"image_url\": \"https://s3-media2.fl.yelpcdn.com/bphoto/ZeJTPeeDNGvK2rF4CJgq2Q/o.jpg\", \"is_closed\": false, \"url\": \"https://www.yelp.com/biz/universal-day-spa-and-massage-orlando?adjust_creative=HX7Zg3hgCbFKs_FeotRdCA&utm_campaign=yelp_api_v3&utm_medium=api_v3_business_search&utm_source=HX7Zg3hgCbFKs_FeotRdCA\", \"review_count\": 20, \"categories\": [{\"alias\": \"spas\", \"title\": \"Day Spas\"}, {\"alias\": \"massage\", \"title\": \"Massage\"}, {\"alias\": \"reflexology\", \"title\": \"Reflexology\"}], \"rating\": 4.5, \"coordinates\": {\"latitude\": 28.4266505, \"longitude\": -81.44450683}, \"transactions\": [], \"price\": \"$$\", \"location\": {\"address1\": \"9938 Universal Blvd\", \"address2\": \"Ste 132\", \"address3\": null, \"city\": \"Orlando\", \"zip_code\": \"32819\", \"country\": \"US\", \"state\": \"FL\", \"display_address\": [\"9938 Universal Blvd\", \"Ste 132\", \"Orlando, FL 32819\"]}, \"phone\": \"+14073344450\", \"display_phone\": \"(407) 334-4450\", \"distance\": 10714.516501400025}, {\"id\": \"fhMElOdXa6lyCq0loP0wZw\", \"alias\": \"spa-at-rosen-centre-orlando\", \"name\": \"Spa At Rosen Centre\", \"image_url\": \"https://s3-media2.fl.yelpcdn.com/bphoto/6EKMK8O179_xiq3u7tGNeQ/o.jpg\", \"is_closed\": false, \"url\": \"https://www.yelp.com/biz/spa-at-rosen-centre-orlando?adjust_creative=HX7Zg3hgCbFKs_FeotRdCA&utm_campaign=yelp_api_v3&utm_medium=api_v3_business_search&utm_source=HX7Zg3hgCbFKs_FeotRdCA\", \"review_count\": 18, \"categories\": [{\"alias\": \"spas\", \"title\": \"Day Spas\"}], \"rating\": 3.5, \"coordinates\": {\"latitude\": 28.4254418, \"longitude\": -81.4643449}, \"transactions\": [], \"price\": \"$$$\", \"location\": {\"address1\": \"9840 Internation Dr\", \"address2\": null, \"address3\": \"\", \"city\": \"Orlando\", \"zip_code\": \"32819\", \"country\": \"US\", \"state\": \"FL\", \"display_address\": [\"9840 Internation Dr\", \"Orlando, FL 32819\"]}, \"phone\": \"+14079961248\", \"display_phone\": \"(407) 996-1248\", \"distance\": 12075.854836666633}, {\"id\": \"zK7DvbYzsPy3abS1Kw69yg\", \"alias\": \"victoria-edward-spa-winter-springs-6\", \"name\": \"Victoria Edward Spa\", \"image_url\": \"https://s3-media2.fl.yelpcdn.com/bphoto/XMeavjD0VShqhLUl6rG2Wg/o.jpg\", \"is_closed\": false, \"url\": \"https://www.yelp.com/biz/victoria-edward-spa-winter-springs-6?adjust_creative=HX7Zg3hgCbFKs_FeotRdCA&utm_campaign=yelp_api_v3&utm_medium=api_v3_business_search&utm_source=HX7Zg3hgCbFKs_FeotRdCA\", \"review_count\": 8, \"categories\": [{\"alias\": \"hair\", \"title\": \"Hair Salons\"}, {\"alias\": \"massage\", \"title\": \"Massage\"}, {\"alias\": \"skincare\", \"title\": \"Skin Care\"}], \"rating\": 5.0, \"coordinates\": {\"latitude\": 28.699255, \"longitude\": -81.26286}, \"transactions\": [], \"location\": {\"address1\": \"1186 Tree Swallow Dr\", \"address2\": \"\", \"address3\": null, \"city\": \"Winter Springs\", \"zip_code\": \"32708\", \"country\": \"US\", \"state\": \"FL\", \"display_address\": [\"1186 Tree Swallow Dr\", \"Winter Springs, FL 32708\"]}, \"phone\": \"+13217657779\", \"display_phone\": \"(321) 765-7779\", \"distance\": 24573.63476273985}, {\"id\": \"29bv6cJtqOqimmJx066wmA\", \"alias\": \"shala-salon-spa-and-turkish-bath-orlando-3\", \"name\": \"Shala Salon Spa & Turkish Bath\", \"image_url\": \"https://s3-media3.fl.yelpcdn.com/bphoto/E7MAxOOd16HRqKwyLOZ_9Q/o.jpg\", \"is_closed\": false, \"url\": \"https://www.yelp.com/biz/shala-salon-spa-and-turkish-bath-orlando-3?adjust_creative=HX7Zg3hgCbFKs_FeotRdCA&utm_campaign=yelp_api_v3&utm_medium=api_v3_business_search&utm_source=HX7Zg3hgCbFKs_FeotRdCA\", \"review_count\": 39, \"categories\": [{\"alias\": \"hair\", \"title\": \"Hair Salons\"}, {\"alias\": \"spas\", \"title\": \"Day Spas\"}, {\"alias\": \"skincare\", \"title\": \"Skin Care\"}], \"rating\": 4.0, \"coordinates\": {\"latitude\": 28.4497551, \"longitude\": -81.4887152}, \"transactions\": [], \"price\": \"$$\", \"location\": {\"address1\": \"7722 W Sand Lake Rd\", \"address2\": null, \"address3\": \"\", \"city\": \"Orlando\", \"zip_code\": \"32819\", \"country\": \"US\", \"state\": \"FL\", \"display_address\": [\"7722 W Sand Lake Rd\", \"Orlando, FL 32819\"]}, \"phone\": \"+14072488828\", \"display_phone\": \"(407) 248-8828\", \"distance\": 12361.497461807632}, {\"id\": \"dF59suc5dAPIiAAjzT2T9Q\", \"alias\": \"refresh-at-mosaic-hair-studio-orlando\", \"name\": \"Refresh At Mosaic Hair Studio\", \"image_url\": \"https://s3-media3.fl.yelpcdn.com/bphoto/MEI0xYCJvZSPKQzTO_JddA/o.jpg\", \"is_closed\": false, \"url\": \"https://www.yelp.com/biz/refresh-at-mosaic-hair-studio-orlando?adjust_creative=HX7Zg3hgCbFKs_FeotRdCA&utm_campaign=yelp_api_v3&utm_medium=api_v3_business_search&utm_source=HX7Zg3hgCbFKs_FeotRdCA\", \"review_count\": 57, \"categories\": [{\"alias\": \"skincare\", \"title\": \"Skin Care\"}, {\"alias\": \"massage\", \"title\": \"Massage\"}, {\"alias\": \"spas\", \"title\": \"Day Spas\"}], \"rating\": 5.0, \"coordinates\": {\"latitude\": 28.56429, \"longitude\": -81.37021}, \"transactions\": [], \"price\": \"$$\", \"location\": {\"address1\": \"537 Virginia Dr\", \"address2\": null, \"address3\": \"\", \"city\": \"Orlando\", \"zip_code\": \"32803\", \"country\": \"US\", \"state\": \"FL\", \"display_address\": [\"537 Virginia Dr\", \"Orlando, FL 32803\"]}, \"phone\": \"+14078963241\", \"display_phone\": \"(407) 896-3241\", \"distance\": 6915.364556574547}, {\"id\": \"a0GEvX9MjDmZDCkMl0BusA\", \"alias\": \"reflections-spa-and-salon-orlando\", \"name\": \"Reflections Spa & Salon\", \"image_url\": \"https://s3-media1.fl.yelpcdn.com/bphoto/dAxsph30Qbh0E4WqCMb1PA/o.jpg\", \"is_closed\": false, \"url\": \"https://www.yelp.com/biz/reflections-spa-and-salon-orlando?adjust_creative=HX7Zg3hgCbFKs_FeotRdCA&utm_campaign=yelp_api_v3&utm_medium=api_v3_business_search&utm_source=HX7Zg3hgCbFKs_FeotRdCA\", \"review_count\": 19, \"categories\": [{\"alias\": \"spas\", \"title\": \"Day Spas\"}], \"rating\": 4.0, \"coordinates\": {\"latitude\": 28.38028, \"longitude\": -81.47017}, \"transactions\": [], \"price\": \"$$\", \"location\": {\"address1\": \"8113 Resort Village Dr\", \"address2\": \"\", \"address3\": \"\", \"city\": \"Orlando\", \"zip_code\": \"32821\", \"country\": \"US\", \"state\": \"FL\", \"display_address\": [\"8113 Resort Village Dr\", \"Orlando, FL 32821\"]}, \"phone\": \"+14075971695\", \"display_phone\": \"(407) 597-1695\", \"distance\": 16339.735658124913}, {\"id\": \"uPNOrVSpFM8JsRpIV8PTSw\", \"alias\": \"cenote-day-spa-davenport-7\", \"name\": \"Cenote Day Spa\", \"image_url\": \"https://s3-media2.fl.yelpcdn.com/bphoto/eWR40OqI6Y8mI6sjOsTh4w/o.jpg\", \"is_closed\": false, \"url\": \"https://www.yelp.com/biz/cenote-day-spa-davenport-7?adjust_creative=HX7Zg3hgCbFKs_FeotRdCA&utm_campaign=yelp_api_v3&utm_medium=api_v3_business_search&utm_source=HX7Zg3hgCbFKs_FeotRdCA\", \"review_count\": 26, \"categories\": [{\"alias\": \"spas\", \"title\": \"Day Spas\"}, {\"alias\": \"othersalons\", \"title\": \"Nail Salons\"}, {\"alias\": \"massage_therapy\", \"title\": \"Massage Therapy\"}], \"rating\": 5.0, \"coordinates\": {\"latitude\": 28.323846, \"longitude\": -81.659036}, \"transactions\": [], \"price\": \"$$\", \"location\": {\"address1\": \"400 Gran Bahama Blvd\", \"address2\": null, \"address3\": \"\", \"city\": \"Davenport\", \"zip_code\": \"33897\", \"country\": \"US\", \"state\": \"FL\", \"display_address\": [\"400 Gran Bahama Blvd\", \"Davenport, FL 33897\"]}, \"phone\": \"+18635471605\", \"display_phone\": \"(863) 547-1605\", \"distance\": 33972.894949634414}, {\"id\": \"Qa2Iel8NNZDnsrmcfFaoZA\", \"alias\": \"orlando-spa-oasis-orlando-4\", \"name\": \"Orlando Spa Oasis\", \"image_url\": \"https://s3-media4.fl.yelpcdn.com/bphoto/vKLuauv6ygyebk2wjVrOdg/o.jpg\", \"is_closed\": false, \"url\": \"https://www.yelp.com/biz/orlando-spa-oasis-orlando-4?adjust_creative=HX7Zg3hgCbFKs_FeotRdCA&utm_campaign=yelp_api_v3&utm_medium=api_v3_business_search&utm_source=HX7Zg3hgCbFKs_FeotRdCA\", \"review_count\": 20, \"categories\": [{\"alias\": \"massage\", \"title\": \"Massage\"}, {\"alias\": \"skincare\", \"title\": \"Skin Care\"}, {\"alias\": \"reflexology\", \"title\": \"Reflexology\"}], \"rating\": 5.0, \"coordinates\": {\"latitude\": 28.4077622, \"longitude\": -81.449677}, \"transactions\": [], \"location\": {\"address1\": \"5454 Central Florida Pkwy\", \"address2\": null, \"address3\": \"\", \"city\": \"Orlando\", \"zip_code\": \"32821\", \"country\": \"US\", \"state\": \"FL\", \"display_address\": [\"5454 Central Florida Pkwy\", \"Orlando, FL 32821\"]}, \"phone\": \"+14078680953\", \"display_phone\": \"(407) 868-0953\", \"distance\": 12696.278620019175}, {\"id\": \"qysujT9oIaOXmCsXJfiJDQ\", \"alias\": \"the-green-leaf-spa-orlando-2\", \"name\": \"The Green Leaf Spa\", \"image_url\": \"https://s3-media3.fl.yelpcdn.com/bphoto/fcp5ZUGB8shEizsPePwgbw/o.jpg\", \"is_closed\": false, \"url\": \"https://www.yelp.com/biz/the-green-leaf-spa-orlando-2?adjust_creative=HX7Zg3hgCbFKs_FeotRdCA&utm_campaign=yelp_api_v3&utm_medium=api_v3_business_search&utm_source=HX7Zg3hgCbFKs_FeotRdCA\", \"review_count\": 6, \"categories\": [{\"alias\": \"spas\", \"title\": \"Day Spas\"}, {\"alias\": \"massage\", \"title\": \"Massage\"}, {\"alias\": \"waxing\", \"title\": \"Waxing\"}], \"rating\": 4.0, \"coordinates\": {\"latitude\": 28.39311, \"longitude\": -81.26631}, \"transactions\": [], \"price\": \"$$$\", \"location\": {\"address1\": \"8524 Insular Ln\", \"address2\": \"Ste 102\", \"address3\": \"\", \"city\": \"Orlando\", \"zip_code\": \"32827\", \"country\": \"US\", \"state\": \"FL\", \"display_address\": [\"8524 Insular Ln\", \"Ste 102\", \"Orlando, FL 32827\"]}, \"phone\": \"+14074594921\", \"display_phone\": \"(407) 459-4921\", \"distance\": 16246.161019383726}, {\"id\": \"Hle6IkqiberYuIy1StezjA\", \"alias\": \"room-of-beauty-body-and-soul-winter-park\", \"name\": \"Room of Beauty Body And Soul\", \"image_url\": \"https://s3-media3.fl.yelpcdn.com/bphoto/7mJ6Wf1JUQFdPUXIUl6Wlg/o.jpg\", \"is_closed\": false, \"url\": \"https://www.yelp.com/biz/room-of-beauty-body-and-soul-winter-park?adjust_creative=HX7Zg3hgCbFKs_FeotRdCA&utm_campaign=yelp_api_v3&utm_medium=api_v3_business_search&utm_source=HX7Zg3hgCbFKs_FeotRdCA\", \"review_count\": 17, \"categories\": [{\"alias\": \"skincare\", \"title\": \"Skin Care\"}, {\"alias\": \"massage_therapy\", \"title\": \"Massage Therapy\"}, {\"alias\": \"waxing\", \"title\": \"Waxing\"}], \"rating\": 5.0, \"coordinates\": {\"latitude\": 28.59144, \"longitude\": -81.37382}, \"transactions\": [], \"price\": \"$$$\", \"location\": {\"address1\": \"1801 Oglesby Ave\", \"address2\": \"\", \"address3\": \"\", \"city\": \"Winter Park\", \"zip_code\": \"32789\", \"country\": \"US\", \"state\": \"FL\", \"display_address\": [\"1801 Oglesby Ave\", \"Winter Park, FL 32789\"]}, \"phone\": \"+14072522340\", \"display_phone\": \"(407) 252-2340\", \"distance\": 9916.792213830518}, {\"id\": \"TJFfCHe9R9WmNiPlU6t8Vw\", \"alias\": \"j-sterlings-wellness-spa-winter-park-winter-park-4\", \"name\": \"J Sterling\\'s Wellness Spa  - Winter Park\", \"image_url\": \"https://s3-media1.fl.yelpcdn.com/bphoto/v2f-jwpAeK2z8IwUdu-9Uw/o.jpg\", \"is_closed\": false, \"url\": \"https://www.yelp.com/biz/j-sterlings-wellness-spa-winter-park-winter-park-4?adjust_creative=HX7Zg3hgCbFKs_FeotRdCA&utm_campaign=yelp_api_v3&utm_medium=api_v3_business_search&utm_source=HX7Zg3hgCbFKs_FeotRdCA\", \"review_count\": 114, \"categories\": [{\"alias\": \"massage_therapy\", \"title\": \"Massage Therapy\"}, {\"alias\": \"skincare\", \"title\": \"Skin Care\"}, {\"alias\": \"waxing\", \"title\": \"Waxing\"}], \"rating\": 4.5, \"coordinates\": {\"latitude\": 28.6114483, \"longitude\": -81.277005}, \"transactions\": [], \"price\": \"$\", \"location\": {\"address1\": \"6001 Brick Ct\", \"address2\": null, \"address3\": \"\", \"city\": \"Winter Park\", \"zip_code\": \"32792\", \"country\": \"US\", \"state\": \"FL\", \"display_address\": [\"6001 Brick Ct\", \"Winter Park, FL 32792\"]}, \"phone\": \"+14077752620\", \"display_phone\": \"(407) 775-2620\", \"distance\": 15581.779704513847}, {\"id\": \"-MP_csNViY2OrrIvZi9X0Q\", \"alias\": \"bella-toscana-spa-tavares\", \"name\": \"Bella Toscana Spa\", \"image_url\": \"https://s3-media2.fl.yelpcdn.com/bphoto/ZXZzcTnxTYkIPxy_qOj7Tw/o.jpg\", \"is_closed\": false, \"url\": \"https://www.yelp.com/biz/bella-toscana-spa-tavares?adjust_creative=HX7Zg3hgCbFKs_FeotRdCA&utm_campaign=yelp_api_v3&utm_medium=api_v3_business_search&utm_source=HX7Zg3hgCbFKs_FeotRdCA\", \"review_count\": 9, \"categories\": [{\"alias\": \"spas\", \"title\": \"Day Spas\"}, {\"alias\": \"medicalspa\", \"title\": \"Medical Spas\"}], \"rating\": 4.5, \"coordinates\": {\"latitude\": 28.818044, \"longitude\": -81.713728}, \"transactions\": [], \"price\": \"$$\", \"location\": {\"address1\": \"1699 Mayo Dr\", \"address2\": null, \"address3\": \"\", \"city\": \"Tavares\", \"zip_code\": \"32778\", \"country\": \"US\", \"state\": \"FL\", \"display_address\": [\"1699 Mayo Dr\", \"Tavares, FL 32778\"]}, \"phone\": \"+13527427727\", \"display_phone\": \"(352) 742-7727\", \"distance\": 48074.46769128604}, {\"id\": \"gSTgFk7hga7t1lFZjxpIdg\", \"alias\": \"spawell-orlando\", \"name\": \"SpaWell\", \"image_url\": \"https://s3-media2.fl.yelpcdn.com/bphoto/-EwD4-J8z_8NqSrI7m4ugA/o.jpg\", \"is_closed\": false, \"url\": \"https://www.yelp.com/biz/spawell-orlando?adjust_creative=HX7Zg3hgCbFKs_FeotRdCA&utm_campaign=yelp_api_v3&utm_medium=api_v3_business_search&utm_source=HX7Zg3hgCbFKs_FeotRdCA\", \"review_count\": 10, \"categories\": [{\"alias\": \"hair\", \"title\": \"Hair Salons\"}, {\"alias\": \"spas\", \"title\": \"Day Spas\"}, {\"alias\": \"massage\", \"title\": \"Massage\"}], \"rating\": 4.5, \"coordinates\": {\"latitude\": 28.42492517221693, \"longitude\": -81.2538185318723}, \"transactions\": [], \"location\": {\"address1\": \"9682 Lake Nona Village Pl\", \"address2\": \"\", \"address3\": \"Somerby Building\", \"city\": \"Orlando\", \"zip_code\": \"32827\", \"country\": \"US\", \"state\": \"FL\", \"display_address\": [\"9682 Lake Nona Village Pl\", \"Somerby Building\", \"Orlando, FL 32827\"]}, \"phone\": \"+13212479028\", \"display_phone\": \"(321) 247-9028\", \"distance\": 14809.840359922739}, {\"id\": \"-xlmUkoiXbtMMAwCP_ZQTg\", \"alias\": \"vivians-day-spa-kissimmee-2\", \"name\": \"Vivian\\'s Day Spa\", \"image_url\": \"https://s3-media4.fl.yelpcdn.com/bphoto/zGwm26UkcMV2b0ce7EahGQ/o.jpg\", \"is_closed\": false, \"url\": \"https://www.yelp.com/biz/vivians-day-spa-kissimmee-2?adjust_creative=HX7Zg3hgCbFKs_FeotRdCA&utm_campaign=yelp_api_v3&utm_medium=api_v3_business_search&utm_source=HX7Zg3hgCbFKs_FeotRdCA\", \"review_count\": 57, \"categories\": [{\"alias\": \"spas\", \"title\": \"Day Spas\"}], \"rating\": 4.5, \"coordinates\": {\"latitude\": 28.3296948395181, \"longitude\": -81.5159968509262}, \"transactions\": [], \"price\": \"$$\", \"location\": {\"address1\": \"5770 W Irlo Bronson Memorial Hwy\", \"address2\": \"Ste 330\", \"address3\": \"\", \"city\": \"Kissimmee\", \"zip_code\": \"34746\", \"country\": \"US\", \"state\": \"FL\", \"display_address\": [\"5770 W Irlo Bronson Memorial Hwy\", \"Ste 330\", \"Kissimmee, FL 34746\"]}, \"phone\": \"+14073978951\", \"display_phone\": \"(407) 397-8951\", \"distance\": 23516.119674312642}, {\"id\": \"rSFdp6hngnt7DOCPtsktgg\", \"alias\": \"indigo-spa-and-wellness-center-windermere-2\", \"name\": \"Indigo Spa and Wellness Center\", \"image_url\": \"https://s3-media4.fl.yelpcdn.com/bphoto/_JJZcoKzjbQq-QdMQMN9Eg/o.jpg\", \"is_closed\": false, \"url\": \"https://www.yelp.com/biz/indigo-spa-and-wellness-center-windermere-2?adjust_creative=HX7Zg3hgCbFKs_FeotRdCA&utm_campaign=yelp_api_v3&utm_medium=api_v3_business_search&utm_source=HX7Zg3hgCbFKs_FeotRdCA\", \"review_count\": 26, \"categories\": [{\"alias\": \"massage\", \"title\": \"Massage\"}, {\"alias\": \"reflexology\", \"title\": \"Reflexology\"}, {\"alias\": \"skincare\", \"title\": \"Skin Care\"}], \"rating\": 4.5, \"coordinates\": {\"latitude\": 28.4857501983643, \"longitude\": -81.5941314697266}, \"transactions\": [], \"price\": \"$$\", \"location\": {\"address1\": \"13790 Bridgewater Crossing Blvd\", \"address2\": null, \"address3\": \"\", \"city\": \"Windermere\", \"zip_code\": \"34786\", \"country\": \"US\", \"state\": \"FL\", \"display_address\": [\"13790 Bridgewater Crossing Blvd\", \"Windermere, FL 34786\"]}, \"phone\": \"+14073470505\", \"display_phone\": \"(407) 347-0505\", \"distance\": 21136.43560387342}, {\"id\": \"qvAT-qW_MlfEU-87GlU_7A\", \"alias\": \"essential-therapies-garden-spa-mount-dora\", \"name\": \"Essential Therapies Garden Spa\", \"image_url\": \"https://s3-media3.fl.yelpcdn.com/bphoto/uaqpb0BNogVMZn6XAhQ8TQ/o.jpg\", \"is_closed\": false, \"url\": \"https://www.yelp.com/biz/essential-therapies-garden-spa-mount-dora?adjust_creative=HX7Zg3hgCbFKs_FeotRdCA&utm_campaign=yelp_api_v3&utm_medium=api_v3_business_search&utm_source=HX7Zg3hgCbFKs_FeotRdCA\", \"review_count\": 4, \"categories\": [{\"alias\": \"massage\", \"title\": \"Massage\"}, {\"alias\": \"spas\", \"title\": \"Day Spas\"}, {\"alias\": \"skincare\", \"title\": \"Skin Care\"}], \"rating\": 3.5, \"coordinates\": {\"latitude\": 28.81032, \"longitude\": -81.64448}, \"transactions\": [], \"price\": \"$$\", \"location\": {\"address1\": \"1518 N Donnelly St\", \"address2\": \"\", \"address3\": \"\", \"city\": \"Mount Dora\", \"zip_code\": \"32757\", \"country\": \"US\", \"state\": \"FL\", \"display_address\": [\"1518 N Donnelly St\", \"Mount Dora, FL 32757\"]}, \"phone\": \"+13527350044\", \"display_phone\": \"(352) 735-0044\", \"distance\": 43045.767829994125}, {\"id\": \"tSBIRvu9JO4-sFM1E3ogUQ\", \"alias\": \"heavenly-foot-massage-orlando\", \"name\": \"Heavenly Foot Massage\", \"image_url\": \"https://s3-media3.fl.yelpcdn.com/bphoto/mMLRfQoiQgfu4vSAUPAWyA/o.jpg\", \"is_closed\": false, \"url\": \"https://www.yelp.com/biz/heavenly-foot-massage-orlando?adjust_creative=HX7Zg3hgCbFKs_FeotRdCA&utm_campaign=yelp_api_v3&utm_medium=api_v3_business_search&utm_source=HX7Zg3hgCbFKs_FeotRdCA\", \"review_count\": 35, \"categories\": [{\"alias\": \"massage\", \"title\": \"Massage\"}], \"rating\": 4.5, \"coordinates\": {\"latitude\": 28.54339, \"longitude\": -81.36871}, \"transactions\": [], \"price\": \"$$\", \"location\": {\"address1\": \"30 N Summerlin Ave\", \"address2\": null, \"address3\": \"\", \"city\": \"Orlando\", \"zip_code\": \"32801\", \"country\": \"US\", \"state\": \"FL\", \"display_address\": [\"30 N Summerlin Ave\", \"Orlando, FL 32801\"]}, \"phone\": \"+13212367708\", \"display_phone\": \"(321) 236-7708\", \"distance\": 4633.222533724461}, {\"id\": \"tyHw1lw5g4lQYJkDeRmYfA\", \"alias\": \"the-spa-at-orlando-world-center-orlando\", \"name\": \"The Spa at Orlando World Center\", \"image_url\": \"https://s3-media4.fl.yelpcdn.com/bphoto/AjNJ9kkxSERB-iTdN6fuqg/o.jpg\", \"is_closed\": false, \"url\": \"https://www.yelp.com/biz/the-spa-at-orlando-world-center-orlando?adjust_creative=HX7Zg3hgCbFKs_FeotRdCA&utm_campaign=yelp_api_v3&utm_medium=api_v3_business_search&utm_source=HX7Zg3hgCbFKs_FeotRdCA\", \"review_count\": 2, \"categories\": [{\"alias\": \"spas\", \"title\": \"Day Spas\"}, {\"alias\": \"massage\", \"title\": \"Massage\"}, {\"alias\": \"skincare\", \"title\": \"Skin Care\"}], \"rating\": 4.5, \"coordinates\": {\"latitude\": 28.3617324829102, \"longitude\": -81.5119857788086}, \"transactions\": [], \"price\": \"$$$$\", \"location\": {\"address1\": \"8701 World Center Dr\", \"address2\": \"\", \"address3\": \"\", \"city\": \"Orlando\", \"zip_code\": \"32821\", \"country\": \"US\", \"state\": \"FL\", \"display_address\": [\"8701 World Center Dr\", \"Orlando, FL 32821\"]}, \"phone\": \"+14072388705\", \"display_phone\": \"(407) 238-8705\", \"distance\": 20454.134846786113}, {\"id\": \"UoD5DnM1eBpb7HrHJHFEzQ\", \"alias\": \"the-spa-at-celebration-in-mirasol-celebration-2\", \"name\": \"The Spa At Celebration in Mirasol\", \"image_url\": \"https://s3-media4.fl.yelpcdn.com/bphoto/rGJLU_akQDblBqKDVFxmJg/o.jpg\", \"is_closed\": false, \"url\": \"https://www.yelp.com/biz/the-spa-at-celebration-in-mirasol-celebration-2?adjust_creative=HX7Zg3hgCbFKs_FeotRdCA&utm_campaign=yelp_api_v3&utm_medium=api_v3_business_search&utm_source=HX7Zg3hgCbFKs_FeotRdCA\", \"review_count\": 10, \"categories\": [{\"alias\": \"massage\", \"title\": \"Massage\"}, {\"alias\": \"spas\", \"title\": \"Day Spas\"}, {\"alias\": \"permanentmakeup\", \"title\": \"Permanent Makeup\"}], \"rating\": 4.5, \"coordinates\": {\"latitude\": 28.3205411, \"longitude\": -81.5350716}, \"transactions\": [], \"price\": \"$$\", \"location\": {\"address1\": \"501 Mirasol Cir\", \"address2\": null, \"address3\": null, \"city\": \"Celebration\", \"zip_code\": \"34747\", \"country\": \"US\", \"state\": \"FL\", \"display_address\": [\"501 Mirasol Cir\", \"Celebration, FL 34747\"]}, \"phone\": \"+14075662810\", \"display_phone\": \"(407) 566-2810\", \"distance\": 25442.10173338113}, {\"id\": \"RJ-0ujp5h_ABTe_7I4AU9A\", \"alias\": \"synergy-salonspa-mount-dora-3\", \"name\": \"Synergy Salonspa\", \"image_url\": \"https://s3-media2.fl.yelpcdn.com/bphoto/NmifrK88Xh7nJch90KZjPg/o.jpg\", \"is_closed\": false, \"url\": \"https://www.yelp.com/biz/synergy-salonspa-mount-dora-3?adjust_creative=HX7Zg3hgCbFKs_FeotRdCA&utm_campaign=yelp_api_v3&utm_medium=api_v3_business_search&utm_source=HX7Zg3hgCbFKs_FeotRdCA\", \"review_count\": 12, \"categories\": [{\"alias\": \"hair\", \"title\": \"Hair Salons\"}, {\"alias\": \"othersalons\", \"title\": \"Nail Salons\"}, {\"alias\": \"skincare\", \"title\": \"Skin Care\"}], \"rating\": 4.5, \"coordinates\": {\"latitude\": 28.79896, \"longitude\": -81.64398}, \"transactions\": [], \"price\": \"$$\", \"location\": {\"address1\": \"301 N Baker St\", \"address2\": \"Ste 1\", \"address3\": \"\", \"city\": \"Mount Dora\", \"zip_code\": \"32757\", \"country\": \"US\", \"state\": \"FL\", \"display_address\": [\"301 N Baker St\", \"Ste 1\", \"Mount Dora, FL 32757\"]}, \"phone\": \"+13523832900\", \"display_phone\": \"(352) 383-2900\", \"distance\": 42028.27794252168}], \"total\": 1700, \"region\": {\"center\": {\"longitude\": -81.37710571289062, \"latitude\": 28.502333027646777}}}'"
      ]
     },
     "execution_count": 57,
     "metadata": {},
     "output_type": "execute_result"
    }
   ],
   "source": [
    "response.text"
   ]
  },
  {
   "cell_type": "code",
   "execution_count": 58,
   "metadata": {},
   "outputs": [],
   "source": [
    "data = json.loads(response.text)"
   ]
  },
  {
   "cell_type": "code",
   "execution_count": 59,
   "metadata": {},
   "outputs": [
    {
     "name": "stdout",
     "output_type": "stream",
     "text": [
      "businesses\n",
      "<class 'list'>\n",
      "total\n",
      "<class 'int'>\n",
      "region\n",
      "<class 'dict'>\n"
     ]
    }
   ],
   "source": [
    "for key in data.keys(): \n",
    "    print(key)\n",
    "    print(type(data[key]))"
   ]
  },
  {
   "cell_type": "code",
   "execution_count": 60,
   "metadata": {},
   "outputs": [
    {
     "data": {
      "text/plain": [
       "1700"
      ]
     },
     "execution_count": 60,
     "metadata": {},
     "output_type": "execute_result"
    }
   ],
   "source": [
    "data['total']"
   ]
  },
  {
   "cell_type": "code",
   "execution_count": 61,
   "metadata": {},
   "outputs": [
    {
     "data": {
      "text/plain": [
       "50"
      ]
     },
     "execution_count": 61,
     "metadata": {},
     "output_type": "execute_result"
    }
   ],
   "source": [
    "len(data['businesses'])"
   ]
  },
  {
   "cell_type": "code",
   "execution_count": 62,
   "metadata": {},
   "outputs": [
    {
     "data": {
      "text/plain": [
       "{'id': 'Y6Ywqa4u1GKNEhM6ZzbDpg',\n",
       " 'alias': 'the-spa-orlando',\n",
       " 'name': 'The Spa',\n",
       " 'image_url': 'https://s3-media2.fl.yelpcdn.com/bphoto/u16AfZT26Yld62IgH5Z3ig/o.jpg',\n",
       " 'is_closed': False,\n",
       " 'url': 'https://www.yelp.com/biz/the-spa-orlando?adjust_creative=HX7Zg3hgCbFKs_FeotRdCA&utm_campaign=yelp_api_v3&utm_medium=api_v3_business_search&utm_source=HX7Zg3hgCbFKs_FeotRdCA',\n",
       " 'review_count': 393,\n",
       " 'categories': [{'alias': 'spas', 'title': 'Day Spas'},\n",
       "  {'alias': 'massage', 'title': 'Massage'},\n",
       "  {'alias': 'skincare', 'title': 'Skin Care'}],\n",
       " 'rating': 3.5,\n",
       " 'coordinates': {'latitude': 28.5755896872417, 'longitude': -81.3897647059506},\n",
       " 'transactions': [],\n",
       " 'price': '$$',\n",
       " 'location': {'address1': '2626 Edgewater Dr',\n",
       "  'address2': '',\n",
       "  'address3': '',\n",
       "  'city': 'Orlando',\n",
       "  'zip_code': '32804',\n",
       "  'country': 'US',\n",
       "  'state': 'FL',\n",
       "  'display_address': ['2626 Edgewater Dr', 'Orlando, FL 32804']},\n",
       " 'phone': '+14078987737',\n",
       " 'display_phone': '(407) 898-7737',\n",
       " 'distance': 8239.085479713352}"
      ]
     },
     "execution_count": 62,
     "metadata": {},
     "output_type": "execute_result"
    }
   ],
   "source": [
    "business = data['businesses'][0]\n",
    "business"
   ]
  },
  {
   "cell_type": "code",
   "execution_count": 33,
   "metadata": {},
   "outputs": [
    {
     "data": {
      "text/plain": [
       "'https://api.yelp.com/v3/businesses/HrTHjKD-zbS2GvbDCeS54Q/reviews'"
      ]
     },
     "execution_count": 33,
     "metadata": {},
     "output_type": "execute_result"
    }
   ],
   "source": [
    "url2 = 'https://api.yelp.com/v3/businesses/HrTHjKD-zbS2GvbDCeS54Q/reviews' \n",
    "url2"
   ]
  },
  {
   "cell_type": "code",
   "execution_count": 34,
   "metadata": {},
   "outputs": [
    {
     "data": {
      "text/plain": [
       "'https://api.yelp.com/v3/businesses/{id}/reviews'"
      ]
     },
     "execution_count": 34,
     "metadata": {},
     "output_type": "execute_result"
    }
   ],
   "source": [
    "url3 = 'https://api.yelp.com/v3/businesses/{}/reviews'.format(business_id) \n",
    "url3"
   ]
  },
  {
   "cell_type": "code",
   "execution_count": 36,
   "metadata": {
    "collapsed": true,
    "jupyter": {
     "outputs_hidden": true
    }
   },
   "outputs": [
    {
     "data": {
      "text/plain": [
       "'{\"reviews\": [{\"id\": \"mqdvNt5uBHwAvU3-Ub9Y5Q\", \"url\": \"https://www.yelp.com/biz/biltmore-spa-coral-gables-2?adjust_creative=HX7Zg3hgCbFKs_FeotRdCA&hrid=mqdvNt5uBHwAvU3-Ub9Y5Q&utm_campaign=yelp_api_v3&utm_medium=api_v3_business_reviews&utm_source=HX7Zg3hgCbFKs_FeotRdCA\", \"text\": \"As a Miami native, I have to say this was my first time coming to the Biltmore and I was impressed by how beautiful this build was. \\\\n\\\\nWe checked in for a...\", \"rating\": 5, \"time_created\": \"2020-03-10 19:11:32\", \"user\": {\"id\": \"if16kn7WWP5Yw82YT50VFQ\", \"profile_url\": \"https://www.yelp.com/user_details?userid=if16kn7WWP5Yw82YT50VFQ\", \"image_url\": \"https://s3-media1.fl.yelpcdn.com/photo/Q5HCqedn3ZXnBKYWbgWSCA/o.jpg\", \"name\": \"Nick D.\"}}, {\"id\": \"ZWGprAaEj7ofn8bVJJW15g\", \"url\": \"https://www.yelp.com/biz/biltmore-spa-coral-gables-2?adjust_creative=HX7Zg3hgCbFKs_FeotRdCA&hrid=ZWGprAaEj7ofn8bVJJW15g&utm_campaign=yelp_api_v3&utm_medium=api_v3_business_reviews&utm_source=HX7Zg3hgCbFKs_FeotRdCA\", \"text\": \"The Biltmore is already a beautiful hotel to begin with. My mom and I went to get a 70 minute mind and body deep tissue massage and it was heavenly. We went...\", \"rating\": 5, \"time_created\": \"2019-07-16 19:46:11\", \"user\": {\"id\": \"myAY49URs2__sZIY4YDjRw\", \"profile_url\": \"https://www.yelp.com/user_details?userid=myAY49URs2__sZIY4YDjRw\", \"image_url\": \"https://s3-media1.fl.yelpcdn.com/photo/gU9WKEOtRdF002E_pvKSzA/o.jpg\", \"name\": \"Kristina S.\"}}, {\"id\": \"DdZMUY0cWmZ5GghBg4aN4g\", \"url\": \"https://www.yelp.com/biz/biltmore-spa-coral-gables-2?adjust_creative=HX7Zg3hgCbFKs_FeotRdCA&hrid=DdZMUY0cWmZ5GghBg4aN4g&utm_campaign=yelp_api_v3&utm_medium=api_v3_business_reviews&utm_source=HX7Zg3hgCbFKs_FeotRdCA\", \"text\": \"Great place to relax and unwind. Purchase a  gift card which is universal and use in\\\\nSpa or for brunch/lunch or stay.\\\\nThe\\\\nMost beautiful pool and...\", \"rating\": 5, \"time_created\": \"2019-12-16 20:04:37\", \"user\": {\"id\": \"T4bKpy8-BT27L_nfWdlVqQ\", \"profile_url\": \"https://www.yelp.com/user_details?userid=T4bKpy8-BT27L_nfWdlVqQ\", \"image_url\": \"https://s3-media1.fl.yelpcdn.com/photo/OMJpqQC2PdG7wBcTcpvEvw/o.jpg\", \"name\": \"Amy Jo A.\"}}], \"total\": 101, \"possible_languages\": [\"en\", \"zh\"]}'"
      ]
     },
     "execution_count": 36,
     "metadata": {},
     "output_type": "execute_result"
    }
   ],
   "source": [
    "response2 = requests.get(url2, headers=headers)\n",
    "response2.text"
   ]
  },
  {
   "cell_type": "code",
   "execution_count": 39,
   "metadata": {
    "collapsed": true,
    "jupyter": {
     "outputs_hidden": true
    }
   },
   "outputs": [
    {
     "data": {
      "text/plain": [
       "{'reviews': [{'id': 'mqdvNt5uBHwAvU3-Ub9Y5Q',\n",
       "   'url': 'https://www.yelp.com/biz/biltmore-spa-coral-gables-2?adjust_creative=HX7Zg3hgCbFKs_FeotRdCA&hrid=mqdvNt5uBHwAvU3-Ub9Y5Q&utm_campaign=yelp_api_v3&utm_medium=api_v3_business_reviews&utm_source=HX7Zg3hgCbFKs_FeotRdCA',\n",
       "   'text': 'As a Miami native, I have to say this was my first time coming to the Biltmore and I was impressed by how beautiful this build was. \\n\\nWe checked in for a...',\n",
       "   'rating': 5,\n",
       "   'time_created': '2020-03-10 19:11:32',\n",
       "   'user': {'id': 'if16kn7WWP5Yw82YT50VFQ',\n",
       "    'profile_url': 'https://www.yelp.com/user_details?userid=if16kn7WWP5Yw82YT50VFQ',\n",
       "    'image_url': 'https://s3-media1.fl.yelpcdn.com/photo/Q5HCqedn3ZXnBKYWbgWSCA/o.jpg',\n",
       "    'name': 'Nick D.'}},\n",
       "  {'id': 'ZWGprAaEj7ofn8bVJJW15g',\n",
       "   'url': 'https://www.yelp.com/biz/biltmore-spa-coral-gables-2?adjust_creative=HX7Zg3hgCbFKs_FeotRdCA&hrid=ZWGprAaEj7ofn8bVJJW15g&utm_campaign=yelp_api_v3&utm_medium=api_v3_business_reviews&utm_source=HX7Zg3hgCbFKs_FeotRdCA',\n",
       "   'text': 'The Biltmore is already a beautiful hotel to begin with. My mom and I went to get a 70 minute mind and body deep tissue massage and it was heavenly. We went...',\n",
       "   'rating': 5,\n",
       "   'time_created': '2019-07-16 19:46:11',\n",
       "   'user': {'id': 'myAY49URs2__sZIY4YDjRw',\n",
       "    'profile_url': 'https://www.yelp.com/user_details?userid=myAY49URs2__sZIY4YDjRw',\n",
       "    'image_url': 'https://s3-media1.fl.yelpcdn.com/photo/gU9WKEOtRdF002E_pvKSzA/o.jpg',\n",
       "    'name': 'Kristina S.'}},\n",
       "  {'id': 'DdZMUY0cWmZ5GghBg4aN4g',\n",
       "   'url': 'https://www.yelp.com/biz/biltmore-spa-coral-gables-2?adjust_creative=HX7Zg3hgCbFKs_FeotRdCA&hrid=DdZMUY0cWmZ5GghBg4aN4g&utm_campaign=yelp_api_v3&utm_medium=api_v3_business_reviews&utm_source=HX7Zg3hgCbFKs_FeotRdCA',\n",
       "   'text': 'Great place to relax and unwind. Purchase a  gift card which is universal and use in\\nSpa or for brunch/lunch or stay.\\nThe\\nMost beautiful pool and...',\n",
       "   'rating': 5,\n",
       "   'time_created': '2019-12-16 20:04:37',\n",
       "   'user': {'id': 'T4bKpy8-BT27L_nfWdlVqQ',\n",
       "    'profile_url': 'https://www.yelp.com/user_details?userid=T4bKpy8-BT27L_nfWdlVqQ',\n",
       "    'image_url': 'https://s3-media1.fl.yelpcdn.com/photo/OMJpqQC2PdG7wBcTcpvEvw/o.jpg',\n",
       "    'name': 'Amy Jo A.'}}],\n",
       " 'total': 101,\n",
       " 'possible_languages': ['en', 'zh']}"
      ]
     },
     "execution_count": 39,
     "metadata": {},
     "output_type": "execute_result"
    }
   ],
   "source": [
    "data2 = json.loads(response2.text) \n",
    "data2"
   ]
  },
  {
   "cell_type": "code",
   "execution_count": 37,
   "metadata": {},
   "outputs": [
    {
     "data": {
      "text/plain": [
       "'{\"error\": {\"code\": \"VALIDATION_ERROR\", \"description\": \"\\'{id}\\' is not a \\'business-id-or-alias\\'\", \"field\": \"business_id\", \"instance\": \"{id}\"}}'"
      ]
     },
     "execution_count": 37,
     "metadata": {},
     "output_type": "execute_result"
    }
   ],
   "source": [
    "response3 = requests.get(url3, headers=headers, params=url_params)\n",
    "response3.text"
   ]
  },
  {
   "cell_type": "markdown",
   "metadata": {},
   "source": [
    "## Part 2 - Set up the DB\n",
    "\n",
    "Now that you are familiar with the data, create your SQL queries to create the DB and the appropriate tables. "
   ]
  },
  {
   "cell_type": "markdown",
   "metadata": {},
   "source": [
    "### Foriegn Keys\n",
    "\n",
    "For this project you will have two tables that you need to link using a foreign key. Below is some information about how to create a foriegn key.  \n",
    "\n",
    "https://www.sqlitetutorial.net/sqlite-foreign-key/\n"
   ]
  },
  {
   "cell_type": "markdown",
   "metadata": {},
   "source": [
    "### Using DB:\n",
    "    \n",
    "For this lab, you can either store the data on one DB or put in on both of the partners DBs. If you decide to put it on one DB, you want to make sure both partners have access to it.  To do this you want to add a user to your DB.  \n",
    "\n",
    "[how to add a new user](https://howchoo.com/g/mtm3zdq2nzv/how-to-add-a-mysql-user-and-grant-privileges)"
   ]
  },
  {
   "cell_type": "code",
   "execution_count": 26,
   "metadata": {},
   "outputs": [],
   "source": [
    "## Connect to local SQLite instance \n",
    "import sqlite3 \n",
    "import pandas as pd"
   ]
  },
  {
   "cell_type": "code",
   "execution_count": 29,
   "metadata": {},
   "outputs": [],
   "source": [
    "## Create new DB  \n",
    "\n",
    "conn = sqlite3.connect('yelpspa.db')\n",
    "cur = conn.cursor()\n",
    "\n",
    "conn.commit() \n",
    "cur.close() \n",
    "conn.close()"
   ]
  },
  {
   "cell_type": "code",
   "execution_count": 30,
   "metadata": {},
   "outputs": [],
   "source": [
    "conn = sqlite3.connect('yelpspa.db')\n",
    "cur = conn.cursor()"
   ]
  },
  {
   "cell_type": "code",
   "execution_count": 31,
   "metadata": {},
   "outputs": [],
   "source": [
    "# Create a table for the Businesses \n",
    "\n",
    "cur.execute(\"\"\"CREATE TABLE business (\n",
    "                                id TEXT PRIMARY KEY,\n",
    "                                name TEXT,\n",
    "                                is_closed NUMERIC,\n",
    "                                review_count INTEGER,\n",
    "                                categories TEXT, \n",
    "                                rating INTEGER, \n",
    "                                price TEXT, \n",
    "                                location_city TEXT,\n",
    "                                location_zipcode INTEGER)          \n",
    "            \"\"\") \n",
    "\n",
    "conn.commit()"
   ]
  },
  {
   "cell_type": "code",
   "execution_count": 50,
   "metadata": {},
   "outputs": [
    {
     "data": {
      "text/plain": [
       "{'id': 'HrTHjKD-zbS2GvbDCeS54Q',\n",
       " 'alias': 'biltmore-spa-coral-gables-2',\n",
       " 'name': 'Biltmore Spa',\n",
       " 'image_url': 'https://s3-media4.fl.yelpcdn.com/bphoto/D8t1ANLkB2Y7IRpxKpBGeA/o.jpg',\n",
       " 'is_closed': False,\n",
       " 'url': 'https://www.yelp.com/biz/biltmore-spa-coral-gables-2?adjust_creative=HX7Zg3hgCbFKs_FeotRdCA&utm_campaign=yelp_api_v3&utm_medium=api_v3_business_search&utm_source=HX7Zg3hgCbFKs_FeotRdCA',\n",
       " 'review_count': 101,\n",
       " 'categories': [{'alias': 'spas', 'title': 'Day Spas'},\n",
       "  {'alias': 'hair', 'title': 'Hair Salons'},\n",
       "  {'alias': 'massage', 'title': 'Massage'}],\n",
       " 'rating': 4.0,\n",
       " 'coordinates': {'latitude': 25.740693365457, 'longitude': -80.2785640673202},\n",
       " 'transactions': [],\n",
       " 'price': '$$$',\n",
       " 'location': {'address1': '1200 Anastasia Ave',\n",
       "  'address2': 'Fl 7',\n",
       "  'address3': 'Biltmore Hotel',\n",
       "  'city': 'Coral Gables',\n",
       "  'zip_code': '33134',\n",
       "  'country': 'US',\n",
       "  'state': 'FL',\n",
       "  'display_address': ['1200 Anastasia Ave',\n",
       "   'Fl 7',\n",
       "   'Biltmore Hotel',\n",
       "   'Coral Gables, FL 33134']},\n",
       " 'phone': '+13059133187',\n",
       " 'display_phone': '(305) 913-3187',\n",
       " 'distance': 1645.5702055211132}"
      ]
     },
     "execution_count": 50,
     "metadata": {},
     "output_type": "execute_result"
    }
   ],
   "source": [
    "business"
   ]
  },
  {
   "cell_type": "code",
   "execution_count": 56,
   "metadata": {},
   "outputs": [
    {
     "data": {
      "text/plain": [
       "('HrTHjKD-zbS2GvbDCeS54Q',\n",
       " 'Biltmore Spa',\n",
       " False,\n",
       " 101,\n",
       " 'Day Spas',\n",
       " 4.0,\n",
       " '$$$',\n",
       " 'Coral Gables',\n",
       " '33134')"
      ]
     },
     "execution_count": 56,
     "metadata": {},
     "output_type": "execute_result"
    }
   ],
   "source": [
    "\n",
    "\n",
    "biz_tuple = (business['id'], \n",
    "            business['name'] , \n",
    "            business['is_closed'], business['review_count'],business['categories'][0]['title'], business['rating'], \n",
    "            business ['price'], business['location']['city'], business['location']['zip_code']) \n",
    "biz_tuple"
   ]
  },
  {
   "cell_type": "code",
   "execution_count": 49,
   "metadata": {},
   "outputs": [
    {
     "data": {
      "text/plain": [
       "{'id': 'nNLKoINrGTcwPYznO0afNA',\n",
       " 'alias': 'tao-spa-miami-miami-beach',\n",
       " 'name': 'Tao Spa Miami',\n",
       " 'image_url': 'https://s3-media4.fl.yelpcdn.com/bphoto/om4OLJ9l8nxcmZUznImuTg/o.jpg',\n",
       " 'is_closed': False,\n",
       " 'url': 'https://www.yelp.com/biz/tao-spa-miami-miami-beach?adjust_creative=HX7Zg3hgCbFKs_FeotRdCA&utm_campaign=yelp_api_v3&utm_medium=api_v3_business_search&utm_source=HX7Zg3hgCbFKs_FeotRdCA',\n",
       " 'review_count': 215,\n",
       " 'categories': [{'alias': 'massage', 'title': 'Massage'},\n",
       "  {'alias': 'skincare', 'title': 'Skin Care'},\n",
       "  {'alias': 'spas', 'title': 'Day Spas'}],\n",
       " 'rating': 4.5,\n",
       " 'coordinates': {'latitude': 25.7757272509468, 'longitude': -80.1356340580861},\n",
       " 'transactions': [],\n",
       " 'price': '$$',\n",
       " 'location': {'address1': '726 6th St',\n",
       "  'address2': '',\n",
       "  'address3': None,\n",
       "  'city': 'Miami Beach',\n",
       "  'zip_code': '33139',\n",
       "  'country': 'US',\n",
       "  'state': 'FL',\n",
       "  'display_address': ['726 6th St', 'Miami Beach, FL 33139']},\n",
       " 'phone': '+17862167200',\n",
       " 'display_phone': '(786) 216-7200',\n",
       " 'distance': 15478.922368900325}"
      ]
     },
     "execution_count": 49,
     "metadata": {},
     "output_type": "execute_result"
    }
   ],
   "source": [
    "for b in data['businesses']: \n",
    "    "
   ]
  },
  {
   "cell_type": "code",
   "execution_count": null,
   "metadata": {},
   "outputs": [],
   "source": [
    "for contact in contacts:\n",
    "    firstName = contact['firstName']\n",
    "    lastName = contact['lastName']\n",
    "    role = contact['role']\n",
    "    telephone  = contact['telephone ']\n",
    "    street = contact['street']\n",
    "    city = contact['city']\n",
    "    state = contact['state']\n",
    "    zipcode  = contact['zipcode ']\n",
    "    cur.execute(\"\"\"INSERT INTO contactInfo3 (firstname, lastname, role, telephone, street, city, state, zipcode) \n",
    "                  VALUES ('{}', '{}', '{}', '{}', '{}', '{}', '{}', '{}');\n",
    "                \"\"\".format(firstName, lastName, role, telephone, street, city, state, zipcode) )"
   ]
  },
  {
   "cell_type": "code",
   "execution_count": 40,
   "metadata": {},
   "outputs": [],
   "source": [
    "# Create a table for the reviews \n",
    "\n",
    "cur.execute(\"\"\"CREATE TABLE reviews (\n",
    "                                id TEXT PRIMARY KEY,\n",
    "                                text TEXT,\n",
    "                                rating NUMERIC,\n",
    "                                time_created NUMERIC,\n",
    "                                business_id TEXT  \n",
    "                               )          \n",
    "            \"\"\") \n",
    "\n",
    "conn.commit()"
   ]
  },
  {
   "cell_type": "code",
   "execution_count": 42,
   "metadata": {},
   "outputs": [
    {
     "data": {
      "text/plain": [
       "[]"
      ]
     },
     "execution_count": 42,
     "metadata": {},
     "output_type": "execute_result"
    }
   ],
   "source": [
    "cur.execute(\"\"\"SELECT * \n",
    "                FROM business;\n",
    "            \"\"\") \n",
    "\n",
    "cur.fetchall()\n"
   ]
  },
  {
   "cell_type": "markdown",
   "metadata": {},
   "source": [
    "## Part 3 - Create ETL pipeline for the business data from the API\n",
    "\n",
    "Now that you know what data you need from the API, you want to write code that will execute a api call, parse those results and then insert the results into the DB.  \n",
    "\n",
    "It is helpful to break this up into three different functions (*api call, parse results, and insert into DB*) and then you can write a function/script that pull the other three functions together. \n",
    "\n",
    "Let's first do this for the Business endpoint."
   ]
  },
  {
   "cell_type": "markdown",
   "metadata": {},
   "source": [
    "- Write a function to make a call to the yelp API"
   ]
  },
  {
   "cell_type": "code",
   "execution_count": null,
   "metadata": {},
   "outputs": [],
   "source": [
    "def yelp_call(url_params, api_key):\n",
    "    # your code to make the yelp call\n",
    "    return data"
   ]
  },
  {
   "cell_type": "markdown",
   "metadata": {},
   "source": [
    "- Write a function to parse the API response so that you can easily insert the data in to the DB"
   ]
  },
  {
   "cell_type": "code",
   "execution_count": null,
   "metadata": {},
   "outputs": [],
   "source": [
    "def parse_results(results):\n",
    "    # your code to parse the result to make them easier to insert into the DB\n",
    "    return parsed_results"
   ]
  },
  {
   "cell_type": "markdown",
   "metadata": {},
   "source": [
    "- Write a function to take your parsed data and insert it into the DB"
   ]
  },
  {
   "cell_type": "code",
   "execution_count": null,
   "metadata": {},
   "outputs": [],
   "source": [
    "def db_insert(cnx, cursor, parsed results):\n",
    "    # your code to insert and commit the results\n",
    "    # I would create the connection and cursor outside of this function and then pass it through"
   ]
  },
  {
   "cell_type": "markdown",
   "metadata": {},
   "source": [
    "- Write a script that combines the three functions above into a single process."
   ]
  },
  {
   "cell_type": "code",
   "execution_count": null,
   "metadata": {},
   "outputs": [],
   "source": [
    "\n",
    "\n",
    "# create a variable  to keep track of which result you are in. \n",
    "cur = 0\n",
    "\n",
    "#set up a while loop to go through and grab the result \n",
    "while cur < num and cur < 1000:\n",
    "    #set the offset parameter to be where you currently are in the results \n",
    "    url_params['offset'] = cur\n",
    "    #make your API call with the new offset number\n",
    "    results = yelp_call(url_params, api_key)\n",
    "    \n",
    "    #after you get your results you can now use your function to parse those results\n",
    "    parsed_results = parse_results(results)\n",
    "    \n",
    "    # use your function to insert your parsed results into the db\n",
    "    db_insert(parsed_results)\n",
    "    #increment the counter by 50 to move on to the next results\n",
    "    cur += 20"
   ]
  },
  {
   "cell_type": "markdown",
   "metadata": {},
   "source": [
    "## Part 4 -  Create ETL pipeline for the restaurant review data from the API\n",
    "\n",
    "You've done this for the Businesses, now you need to do this for reviews. You will follow the same process, but your functions will be specific to reviews."
   ]
  },
  {
   "cell_type": "markdown",
   "metadata": {},
   "source": [
    "- Write a SQL query to pull back all of the business ids. You will need these ids to pull back the reviews for each restaurant"
   ]
  },
  {
   "cell_type": "markdown",
   "metadata": {},
   "source": [
    "- Write a function that takes a business id and makes a call to the API for reivews\n"
   ]
  },
  {
   "cell_type": "markdown",
   "metadata": {},
   "source": [
    "- Write a function to parse out the relevant information from the reviews"
   ]
  },
  {
   "cell_type": "markdown",
   "metadata": {},
   "source": [
    "- Write a function to insert the parsed data into the reviews table"
   ]
  },
  {
   "cell_type": "markdown",
   "metadata": {},
   "source": [
    "- Combine the functions above into a single script  "
   ]
  },
  {
   "cell_type": "markdown",
   "metadata": {},
   "source": [
    "## Part 5 -  Write SQL queries that will answer the questions posed. \n",
    "\n",
    "Now that your data is in the DB, you can answer the questions. Write SQL querires that will answer the questions. **Do not use Pandas for this part of the project.**"
   ]
  },
  {
   "cell_type": "code",
   "execution_count": null,
   "metadata": {},
   "outputs": [],
   "source": []
  },
  {
   "cell_type": "markdown",
   "metadata": {},
   "source": [
    "## Part 6 - Pull in relevant data into your python environment and analysis it using descriptive statistics.  This can be don either using Pandas or solely Python code.\n"
   ]
  },
  {
   "cell_type": "code",
   "execution_count": null,
   "metadata": {},
   "outputs": [],
   "source": []
  },
  {
   "cell_type": "markdown",
   "metadata": {},
   "source": [
    "## Part 7 - Create Data visualizations using Matplotlib or Seaborn"
   ]
  },
  {
   "cell_type": "code",
   "execution_count": null,
   "metadata": {},
   "outputs": [],
   "source": []
  },
  {
   "cell_type": "markdown",
   "metadata": {},
   "source": [
    "# Reference help"
   ]
  },
  {
   "cell_type": "code",
   "execution_count": null,
   "metadata": {},
   "outputs": [],
   "source": []
  },
  {
   "cell_type": "markdown",
   "metadata": {},
   "source": [
    "###  Pagination\n",
    "\n",
    "Returning to the Yelp API, the [documentation](https://www.yelp.com/developers/documentation/v3/business_search) also provides us details regarding the API limits. These often include details about the number of requests a user is allowed to make within a specified time limit and the maximum number of results to be returned. In this case, we are told that any request has a maximum of 50 results per request and defaults to 20. Furthermore, any search will be limited to a total of 1000 results. To retrieve all 1000 of these results, we would have to page through the results piece by piece, retriving 50 at a time. Processes such as these are often refered to as pagination.\n",
    "\n",
    "Now that you have an initial response, you can examine the contents of the json container. For example, you might start with ```response.json().keys()```. Here, you'll see a key for `'total'`, which tells you the full number of matching results given your query parameters. Write a loop (or ideally a function) which then makes successive API calls using the offset parameter to retrieve all of the results (or 5000 for a particularly large result set) for the original query. As you do this, be mindful of how you store the data. \n",
    "\n",
    "**Note: be mindful of the API rate limits. You can only make 5000 requests per day, and APIs can make requests too fast. Start prototyping small before running a loop that could be faulty. You can also use time.sleep(n) to add delays. For more details see https://www.yelp.com/developers/documentation/v3/rate_limiting.**"
   ]
  },
  {
   "cell_type": "markdown",
   "metadata": {},
   "source": [
    "***Below is sample code that you can use to help you deal with the pagination parameter and bring all of the functions together.***\n",
    "\n",
    "\n",
    "***Also, something might cause your code to break while it is running. You don't want to constantly repull the same data when this happens, so you should insert the data into the database as you call and parse it, not after you have all of the data***\n"
   ]
  },
  {
   "cell_type": "code",
   "execution_count": null,
   "metadata": {},
   "outputs": [],
   "source": [
    "# create a variable  to keep track of which result you are in. \n",
    "cur = 0\n",
    "\n",
    "#set up a while loop to go through and grab the result \n",
    "while cur < num and cur < 1000:\n",
    "    #set the offset parameter to be where you currently are in the results \n",
    "    url_params['offset'] = cur\n",
    "    #make your API call with the new offset number\n",
    "    results = yelp_call(url_params, api_key)\n",
    "    \n",
    "    #after you get your results you can now use your function to parse those results\n",
    "    parsed_results = parse_results(results)\n",
    "    \n",
    "    # use your function to insert your parsed results into the db\n",
    "    db_insert(parsed_results)\n",
    "    #increment the counter by 50 to move on to the next results\n",
    "    cur += 20"
   ]
  },
  {
   "cell_type": "code",
   "execution_count": null,
   "metadata": {},
   "outputs": [],
   "source": []
  }
 ],
 "metadata": {
  "kernelspec": {
   "display_name": "Python 3",
   "language": "python",
   "name": "python3"
  },
  "language_info": {
   "codemirror_mode": {
    "name": "ipython",
    "version": 3
   },
   "file_extension": ".py",
   "mimetype": "text/x-python",
   "name": "python",
   "nbconvert_exporter": "python",
   "pygments_lexer": "ipython3",
   "version": "3.8.3"
  },
  "toc": {
   "base_numbering": 1,
   "nav_menu": {},
   "number_sections": false,
   "sideBar": true,
   "skip_h1_title": false,
   "title_cell": "Table of Contents",
   "title_sidebar": "Contents",
   "toc_cell": false,
   "toc_position": {},
   "toc_section_display": true,
   "toc_window_display": false
  }
 },
 "nbformat": 4,
 "nbformat_minor": 4
}
