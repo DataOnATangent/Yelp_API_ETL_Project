{
 "cells": [
  {
   "cell_type": "markdown",
   "metadata": {},
   "source": [
    "## Part 1 - Understanding your data and question\n",
    "\n",
    "Lok at the question and determine what data you will need to store in your database in order to answer the questions. Start to thin about your DB schema. What tables will you want to create and what columns will you ahve for those tables. \n",
    "\n",
    "Look at the API documentation, and determine what fields of the API response you will match up with the columns you want in your DB tables. \n",
    "\n",
    "\n",
    "https://www.yelp.com/developers/documentation/v3/get_started"
   ]
  },
  {
   "cell_type": "code",
   "execution_count": 1,
   "metadata": {},
   "outputs": [],
   "source": [
    "#Which are the 5 most reviewed businesses?  \n",
    "# Look for. ' review_count'#Lapis Spa, Tao Spa Miami, VITA Body Club,  Exhale Miami, Mindykim Skincare, Elements Massage-Pinecrest \n",
    "#What is the highest rating recieved in your data set and how many businesses have that rating?\n",
    "#''rating''\n",
    "#What percentage of businesses have a rating greater than or 4.5?\n",
    "#What percentage of businesses have a rating less than 3?\n",
    "\n",
    "#What is the average rating of businesses that have a price label of one dollar sign? Two dollar signs? Three dollar signs?\n",
    "#'price' , 0:4 $ \n",
    "#Return the text of the reviews for the most reviewed business.\n",
    "#Return the name of the business with the most recent review.\n",
    "#Find the highest rated business and return text of the most recent review. If multiple business have the same rating, select the business with the most reviews.\n",
    "#Find the lowest rated business and return text of the most recent review. If multiple business have the same rating, select the business with the least reviews"
   ]
  },
  {
   "cell_type": "code",
   "execution_count": 2,
   "metadata": {},
   "outputs": [],
   "source": [
    "import requests\n",
    "import json"
   ]
  },
  {
   "cell_type": "code",
   "execution_count": 3,
   "metadata": {},
   "outputs": [],
   "source": [
    "url =  'https://api.yelp.com/v3/businesses/search' "
   ]
  },
  {
   "cell_type": "code",
   "execution_count": 4,
   "metadata": {},
   "outputs": [],
   "source": [
    "client_id = 'HX7Zg3hgCbFKs_FeotRdCA' \n",
    "api_key = 'm3thcmik5l2yJb4BAfg-uYJyI82T6W52bEBS_HFE4nzUudzabtUagvEnJUdwb9wfSDjTZD1C2-qdcpLU6x-suSaz8ijI2b4hc3Brygw8hmNGm_skfaMen_JZ6EvzX3Yx'"
   ]
  },
  {
   "cell_type": "code",
   "execution_count": 5,
   "metadata": {},
   "outputs": [],
   "source": [
    "headers = {\n",
    "        'Authorization': 'Bearer {}'.format(api_key),\n",
    "    }"
   ]
  },
  {
   "cell_type": "code",
   "execution_count": 6,
   "metadata": {},
   "outputs": [],
   "source": [
    "# what type of business do you want to search\n",
    "term = 'spa' \n",
    "\n",
    "#where do you want to perform this search\n",
    "location = 'Miami,FL'\n",
    "\n",
    "# what is your other parameter you want to search against\n",
    "radius = 40000"
   ]
  },
  {
   "cell_type": "code",
   "execution_count": 7,
   "metadata": {},
   "outputs": [],
   "source": [
    "\n",
    "url_params = {\n",
    "                \"term\": term.replace(' ', '+'),\n",
    "                \"location\": location.replace(' ', '+'),\n",
    "                \"radius\" : radius,\n",
    "                \"limit\": 50 \n",
    "                \n",
    "            }"
   ]
  },
  {
   "cell_type": "code",
   "execution_count": 8,
   "metadata": {},
   "outputs": [
    {
     "data": {
      "text/plain": [
       "{'term': 'spa', 'location': 'Miami,FL', 'radius': 40000, 'limit': 50}"
      ]
     },
     "execution_count": 8,
     "metadata": {},
     "output_type": "execute_result"
    }
   ],
   "source": [
    "url_params"
   ]
  },
  {
   "cell_type": "code",
   "execution_count": 9,
   "metadata": {},
   "outputs": [],
   "source": [
    "response = requests.get(url, headers=headers, params=url_params)"
   ]
  },
  {
   "cell_type": "code",
   "execution_count": 10,
   "metadata": {},
   "outputs": [
    {
     "data": {
      "text/plain": [
       "'{\"businesses\": [{\"id\": \"nNLKoINrGTcwPYznO0afNA\", \"alias\": \"tao-spa-miami-miami-beach\", \"name\": \"Tao Spa Miami\", \"image_url\": \"https://s3-media4.fl.yelpcdn.com/bphoto/om4OLJ9l8nxcmZUznImuTg/o.jpg\", \"is_closed\": false, \"url\": \"https://www.yelp.com/biz/tao-spa-miami-miami-beach?adjust_creative=HX7Zg3hgCbFKs_FeotRdCA&utm_campaign=yelp_api_v3&utm_medium=api_v3_business_search&utm_source=HX7Zg3hgCbFKs_FeotRdCA\", \"review_count\": 215, \"categories\": [{\"alias\": \"massage\", \"title\": \"Massage\"}, {\"alias\": \"skincare\", \"title\": \"Skin Care\"}, {\"alias\": \"spas\", \"title\": \"Day Spas\"}], \"rating\": 4.5, \"coordinates\": {\"latitude\": 25.7757272509468, \"longitude\": -80.1356340580861}, \"transactions\": [], \"price\": \"$$\", \"location\": {\"address1\": \"726 6th St\", \"address2\": \"\", \"address3\": null, \"city\": \"Miami Beach\", \"zip_code\": \"33139\", \"country\": \"US\", \"state\": \"FL\", \"display_address\": [\"726 6th St\", \"Miami Beach, FL 33139\"]}, \"phone\": \"+17862167200\", \"display_phone\": \"(786) 216-7200\", \"distance\": 15478.922368900325}, {\"id\": \"HrTHjKD-zbS2GvbDCeS54Q\", \"alias\": \"biltmore-spa-coral-gables-2\", \"name\": \"Biltmore Spa\", \"image_url\": \"https://s3-media4.fl.yelpcdn.com/bphoto/D8t1ANLkB2Y7IRpxKpBGeA/o.jpg\", \"is_closed\": false, \"url\": \"https://www.yelp.com/biz/biltmore-spa-coral-gables-2?adjust_creative=HX7Zg3hgCbFKs_FeotRdCA&utm_campaign=yelp_api_v3&utm_medium=api_v3_business_search&utm_source=HX7Zg3hgCbFKs_FeotRdCA\", \"review_count\": 101, \"categories\": [{\"alias\": \"spas\", \"title\": \"Day Spas\"}, {\"alias\": \"hair\", \"title\": \"Hair Salons\"}, {\"alias\": \"massage\", \"title\": \"Massage\"}], \"rating\": 4.0, \"coordinates\": {\"latitude\": 25.740693365457, \"longitude\": -80.2785640673202}, \"transactions\": [], \"price\": \"$$$\", \"location\": {\"address1\": \"1200 Anastasia Ave\", \"address2\": \"Fl 7\", \"address3\": \"Biltmore Hotel\", \"city\": \"Coral Gables\", \"zip_code\": \"33134\", \"country\": \"US\", \"state\": \"FL\", \"display_address\": [\"1200 Anastasia Ave\", \"Fl 7\", \"Biltmore Hotel\", \"Coral Gables, FL 33134\"]}, \"phone\": \"+13059133187\", \"display_phone\": \"(305) 913-3187\", \"distance\": 1645.5702055211132}, {\"id\": \"ImwHmojjWspwyItzRZxd7A\", \"alias\": \"the-spa-at-mandarin-oriental-miami\", \"name\": \"The Spa at Mandarin Oriental\", \"image_url\": \"https://s3-media4.fl.yelpcdn.com/bphoto/3hQwlxR0KYl1wPvDkYOynQ/o.jpg\", \"is_closed\": false, \"url\": \"https://www.yelp.com/biz/the-spa-at-mandarin-oriental-miami?adjust_creative=HX7Zg3hgCbFKs_FeotRdCA&utm_campaign=yelp_api_v3&utm_medium=api_v3_business_search&utm_source=HX7Zg3hgCbFKs_FeotRdCA\", \"review_count\": 73, \"categories\": [{\"alias\": \"spas\", \"title\": \"Day Spas\"}, {\"alias\": \"massage\", \"title\": \"Massage\"}], \"rating\": 4.0, \"coordinates\": {\"latitude\": 25.765307, \"longitude\": -80.185183}, \"transactions\": [], \"price\": \"$$$$\", \"location\": {\"address1\": \"500 Brickell Key Dr\", \"address2\": \"\", \"address3\": \"Mandarin Oriental\", \"city\": \"Miami\", \"zip_code\": \"33131\", \"country\": \"US\", \"state\": \"FL\", \"display_address\": [\"500 Brickell Key Dr\", \"Mandarin Oriental\", \"Miami, FL 33131\"]}, \"phone\": \"+13059138332\", \"display_phone\": \"(305) 913-8332\", \"distance\": 10399.355880697718}, {\"id\": \"N2Rex8AJS2MG58goE-bXLg\", \"alias\": \"exhale-miami-miami\", \"name\": \"Exhale Miami\", \"image_url\": \"https://s3-media3.fl.yelpcdn.com/bphoto/OBLK7DAzVhJD-HLhGEtUig/o.jpg\", \"is_closed\": false, \"url\": \"https://www.yelp.com/biz/exhale-miami-miami?adjust_creative=HX7Zg3hgCbFKs_FeotRdCA&utm_campaign=yelp_api_v3&utm_medium=api_v3_business_search&utm_source=HX7Zg3hgCbFKs_FeotRdCA\", \"review_count\": 125, \"categories\": [{\"alias\": \"spas\", \"title\": \"Day Spas\"}], \"rating\": 4.0, \"coordinates\": {\"latitude\": 25.77052, \"longitude\": -80.18929}, \"transactions\": [], \"price\": \"$$$\", \"location\": {\"address1\": \"270 Biscayne Blvd Way\", \"address2\": \"\", \"address3\": \"\", \"city\": \"Miami\", \"zip_code\": \"33131\", \"country\": \"US\", \"state\": \"FL\", \"display_address\": [\"270 Biscayne Blvd Way\", \"Miami, FL 33131\"]}, \"phone\": \"+13054233900\", \"display_phone\": \"(305) 423-3900\", \"distance\": 10091.411433581332}, {\"id\": \"WcURjIVEINE-Y24WLpezAA\", \"alias\": \"lapis-spa-miami-beach\", \"name\": \"Lapis Spa\", \"image_url\": \"https://s3-media1.fl.yelpcdn.com/bphoto/tgQZvkERvAfK7_4LPuhdoQ/o.jpg\", \"is_closed\": false, \"url\": \"https://www.yelp.com/biz/lapis-spa-miami-beach?adjust_creative=HX7Zg3hgCbFKs_FeotRdCA&utm_campaign=yelp_api_v3&utm_medium=api_v3_business_search&utm_source=HX7Zg3hgCbFKs_FeotRdCA\", \"review_count\": 296, \"categories\": [{\"alias\": \"spas\", \"title\": \"Day Spas\"}, {\"alias\": \"hair\", \"title\": \"Hair Salons\"}, {\"alias\": \"othersalons\", \"title\": \"Nail Salons\"}], \"rating\": 4.0, \"coordinates\": {\"latitude\": 25.818202, \"longitude\": -80.122133}, \"transactions\": [], \"price\": \"$$$\", \"location\": {\"address1\": \"4441 Collins Ave\", \"address2\": \"\", \"address3\": \"\", \"city\": \"Miami Beach\", \"zip_code\": \"33140\", \"country\": \"US\", \"state\": \"FL\", \"display_address\": [\"4441 Collins Ave\", \"Miami Beach, FL 33140\"]}, \"phone\": \"+13056744772\", \"display_phone\": \"(305) 674-4772\", \"distance\": 18139.56684424523}, {\"id\": \"_ia42yHh93ZT3nBUHqah2w\", \"alias\": \"me-spa-pembroke-pines-pembroke-pines\", \"name\": \"ME SPA Pembroke Pines\", \"image_url\": \"https://s3-media2.fl.yelpcdn.com/bphoto/U-zxIeoApm_GxjmqAScQ5Q/o.jpg\", \"is_closed\": false, \"url\": \"https://www.yelp.com/biz/me-spa-pembroke-pines-pembroke-pines?adjust_creative=HX7Zg3hgCbFKs_FeotRdCA&utm_campaign=yelp_api_v3&utm_medium=api_v3_business_search&utm_source=HX7Zg3hgCbFKs_FeotRdCA\", \"review_count\": 86, \"categories\": [{\"alias\": \"spas\", \"title\": \"Day Spas\"}, {\"alias\": \"massage\", \"title\": \"Massage\"}, {\"alias\": \"skincare\", \"title\": \"Skin Care\"}], \"rating\": 4.5, \"coordinates\": {\"latitude\": 26.0057726, \"longitude\": -80.3368827}, \"transactions\": [], \"price\": \"$$\", \"location\": {\"address1\": \"322 SW 145th Ter\", \"address2\": null, \"address3\": \"\", \"city\": \"Pembroke Pines\", \"zip_code\": \"33027\", \"country\": \"US\", \"state\": \"FL\", \"display_address\": [\"322 SW 145th Ter\", \"Pembroke Pines, FL 33027\"]}, \"phone\": \"+19544361251\", \"display_phone\": \"(954) 436-1251\", \"distance\": 28523.073938167567}, {\"id\": \"k-7IhhbFIBPHul8kTt-12Q\", \"alias\": \"body-sense-coral-gables-2\", \"name\": \"Body Sense\", \"image_url\": \"https://s3-media1.fl.yelpcdn.com/bphoto/BmU1juNcni0XwNAXHpK5aQ/o.jpg\", \"is_closed\": false, \"url\": \"https://www.yelp.com/biz/body-sense-coral-gables-2?adjust_creative=HX7Zg3hgCbFKs_FeotRdCA&utm_campaign=yelp_api_v3&utm_medium=api_v3_business_search&utm_source=HX7Zg3hgCbFKs_FeotRdCA\", \"review_count\": 103, \"categories\": [{\"alias\": \"spas\", \"title\": \"Day Spas\"}, {\"alias\": \"acupuncture\", \"title\": \"Acupuncture\"}, {\"alias\": \"massage_therapy\", \"title\": \"Massage Therapy\"}], \"rating\": 4.5, \"coordinates\": {\"latitude\": 25.7502804, \"longitude\": -80.2318802}, \"transactions\": [], \"price\": \"$$\", \"location\": {\"address1\": \"2292 Coral Way\", \"address2\": \"\", \"address3\": \"\", \"city\": \"Coral Gables\", \"zip_code\": \"33145\", \"country\": \"US\", \"state\": \"FL\", \"display_address\": [\"2292 Coral Way\", \"Coral Gables, FL 33145\"]}, \"phone\": \"+13058543100\", \"display_phone\": \"(305) 854-3100\", \"distance\": 5637.259601322905}, {\"id\": \"QKwwA55LFR2f-bHsWm2Y8A\", \"alias\": \"esencia-wellness-spa-miami-beach\", \"name\": \"Esencia Wellness Spa\", \"image_url\": \"https://s3-media1.fl.yelpcdn.com/bphoto/-inKzL0BfYnH2L62BBj-xg/o.jpg\", \"is_closed\": false, \"url\": \"https://www.yelp.com/biz/esencia-wellness-spa-miami-beach?adjust_creative=HX7Zg3hgCbFKs_FeotRdCA&utm_campaign=yelp_api_v3&utm_medium=api_v3_business_search&utm_source=HX7Zg3hgCbFKs_FeotRdCA\", \"review_count\": 81, \"categories\": [{\"alias\": \"spas\", \"title\": \"Day Spas\"}], \"rating\": 4.0, \"coordinates\": {\"latitude\": 25.819515, \"longitude\": -80.121936}, \"transactions\": [], \"price\": \"$$$\", \"location\": {\"address1\": \"4525 Collins Ave\", \"address2\": \"\", \"address3\": \"\", \"city\": \"Miami Beach\", \"zip_code\": \"33140\", \"country\": \"US\", \"state\": \"FL\", \"display_address\": [\"4525 Collins Ave\", \"Miami Beach, FL 33140\"]}, \"phone\": \"+17868016886\", \"display_phone\": \"(786) 801-6886\", \"distance\": 18216.558474084286}, {\"id\": \"qu_bT0BP2-qOHUaiVdet0w\", \"alias\": \"magic-waters-spa-miami-2\", \"name\": \"Magic Waters Spa\", \"image_url\": \"https://s3-media3.fl.yelpcdn.com/bphoto/luO6J5kvfHWjA2wqF8ixaw/o.jpg\", \"is_closed\": false, \"url\": \"https://www.yelp.com/biz/magic-waters-spa-miami-2?adjust_creative=HX7Zg3hgCbFKs_FeotRdCA&utm_campaign=yelp_api_v3&utm_medium=api_v3_business_search&utm_source=HX7Zg3hgCbFKs_FeotRdCA\", \"review_count\": 7, \"categories\": [{\"alias\": \"spas\", \"title\": \"Day Spas\"}], \"rating\": 5.0, \"coordinates\": {\"latitude\": 25.70117, \"longitude\": -80.360997}, \"transactions\": [], \"price\": \"$$\", \"location\": {\"address1\": \"10300 Sunset Dr\", \"address2\": \"Ste 222\", \"address3\": \"\", \"city\": \"Miami\", \"zip_code\": \"33173\", \"country\": \"US\", \"state\": \"FL\", \"display_address\": [\"10300 Sunset Dr\", \"Ste 222\", \"Miami, FL 33173\"]}, \"phone\": \"+13052740000\", \"display_phone\": \"(305) 274-0000\", \"distance\": 9286.740509044528}, {\"id\": \"E8_C9Q9AFH1iEermrBP9YA\", \"alias\": \"the-spa-at-conrad-miami-miami-2\", \"name\": \"The Spa at Conrad Miami\", \"image_url\": \"https://s3-media3.fl.yelpcdn.com/bphoto/RF5t6GPSStfjQU3LS6bC9Q/o.jpg\", \"is_closed\": false, \"url\": \"https://www.yelp.com/biz/the-spa-at-conrad-miami-miami-2?adjust_creative=HX7Zg3hgCbFKs_FeotRdCA&utm_campaign=yelp_api_v3&utm_medium=api_v3_business_search&utm_source=HX7Zg3hgCbFKs_FeotRdCA\", \"review_count\": 38, \"categories\": [{\"alias\": \"spas\", \"title\": \"Day Spas\"}, {\"alias\": \"hydrotherapy\", \"title\": \"Hydrotherapy\"}], \"rating\": 4.5, \"coordinates\": {\"latitude\": 25.760606, \"longitude\": -80.1912563}, \"transactions\": [], \"price\": \"$$\", \"location\": {\"address1\": \"1395 Brickell Ave\", \"address2\": \"Fl 24\", \"address3\": \"\", \"city\": \"Miami\", \"zip_code\": \"33131\", \"country\": \"US\", \"state\": \"FL\", \"display_address\": [\"1395 Brickell Ave\", \"Fl 24\", \"Miami, FL 33131\"]}, \"phone\": \"+13055036533\", \"display_phone\": \"(305) 503-6533\", \"distance\": 9736.458224962722}, {\"id\": \"aw0KgujpRfZgrgHV9tFV3w\", \"alias\": \"blu-bliss-massage-and-spa-pembroke-pines\", \"name\": \"Blu Bliss Massage and Spa\", \"image_url\": \"https://s3-media1.fl.yelpcdn.com/bphoto/263OuGjl8DWOcqNPYqYUyw/o.jpg\", \"is_closed\": false, \"url\": \"https://www.yelp.com/biz/blu-bliss-massage-and-spa-pembroke-pines?adjust_creative=HX7Zg3hgCbFKs_FeotRdCA&utm_campaign=yelp_api_v3&utm_medium=api_v3_business_search&utm_source=HX7Zg3hgCbFKs_FeotRdCA\", \"review_count\": 84, \"categories\": [{\"alias\": \"skincare\", \"title\": \"Skin Care\"}, {\"alias\": \"massage_therapy\", \"title\": \"Massage Therapy\"}, {\"alias\": \"bodycontouring\", \"title\": \"Body Contouring\"}], \"rating\": 5.0, \"coordinates\": {\"latitude\": 26.014157, \"longitude\": -80.2784437347793}, \"transactions\": [], \"price\": \"$$\", \"location\": {\"address1\": \"9930 NW 6th Ct\", \"address2\": \"\", \"address3\": \"\", \"city\": \"Pembroke Pines\", \"zip_code\": \"33024\", \"country\": \"US\", \"state\": \"FL\", \"display_address\": [\"9930 NW 6th Ct\", \"Pembroke Pines, FL 33024\"]}, \"phone\": \"+19543679015\", \"display_phone\": \"(954) 367-9015\", \"distance\": 29082.686320240282}, {\"id\": \"d6mR7ngdYtGDuTbWlM7mVA\", \"alias\": \"pecans-day-spa-coral-gables\", \"name\": \"Pecan\\'s Day Spa\", \"image_url\": \"https://s3-media4.fl.yelpcdn.com/bphoto/kAUfn-cfWzoiC_zvliQtag/o.jpg\", \"is_closed\": false, \"url\": \"https://www.yelp.com/biz/pecans-day-spa-coral-gables?adjust_creative=HX7Zg3hgCbFKs_FeotRdCA&utm_campaign=yelp_api_v3&utm_medium=api_v3_business_search&utm_source=HX7Zg3hgCbFKs_FeotRdCA\", \"review_count\": 21, \"categories\": [{\"alias\": \"massage\", \"title\": \"Massage\"}, {\"alias\": \"skincare\", \"title\": \"Skin Care\"}, {\"alias\": \"spas\", \"title\": \"Day Spas\"}], \"rating\": 5.0, \"coordinates\": {\"latitude\": 25.7520517, \"longitude\": -80.2624337}, \"transactions\": [], \"price\": \"$$$\", \"location\": {\"address1\": \"385 Alhambra Cir\", \"address2\": \"Ste A\", \"address3\": \"\", \"city\": \"Coral Gables\", \"zip_code\": \"33134\", \"country\": \"US\", \"state\": \"FL\", \"display_address\": [\"385 Alhambra Cir\", \"Ste A\", \"Coral Gables, FL 33134\"]}, \"phone\": \"+13052848636\", \"display_phone\": \"(305) 284-8636\", \"distance\": 2570.281326362289}, {\"id\": \"a7TmwhsaAy-ZYddjBRgNdA\", \"alias\": \"skintique-miami-coral-gables-2\", \"name\": \"Skintique Miami\", \"image_url\": \"https://s3-media4.fl.yelpcdn.com/bphoto/nOpSEgZlHuZZinpblcJ0YQ/o.jpg\", \"is_closed\": false, \"url\": \"https://www.yelp.com/biz/skintique-miami-coral-gables-2?adjust_creative=HX7Zg3hgCbFKs_FeotRdCA&utm_campaign=yelp_api_v3&utm_medium=api_v3_business_search&utm_source=HX7Zg3hgCbFKs_FeotRdCA\", \"review_count\": 82, \"categories\": [{\"alias\": \"skincare\", \"title\": \"Skin Care\"}, {\"alias\": \"massage\", \"title\": \"Massage\"}], \"rating\": 4.5, \"coordinates\": {\"latitude\": 25.7332543094477, \"longitude\": -80.2603977774322}, \"transactions\": [], \"price\": \"$$\", \"location\": {\"address1\": \"One Village Place / Merrick Park\", \"address2\": \"\", \"address3\": \"4100 Salzedo St,  7\", \"city\": \"Coral Gables\", \"zip_code\": \"33146\", \"country\": \"US\", \"state\": \"FL\", \"display_address\": [\"One Village Place / Merrick Park\", \"4100 Salzedo St,  7\", \"Coral Gables, FL 33146\"]}, \"phone\": \"+13055690612\", \"display_phone\": \"(305) 569-0612\", \"distance\": 3520.2214983244253}, {\"id\": \"Kb90N2LGQ4mHNXpSH4xHbg\", \"alias\": \"the-ritz-carlton-spa-key-biscayne-key-biscayne\", \"name\": \"The Ritz-Carlton Spa, Key Biscayne\", \"image_url\": \"https://s3-media3.fl.yelpcdn.com/bphoto/z3ChX3_oxY0mMFgWSfZf9A/o.jpg\", \"is_closed\": false, \"url\": \"https://www.yelp.com/biz/the-ritz-carlton-spa-key-biscayne-key-biscayne?adjust_creative=HX7Zg3hgCbFKs_FeotRdCA&utm_campaign=yelp_api_v3&utm_medium=api_v3_business_search&utm_source=HX7Zg3hgCbFKs_FeotRdCA\", \"review_count\": 30, \"categories\": [{\"alias\": \"spas\", \"title\": \"Day Spas\"}, {\"alias\": \"massage\", \"title\": \"Massage\"}], \"rating\": 4.0, \"coordinates\": {\"latitude\": 25.691547, \"longitude\": -80.15811}, \"transactions\": [], \"price\": \"$$$\", \"location\": {\"address1\": \"455 Grand Bay Dr\", \"address2\": \"\", \"address3\": \"\", \"city\": \"Key Biscayne\", \"zip_code\": \"33149\", \"country\": \"US\", \"state\": \"FL\", \"display_address\": [\"455 Grand Bay Dr\", \"Key Biscayne, FL 33149\"]}, \"phone\": \"+13053654158\", \"display_phone\": \"(305) 365-4158\", \"distance\": 14691.967971320788}, {\"id\": \"yWcsCImrTFp6_Mg_HZXIcw\", \"alias\": \"golden-foot-massage-and-spa-coral-gables-2\", \"name\": \"Golden Foot Massage & Spa\", \"image_url\": \"https://s3-media2.fl.yelpcdn.com/bphoto/dCCkrVnMCNK4U9t1xIhlLg/o.jpg\", \"is_closed\": false, \"url\": \"https://www.yelp.com/biz/golden-foot-massage-and-spa-coral-gables-2?adjust_creative=HX7Zg3hgCbFKs_FeotRdCA&utm_campaign=yelp_api_v3&utm_medium=api_v3_business_search&utm_source=HX7Zg3hgCbFKs_FeotRdCA\", \"review_count\": 87, \"categories\": [{\"alias\": \"spas\", \"title\": \"Day Spas\"}, {\"alias\": \"skincare\", \"title\": \"Skin Care\"}, {\"alias\": \"massage_therapy\", \"title\": \"Massage Therapy\"}], \"rating\": 4.5, \"coordinates\": {\"latitude\": 25.7486, \"longitude\": -80.25479}, \"transactions\": [], \"price\": \"$$\", \"location\": {\"address1\": \"2500 S Douglas Rd\", \"address2\": null, \"address3\": \"\", \"city\": \"Coral Gables\", \"zip_code\": \"33134\", \"country\": \"US\", \"state\": \"FL\", \"display_address\": [\"2500 S Douglas Rd\", \"Coral Gables, FL 33134\"]}, \"phone\": \"+13055697188\", \"display_phone\": \"(305) 569-7188\", \"distance\": 3365.703103707194}, {\"id\": \"OYaNEbmBl0ge1V3FkwE9mg\", \"alias\": \"amazian-massage-miami\", \"name\": \"Amazian Massage\", \"image_url\": \"https://s3-media1.fl.yelpcdn.com/bphoto/IlKHMD5RjY-sylCEaCd9qA/o.jpg\", \"is_closed\": false, \"url\": \"https://www.yelp.com/biz/amazian-massage-miami?adjust_creative=HX7Zg3hgCbFKs_FeotRdCA&utm_campaign=yelp_api_v3&utm_medium=api_v3_business_search&utm_source=HX7Zg3hgCbFKs_FeotRdCA\", \"review_count\": 60, \"categories\": [{\"alias\": \"massage\", \"title\": \"Massage\"}, {\"alias\": \"massage_therapy\", \"title\": \"Massage Therapy\"}], \"rating\": 5.0, \"coordinates\": {\"latitude\": 25.6039476, \"longitude\": -80.4140574}, \"transactions\": [], \"price\": \"$$\", \"location\": {\"address1\": \"17606 SW 137th Ave\", \"address2\": null, \"address3\": \"\", \"city\": \"Miami\", \"zip_code\": \"33177\", \"country\": \"US\", \"state\": \"FL\", \"display_address\": [\"17606 SW 137th Ave\", \"Miami, FL 33177\"]}, \"phone\": \"+13056762337\", \"display_phone\": \"(305) 676-2337\", \"distance\": 20802.637632404425}, {\"id\": \"uoNVqp8KLAYYeLzDeCQEWA\", \"alias\": \"elements-massage-pinecrest-miami-pinecrest\", \"name\": \"Elements Massage - Pinecrest\", \"image_url\": \"https://s3-media4.fl.yelpcdn.com/bphoto/zk0fM_XrYfdB6YSGYBTNYQ/o.jpg\", \"is_closed\": false, \"url\": \"https://www.yelp.com/biz/elements-massage-pinecrest-miami-pinecrest?adjust_creative=HX7Zg3hgCbFKs_FeotRdCA&utm_campaign=yelp_api_v3&utm_medium=api_v3_business_search&utm_source=HX7Zg3hgCbFKs_FeotRdCA\", \"review_count\": 124, \"categories\": [{\"alias\": \"massage_therapy\", \"title\": \"Massage Therapy\"}, {\"alias\": \"massage\", \"title\": \"Massage\"}], \"rating\": 4.5, \"coordinates\": {\"latitude\": 25.682159, \"longitude\": -80.313519}, \"transactions\": [], \"price\": \"$$\", \"location\": {\"address1\": \"9523 S Dixie Hwy\", \"address2\": \"\", \"address3\": \"\", \"city\": \"Miami\", \"zip_code\": \"33156\", \"country\": \"US\", \"state\": \"FL\", \"display_address\": [\"9523 S Dixie Hwy\", \"Miami, FL 33156\"]}, \"phone\": \"+13054249793\", \"display_phone\": \"(305) 424-9793\", \"distance\": 8250.1574750899}, {\"id\": \"pG_xCYGOOZGJFPk60_q9QQ\", \"alias\": \"valmont-for-the-spa-at-the-setai-miami-beach-miami-beach-2\", \"name\": \"Valmont for The Spa at The Setai, Miami Beach\", \"image_url\": \"https://s3-media4.fl.yelpcdn.com/bphoto/aglQwFMXXcFL7Ld5kNrJAg/o.jpg\", \"is_closed\": false, \"url\": \"https://www.yelp.com/biz/valmont-for-the-spa-at-the-setai-miami-beach-miami-beach-2?adjust_creative=HX7Zg3hgCbFKs_FeotRdCA&utm_campaign=yelp_api_v3&utm_medium=api_v3_business_search&utm_source=HX7Zg3hgCbFKs_FeotRdCA\", \"review_count\": 24, \"categories\": [{\"alias\": \"spas\", \"title\": \"Day Spas\"}, {\"alias\": \"reflexology\", \"title\": \"Reflexology\"}, {\"alias\": \"massage\", \"title\": \"Massage\"}], \"rating\": 4.0, \"coordinates\": {\"latitude\": 25.795977, \"longitude\": -80.128626}, \"transactions\": [], \"price\": \"$$$$\", \"location\": {\"address1\": \"2001 Collins Ave\", \"address2\": \"\", \"address3\": \"\", \"city\": \"Miami Beach\", \"zip_code\": \"33139\", \"country\": \"US\", \"state\": \"FL\", \"display_address\": [\"2001 Collins Ave\", \"Miami Beach, FL 33139\"]}, \"phone\": \"+13057280348\", \"display_phone\": \"(305) 728-0348\", \"distance\": 16674.77355569974}, {\"id\": \"m7o5c5icwFxu8YG5dcKIBg\", \"alias\": \"all-about-you-massage-miami-4\", \"name\": \"All About You Massage\", \"image_url\": \"https://s3-media1.fl.yelpcdn.com/bphoto/k0J0J7g0S5ikfhRQfdb0VA/o.jpg\", \"is_closed\": false, \"url\": \"https://www.yelp.com/biz/all-about-you-massage-miami-4?adjust_creative=HX7Zg3hgCbFKs_FeotRdCA&utm_campaign=yelp_api_v3&utm_medium=api_v3_business_search&utm_source=HX7Zg3hgCbFKs_FeotRdCA\", \"review_count\": 3, \"categories\": [{\"alias\": \"massage\", \"title\": \"Massage\"}, {\"alias\": \"massage_therapy\", \"title\": \"Massage Therapy\"}], \"rating\": 5.0, \"coordinates\": {\"latitude\": 25.779173, \"longitude\": -80.259532}, \"transactions\": [], \"location\": {\"address1\": \"3899 NW 7 St\", \"address2\": \"Ste 224\", \"address3\": \"\", \"city\": \"Miami\", \"zip_code\": \"33126\", \"country\": \"US\", \"state\": \"FL\", \"display_address\": [\"3899 NW 7 St\", \"Ste 224\", \"Miami, FL 33126\"]}, \"phone\": \"+17865424806\", \"display_phone\": \"(786) 542-4806\", \"distance\": 4099.259428221494}, {\"id\": \"PwA5jq0QuHqwrk84KrVtLQ\", \"alias\": \"acqualina-spa-by-espa-sunny-isles-beach\", \"name\": \"Acqualina Spa By Espa\", \"image_url\": \"https://s3-media2.fl.yelpcdn.com/bphoto/zf7Uwd8sO36RTv1CUYaGWg/o.jpg\", \"is_closed\": false, \"url\": \"https://www.yelp.com/biz/acqualina-spa-by-espa-sunny-isles-beach?adjust_creative=HX7Zg3hgCbFKs_FeotRdCA&utm_campaign=yelp_api_v3&utm_medium=api_v3_business_search&utm_source=HX7Zg3hgCbFKs_FeotRdCA\", \"review_count\": 50, \"categories\": [{\"alias\": \"spas\", \"title\": \"Day Spas\"}, {\"alias\": \"massage\", \"title\": \"Massage\"}], \"rating\": 4.0, \"coordinates\": {\"latitude\": 25.94087, \"longitude\": -80.1205}, \"transactions\": [], \"price\": \"$$$\", \"location\": {\"address1\": \"17875 Collins Ave\", \"address2\": \"\", \"address3\": \"Acqualina Resort\", \"city\": \"Sunny Isles Beach\", \"zip_code\": \"33160\", \"country\": \"US\", \"state\": \"FL\", \"display_address\": [\"17875 Collins Ave\", \"Acqualina Resort\", \"Sunny Isles Beach, FL 33160\"]}, \"phone\": \"+13059186844\", \"display_phone\": \"(305) 918-6844\", \"distance\": 26785.70472287774}, {\"id\": \"fbzlD7as3lEJw3l595KgjQ\", \"alias\": \"vita-body-club-miami\", \"name\": \"VITA Body Club\", \"image_url\": \"https://s3-media3.fl.yelpcdn.com/bphoto/P2L2mKiAMT51osQQUO36gw/o.jpg\", \"is_closed\": false, \"url\": \"https://www.yelp.com/biz/vita-body-club-miami?adjust_creative=HX7Zg3hgCbFKs_FeotRdCA&utm_campaign=yelp_api_v3&utm_medium=api_v3_business_search&utm_source=HX7Zg3hgCbFKs_FeotRdCA\", \"review_count\": 207, \"categories\": [{\"alias\": \"laser_hair_removal\", \"title\": \"Laser Hair Removal\"}, {\"alias\": \"skincare\", \"title\": \"Skin Care\"}, {\"alias\": \"medicalspa\", \"title\": \"Medical Spas\"}], \"rating\": 4.0, \"coordinates\": {\"latitude\": 25.8143756889459, \"longitude\": -80.1916582288361}, \"transactions\": [], \"price\": \"$$\", \"location\": {\"address1\": \"4100 NE 2nd Ave\", \"address2\": \"Ste 301\", \"address3\": \"\", \"city\": \"Miami\", \"zip_code\": \"33137\", \"country\": \"US\", \"state\": \"FL\", \"display_address\": [\"4100 NE 2nd Ave\", \"Ste 301\", \"Miami, FL 33137\"]}, \"phone\": \"+13054383777\", \"display_phone\": \"(305) 438-3777\", \"distance\": 11839.148096991634}, {\"id\": \"zNVDZTaKd9aqYuZRJWRG9w\", \"alias\": \"myspa-miami-miami\", \"name\": \"MySpa Miami\", \"image_url\": \"https://s3-media2.fl.yelpcdn.com/bphoto/s9L4WOnswmDYt-H-rMiQRw/o.jpg\", \"is_closed\": false, \"url\": \"https://www.yelp.com/biz/myspa-miami-miami?adjust_creative=HX7Zg3hgCbFKs_FeotRdCA&utm_campaign=yelp_api_v3&utm_medium=api_v3_business_search&utm_source=HX7Zg3hgCbFKs_FeotRdCA\", \"review_count\": 27, \"categories\": [{\"alias\": \"spas\", \"title\": \"Day Spas\"}], \"rating\": 3.5, \"coordinates\": {\"latitude\": 25.7724157157956, \"longitude\": -80.1857405695864}, \"transactions\": [], \"price\": \"$$$\", \"location\": {\"address1\": \"100 Chopin Plz\", \"address2\": \"Plaza Level\", \"address3\": \"\", \"city\": \"Miami\", \"zip_code\": \"33131\", \"country\": \"US\", \"state\": \"FL\", \"display_address\": [\"100 Chopin Plz\", \"Plaza Level\", \"Miami, FL 33131\"]}, \"phone\": \"+13053724444\", \"display_phone\": \"(305) 372-4444\", \"distance\": 10479.700106425433}, {\"id\": \"EK5aaj3c4uEoOPtaXJcKzQ\", \"alias\": \"the-healing-room-key-biscayne\", \"name\": \"The Healing Room\", \"image_url\": \"https://s3-media4.fl.yelpcdn.com/bphoto/7czT07hzPWhcqLkD2BK4JA/o.jpg\", \"is_closed\": false, \"url\": \"https://www.yelp.com/biz/the-healing-room-key-biscayne?adjust_creative=HX7Zg3hgCbFKs_FeotRdCA&utm_campaign=yelp_api_v3&utm_medium=api_v3_business_search&utm_source=HX7Zg3hgCbFKs_FeotRdCA\", \"review_count\": 7, \"categories\": [{\"alias\": \"massage\", \"title\": \"Massage\"}, {\"alias\": \"massage_therapy\", \"title\": \"Massage Therapy\"}, {\"alias\": \"reiki\", \"title\": \"Reiki\"}], \"rating\": 5.0, \"coordinates\": {\"latitude\": 25.6856645, \"longitude\": -80.1612845}, \"transactions\": [], \"location\": {\"address1\": \"971 Crandon Blvd\", \"address2\": \"Ste 901\", \"address3\": null, \"city\": \"Key Biscayne\", \"zip_code\": \"33149\", \"country\": \"US\", \"state\": \"FL\", \"display_address\": [\"971 Crandon Blvd\", \"Ste 901\", \"Key Biscayne, FL 33149\"]}, \"phone\": \"+17865661990\", \"display_phone\": \"(786) 566-1990\", \"distance\": 14731.362857281803}, {\"id\": \"upk91T-WWBPoBanqltP_Kw\", \"alias\": \"exhale-bal-harbour-bal-harbour-2\", \"name\": \"Exhale Bal Harbour\", \"image_url\": \"https://s3-media2.fl.yelpcdn.com/bphoto/7FOSEnfbERcwZpJgIZvGow/o.jpg\", \"is_closed\": false, \"url\": \"https://www.yelp.com/biz/exhale-bal-harbour-bal-harbour-2?adjust_creative=HX7Zg3hgCbFKs_FeotRdCA&utm_campaign=yelp_api_v3&utm_medium=api_v3_business_search&utm_source=HX7Zg3hgCbFKs_FeotRdCA\", \"review_count\": 32, \"categories\": [{\"alias\": \"spas\", \"title\": \"Day Spas\"}], \"rating\": 4.5, \"coordinates\": {\"latitude\": 25.89896, \"longitude\": -80.12324}, \"transactions\": [], \"price\": \"$$$\", \"location\": {\"address1\": \"10295 Collins Ave\", \"address2\": \"The Ritz-Carlton Bal Harbour, Miami\", \"address3\": \"\", \"city\": \"Bal Harbour\", \"zip_code\": \"33154\", \"country\": \"US\", \"state\": \"FL\", \"display_address\": [\"10295 Collins Ave\", \"The Ritz-Carlton Bal Harbour, Miami\", \"Bal Harbour, FL 33154\"]}, \"phone\": \"+13054555411\", \"display_phone\": \"(305) 455-5411\", \"distance\": 23150.66488750286}, {\"id\": \"lZWlZzP2k0QI4SGxoCPzxg\", \"alias\": \"the-spa-at-the-miami-beach-edition-miami-beach\", \"name\": \"The Spa at The Miami Beach EDITION\", \"image_url\": \"https://s3-media1.fl.yelpcdn.com/bphoto/pmkPiqt0w4FWm0pwTkZ7qg/o.jpg\", \"is_closed\": false, \"url\": \"https://www.yelp.com/biz/the-spa-at-the-miami-beach-edition-miami-beach?adjust_creative=HX7Zg3hgCbFKs_FeotRdCA&utm_campaign=yelp_api_v3&utm_medium=api_v3_business_search&utm_source=HX7Zg3hgCbFKs_FeotRdCA\", \"review_count\": 16, \"categories\": [{\"alias\": \"spas\", \"title\": \"Day Spas\"}, {\"alias\": \"massage\", \"title\": \"Massage\"}, {\"alias\": \"makeupartists\", \"title\": \"Makeup Artists\"}], \"rating\": 4.0, \"coordinates\": {\"latitude\": 25.805152, \"longitude\": -80.124114}, \"transactions\": [], \"price\": \"$$$\", \"location\": {\"address1\": \"2901 Collins Ave\", \"address2\": null, \"address3\": null, \"city\": \"Miami Beach\", \"zip_code\": \"33140\", \"country\": \"US\", \"state\": \"FL\", \"display_address\": [\"2901 Collins Ave\", \"Miami Beach, FL 33140\"]}, \"phone\": \"+17862574539\", \"display_phone\": \"(786) 257-4539\", \"distance\": 17420.581959924508}, {\"id\": \"8G_U0mBAtJXsEho3RsEGfQ\", \"alias\": \"the-trump-spa-doral-2\", \"name\": \"The Trump Spa\", \"image_url\": \"https://s3-media1.fl.yelpcdn.com/bphoto/q0VNvhFCYHFE1jndY_eQVw/o.jpg\", \"is_closed\": false, \"url\": \"https://www.yelp.com/biz/the-trump-spa-doral-2?adjust_creative=HX7Zg3hgCbFKs_FeotRdCA&utm_campaign=yelp_api_v3&utm_medium=api_v3_business_search&utm_source=HX7Zg3hgCbFKs_FeotRdCA\", \"review_count\": 40, \"categories\": [{\"alias\": \"spas\", \"title\": \"Day Spas\"}, {\"alias\": \"saunas\", \"title\": \"Saunas\"}], \"rating\": 3.5, \"coordinates\": {\"latitude\": 25.813700808463, \"longitude\": -80.3397311273697}, \"transactions\": [], \"price\": \"$$$\", \"location\": {\"address1\": \"8755 NW 36th St\", \"address2\": \"\", \"address3\": \"\", \"city\": \"Doral\", \"zip_code\": \"33178\", \"country\": \"US\", \"state\": \"FL\", \"display_address\": [\"8755 NW 36th St\", \"Doral, FL 33178\"]}, \"phone\": \"+13057176303\", \"display_phone\": \"(305) 717-6303\", \"distance\": 8524.473159656834}, {\"id\": \"y1Z6IGebQIaPMcZ5BMmA8g\", \"alias\": \"the-standard-spa-miami-beach-3\", \"name\": \"The Standard Spa\", \"image_url\": \"https://s3-media2.fl.yelpcdn.com/bphoto/Aco9DpL6zOnBwSkv3d7yfQ/o.jpg\", \"is_closed\": false, \"url\": \"https://www.yelp.com/biz/the-standard-spa-miami-beach-3?adjust_creative=HX7Zg3hgCbFKs_FeotRdCA&utm_campaign=yelp_api_v3&utm_medium=api_v3_business_search&utm_source=HX7Zg3hgCbFKs_FeotRdCA\", \"review_count\": 88, \"categories\": [{\"alias\": \"spas\", \"title\": \"Day Spas\"}], \"rating\": 3.5, \"coordinates\": {\"latitude\": 25.79205, \"longitude\": -80.14814}, \"transactions\": [], \"price\": \"$$$\", \"location\": {\"address1\": \"40 Island Ave\", \"address2\": \"\", \"address3\": \"\", \"city\": \"Miami Beach\", \"zip_code\": \"33139\", \"country\": \"US\", \"state\": \"FL\", \"display_address\": [\"40 Island Ave\", \"Miami Beach, FL 33139\"]}, \"phone\": \"+13057043945\", \"display_phone\": \"(305) 704-3945\", \"distance\": 14578.052873572784}, {\"id\": \"YjjeADTSKV53B2x6hentLA\", \"alias\": \"maribelle-day-spa-miami\", \"name\": \"Maribelle Day Spa\", \"image_url\": \"https://s3-media4.fl.yelpcdn.com/bphoto/6EumWS6XsYrnn8hKgC1YLA/o.jpg\", \"is_closed\": false, \"url\": \"https://www.yelp.com/biz/maribelle-day-spa-miami?adjust_creative=HX7Zg3hgCbFKs_FeotRdCA&utm_campaign=yelp_api_v3&utm_medium=api_v3_business_search&utm_source=HX7Zg3hgCbFKs_FeotRdCA\", \"review_count\": 86, \"categories\": [{\"alias\": \"spas\", \"title\": \"Day Spas\"}, {\"alias\": \"othersalons\", \"title\": \"Nail Salons\"}], \"rating\": 4.5, \"coordinates\": {\"latitude\": 25.7332345, \"longitude\": -80.3164747}, \"transactions\": [], \"price\": \"$$\", \"location\": {\"address1\": \"7501 SW 40th St\", \"address2\": \"\", \"address3\": \"\", \"city\": \"Miami\", \"zip_code\": \"33155\", \"country\": \"US\", \"state\": \"FL\", \"display_address\": [\"7501 SW 40th St\", \"Miami, FL 33155\"]}, \"phone\": \"+13056669666\", \"display_phone\": \"(305) 666-9666\", \"distance\": 3581.178771405737}, {\"id\": \"d97_MiMMhgqH34CaQxDOLg\", \"alias\": \"miami-lakes-therapeutic-massage-center-miami-lakes-3\", \"name\": \"Miami Lakes Therapeutic Massage\", \"image_url\": \"https://s3-media4.fl.yelpcdn.com/bphoto/m2o0TXSCUUlyv-vHlY56dA/o.jpg\", \"is_closed\": false, \"url\": \"https://www.yelp.com/biz/miami-lakes-therapeutic-massage-center-miami-lakes-3?adjust_creative=HX7Zg3hgCbFKs_FeotRdCA&utm_campaign=yelp_api_v3&utm_medium=api_v3_business_search&utm_source=HX7Zg3hgCbFKs_FeotRdCA\", \"review_count\": 20, \"categories\": [{\"alias\": \"massage_therapy\", \"title\": \"Massage Therapy\"}], \"rating\": 5.0, \"coordinates\": {\"latitude\": 25.89957, \"longitude\": -80.30749}, \"transactions\": [], \"location\": {\"address1\": \"13903 NW 67th Ave\", \"address2\": \"\", \"address3\": \"\", \"city\": \"Miami Lakes\", \"zip_code\": \"33014\", \"country\": \"US\", \"state\": \"FL\", \"display_address\": [\"13903 NW 67th Ave\", \"Miami Lakes, FL 33014\"]}, \"phone\": \"+13058266856\", \"display_phone\": \"(305) 826-6856\", \"distance\": 16431.918589513545}, {\"id\": \"ssnK9hk7DDW8lvypRg5UXw\", \"alias\": \"precise-touch-spa-miami\", \"name\": \"Precise Touch Spa\", \"image_url\": \"https://s3-media2.fl.yelpcdn.com/bphoto/MJLoTBY3tREg6TcgcB8fug/o.jpg\", \"is_closed\": false, \"url\": \"https://www.yelp.com/biz/precise-touch-spa-miami?adjust_creative=HX7Zg3hgCbFKs_FeotRdCA&utm_campaign=yelp_api_v3&utm_medium=api_v3_business_search&utm_source=HX7Zg3hgCbFKs_FeotRdCA\", \"review_count\": 3, \"categories\": [{\"alias\": \"massage\", \"title\": \"Massage\"}, {\"alias\": \"skincare\", \"title\": \"Skin Care\"}], \"rating\": 5.0, \"coordinates\": {\"latitude\": 25.7634191, \"longitude\": -80.2846919}, \"transactions\": [], \"price\": \"$$\", \"location\": {\"address1\": \"5540 SW 8th St\", \"address2\": \"\", \"address3\": \"\", \"city\": \"Miami\", \"zip_code\": \"33134\", \"country\": \"US\", \"state\": \"FL\", \"display_address\": [\"5540 SW 8th St\", \"Miami, FL 33134\"]}, \"phone\": \"+13058159108\", \"display_phone\": \"(305) 815-9108\", \"distance\": 1233.6815818948246}, {\"id\": \"1W8g5R8lk49C26jY5vgGRg\", \"alias\": \"metamorphis-healing-spa-miami-2\", \"name\": \"Metamorphis Healing Spa\", \"image_url\": \"https://s3-media2.fl.yelpcdn.com/bphoto/ApUC0SuiS2L32FAWdeZGXg/o.jpg\", \"is_closed\": false, \"url\": \"https://www.yelp.com/biz/metamorphis-healing-spa-miami-2?adjust_creative=HX7Zg3hgCbFKs_FeotRdCA&utm_campaign=yelp_api_v3&utm_medium=api_v3_business_search&utm_source=HX7Zg3hgCbFKs_FeotRdCA\", \"review_count\": 22, \"categories\": [{\"alias\": \"spas\", \"title\": \"Day Spas\"}, {\"alias\": \"massage_therapy\", \"title\": \"Massage Therapy\"}, {\"alias\": \"skincare\", \"title\": \"Skin Care\"}], \"rating\": 4.5, \"coordinates\": {\"latitude\": 25.730305, \"longitude\": -80.401955}, \"transactions\": [], \"price\": \"$$\", \"location\": {\"address1\": \"12809 SW 42nd St\", \"address2\": null, \"address3\": \"\", \"city\": \"Miami\", \"zip_code\": \"33175\", \"country\": \"US\", \"state\": \"FL\", \"display_address\": [\"12809 SW 42nd St\", \"Miami, FL 33175\"]}, \"phone\": \"+17864202034\", \"display_phone\": \"(786) 420-2034\", \"distance\": 11687.656231578085}, {\"id\": \"a-OaSMsJZYlzRseD_sDAJA\", \"alias\": \"mindykim-skincare-miami-3\", \"name\": \"Mindykim Skincare\", \"image_url\": \"https://s3-media1.fl.yelpcdn.com/bphoto/ddPBm4OAeGZU09VJsZdJXg/o.jpg\", \"is_closed\": false, \"url\": \"https://www.yelp.com/biz/mindykim-skincare-miami-3?adjust_creative=HX7Zg3hgCbFKs_FeotRdCA&utm_campaign=yelp_api_v3&utm_medium=api_v3_business_search&utm_source=HX7Zg3hgCbFKs_FeotRdCA\", \"review_count\": 125, \"categories\": [{\"alias\": \"skincare\", \"title\": \"Skin Care\"}, {\"alias\": \"acnetreatment\", \"title\": \"Acne Treatment\"}, {\"alias\": \"spas\", \"title\": \"Day Spas\"}], \"rating\": 4.5, \"coordinates\": {\"latitude\": 25.808, \"longitude\": -80.19252}, \"transactions\": [], \"price\": \"$$\", \"location\": {\"address1\": \"3301 NE 1st Ave\", \"address2\": \"Ste 112\", \"address3\": \"\", \"city\": \"Miami\", \"zip_code\": \"33137\", \"country\": \"US\", \"state\": \"FL\", \"display_address\": [\"3301 NE 1st Ave\", \"Ste 112\", \"Miami, FL 33137\"]}, \"phone\": \"+17864490822\", \"display_phone\": \"(786) 449-0822\", \"distance\": 11365.928418188696}, {\"id\": \"MlncKnaxHlrO8qw1PXQfvQ\", \"alias\": \"carillon-miami-wellness-resort-miami\", \"name\": \"Carillon Miami Wellness Resort\", \"image_url\": \"https://s3-media4.fl.yelpcdn.com/bphoto/taEfwIQo1g0SKKDpdwKIiA/o.jpg\", \"is_closed\": false, \"url\": \"https://www.yelp.com/biz/carillon-miami-wellness-resort-miami?adjust_creative=HX7Zg3hgCbFKs_FeotRdCA&utm_campaign=yelp_api_v3&utm_medium=api_v3_business_search&utm_source=HX7Zg3hgCbFKs_FeotRdCA\", \"review_count\": 120, \"categories\": [{\"alias\": \"hotels\", \"title\": \"Hotels\"}, {\"alias\": \"spas\", \"title\": \"Day Spas\"}], \"rating\": 3.5, \"coordinates\": {\"latitude\": 25.85256, \"longitude\": -80.11971}, \"transactions\": [], \"price\": \"$$$\", \"location\": {\"address1\": \"6801 Collins Ave\", \"address2\": \"\", \"address3\": \"\", \"city\": \"Miami\", \"zip_code\": \"33141\", \"country\": \"US\", \"state\": \"FL\", \"display_address\": [\"6801 Collins Ave\", \"Miami, FL 33141\"]}, \"phone\": \"+13055147000\", \"display_phone\": \"(305) 514-7000\", \"distance\": 20178.542885784453}, {\"id\": \"EfhW75HfUrbfv07m8hLqJA\", \"alias\": \"the-salt-day-spa-sunny-isles-beach\", \"name\": \"The Salt Day Spa\", \"image_url\": \"https://s3-media2.fl.yelpcdn.com/bphoto/mjChKiEibW5y05Pc8hIa8A/o.jpg\", \"is_closed\": false, \"url\": \"https://www.yelp.com/biz/the-salt-day-spa-sunny-isles-beach?adjust_creative=HX7Zg3hgCbFKs_FeotRdCA&utm_campaign=yelp_api_v3&utm_medium=api_v3_business_search&utm_source=HX7Zg3hgCbFKs_FeotRdCA\", \"review_count\": 5, \"categories\": [{\"alias\": \"skincare\", \"title\": \"Skin Care\"}, {\"alias\": \"massage\", \"title\": \"Massage\"}, {\"alias\": \"saunas\", \"title\": \"Saunas\"}], \"rating\": 5.0, \"coordinates\": {\"latitude\": 25.93697, \"longitude\": -80.12085}, \"transactions\": [], \"price\": \"$$\", \"location\": {\"address1\": \"17375 Collins Ave\", \"address2\": null, \"address3\": \"\", \"city\": \"Sunny Isles Beach\", \"zip_code\": \"33160\", \"country\": \"US\", \"state\": \"FL\", \"display_address\": [\"17375 Collins Ave\", \"Sunny Isles Beach, FL 33160\"]}, \"phone\": \"+17865401088\", \"display_phone\": \"(786) 540-1088\", \"distance\": 26467.28357842599}, {\"id\": \"AWeFLix12_yY7xbiel64Yg\", \"alias\": \"\\\\u00e2me-spa-and-wellness-collective-aventura-5\", \"name\": \"\\\\u00c2me Spa & Wellness Collective\", \"image_url\": \"https://s3-media1.fl.yelpcdn.com/bphoto/9OrN0jI8gqw-rxkQ4x-pyQ/o.jpg\", \"is_closed\": false, \"url\": \"https://www.yelp.com/biz/%C3%A2me-spa-and-wellness-collective-aventura-5?adjust_creative=HX7Zg3hgCbFKs_FeotRdCA&utm_campaign=yelp_api_v3&utm_medium=api_v3_business_search&utm_source=HX7Zg3hgCbFKs_FeotRdCA\", \"review_count\": 82, \"categories\": [{\"alias\": \"spas\", \"title\": \"Day Spas\"}, {\"alias\": \"hair\", \"title\": \"Hair Salons\"}, {\"alias\": \"massage\", \"title\": \"Massage\"}], \"rating\": 4.0, \"coordinates\": {\"latitude\": 25.95998, \"longitude\": -80.13819}, \"transactions\": [], \"price\": \"$$$\", \"location\": {\"address1\": \"19999 W Country Club Dr\", \"address2\": \"\", \"address3\": \"\", \"city\": \"Aventura\", \"zip_code\": \"33180\", \"country\": \"US\", \"state\": \"FL\", \"display_address\": [\"19999 W Country Club Dr\", \"Aventura, FL 33180\"]}, \"phone\": \"+13059336930\", \"display_phone\": \"(305) 933-6930\", \"distance\": 27258.92775583817}, {\"id\": \"mVolayOtz0SdZb9sc9FDFQ\", \"alias\": \"laurens-face-the-day-coral-gables\", \"name\": \"Lauren\\'s Face the Day\", \"image_url\": \"https://s3-media4.fl.yelpcdn.com/bphoto/90nkUU9uORK2ixUuLdPkow/o.jpg\", \"is_closed\": false, \"url\": \"https://www.yelp.com/biz/laurens-face-the-day-coral-gables?adjust_creative=HX7Zg3hgCbFKs_FeotRdCA&utm_campaign=yelp_api_v3&utm_medium=api_v3_business_search&utm_source=HX7Zg3hgCbFKs_FeotRdCA\", \"review_count\": 48, \"categories\": [{\"alias\": \"spas\", \"title\": \"Day Spas\"}, {\"alias\": \"skincare\", \"title\": \"Skin Care\"}], \"rating\": 5.0, \"coordinates\": {\"latitude\": 25.7532984, \"longitude\": -80.2625727}, \"transactions\": [], \"price\": \"$$\", \"location\": {\"address1\": \"386 Minorca Ave\", \"address2\": \"\", \"address3\": \"\", \"city\": \"Coral Gables\", \"zip_code\": \"33134\", \"country\": \"US\", \"state\": \"FL\", \"display_address\": [\"386 Minorca Ave\", \"Coral Gables, FL 33134\"]}, \"phone\": \"+13054489400\", \"display_phone\": \"(305) 448-9400\", \"distance\": 2555.878913395271}, {\"id\": \"UzTuNxtUguKwII9KcB1omg\", \"alias\": \"healing-hands-therapeutic-massage-miami\", \"name\": \"Healing Hands Therapeutic Massage\", \"image_url\": \"https://s3-media2.fl.yelpcdn.com/bphoto/CXdNZLLg6QtfU1tXrtmtpw/o.jpg\", \"is_closed\": false, \"url\": \"https://www.yelp.com/biz/healing-hands-therapeutic-massage-miami?adjust_creative=HX7Zg3hgCbFKs_FeotRdCA&utm_campaign=yelp_api_v3&utm_medium=api_v3_business_search&utm_source=HX7Zg3hgCbFKs_FeotRdCA\", \"review_count\": 64, \"categories\": [{\"alias\": \"massage_therapy\", \"title\": \"Massage Therapy\"}], \"rating\": 5.0, \"coordinates\": {\"latitude\": 25.770538, \"longitude\": -80.194154}, \"transactions\": [], \"location\": {\"address1\": \"350 S Miami Ave\", \"address2\": \"Ste A\", \"address3\": \"(inside CityDesk at Wind tower)\", \"city\": \"Miami\", \"zip_code\": \"33130\", \"country\": \"US\", \"state\": \"FL\", \"display_address\": [\"350 S Miami Ave\", \"Ste A\", \"(inside CityDesk at Wind tower)\", \"Miami, FL 33130\"]}, \"phone\": \"+13053218253\", \"display_phone\": \"(305) 321-8253\", \"distance\": 9599.708093993533}, {\"id\": \"_QnUTaa62uS1n2GPbTTcvQ\", \"alias\": \"tuya-spa-north-miami\", \"name\": \"Tuya Spa\", \"image_url\": \"https://s3-media2.fl.yelpcdn.com/bphoto/OoXzZwW8MZ9wa_msn7Av2A/o.jpg\", \"is_closed\": false, \"url\": \"https://www.yelp.com/biz/tuya-spa-north-miami?adjust_creative=HX7Zg3hgCbFKs_FeotRdCA&utm_campaign=yelp_api_v3&utm_medium=api_v3_business_search&utm_source=HX7Zg3hgCbFKs_FeotRdCA\", \"review_count\": 22, \"categories\": [{\"alias\": \"skincare\", \"title\": \"Skin Care\"}, {\"alias\": \"spas\", \"title\": \"Day Spas\"}, {\"alias\": \"yoga\", \"title\": \"Yoga\"}], \"rating\": 5.0, \"coordinates\": {\"latitude\": 25.8891801, \"longitude\": -80.1533903}, \"transactions\": [], \"price\": \"$$\", \"location\": {\"address1\": \"2116 NE 123rd St\", \"address2\": \"\", \"address3\": \"\", \"city\": \"North Miami\", \"zip_code\": \"33181\", \"country\": \"US\", \"state\": \"FL\", \"display_address\": [\"2116 NE 123rd St\", \"North Miami, FL 33181\"]}, \"phone\": \"+17864479577\", \"display_phone\": \"(786) 447-9577\", \"distance\": 20295.141127397248}, {\"id\": \"n_EokmERqNxhAmnOUUgeXQ\", \"alias\": \"remede-spa-miami-beach\", \"name\": \"Remede Spa\", \"image_url\": \"https://s3-media1.fl.yelpcdn.com/bphoto/OnXNkJUpvTRYKSKouEt4Iw/o.jpg\", \"is_closed\": false, \"url\": \"https://www.yelp.com/biz/remede-spa-miami-beach?adjust_creative=HX7Zg3hgCbFKs_FeotRdCA&utm_campaign=yelp_api_v3&utm_medium=api_v3_business_search&utm_source=HX7Zg3hgCbFKs_FeotRdCA\", \"review_count\": 13, \"categories\": [{\"alias\": \"spas\", \"title\": \"Day Spas\"}], \"rating\": 5.0, \"coordinates\": {\"latitude\": 25.8882093429565, \"longitude\": -80.123568624258}, \"transactions\": [], \"price\": \"$$$$\", \"location\": {\"address1\": \"9703 Collins Ave\", \"address2\": \"\", \"address3\": \"\", \"city\": \"Miami Beach\", \"zip_code\": \"33154\", \"country\": \"US\", \"state\": \"FL\", \"display_address\": [\"9703 Collins Ave\", \"Miami Beach, FL 33154\"]}, \"phone\": \"+13059933300\", \"display_phone\": \"(305) 993-3300\", \"distance\": 22312.179276181712}, {\"id\": \"5zUqRk4b-H3Jmfc8WAkYtw\", \"alias\": \"oriental-massage-doral-2\", \"name\": \"Oriental Massage\", \"image_url\": \"https://s3-media3.fl.yelpcdn.com/bphoto/eXvTMAovDfRJSFb24g9ESw/o.jpg\", \"is_closed\": false, \"url\": \"https://www.yelp.com/biz/oriental-massage-doral-2?adjust_creative=HX7Zg3hgCbFKs_FeotRdCA&utm_campaign=yelp_api_v3&utm_medium=api_v3_business_search&utm_source=HX7Zg3hgCbFKs_FeotRdCA\", \"review_count\": 10, \"categories\": [{\"alias\": \"massage\", \"title\": \"Massage\"}, {\"alias\": \"massage_therapy\", \"title\": \"Massage Therapy\"}], \"rating\": 5.0, \"coordinates\": {\"latitude\": 25.80838, \"longitude\": -80.32654}, \"transactions\": [], \"price\": \"$$\", \"location\": {\"address1\": \"7930 NW 36th St\", \"address2\": \"Ste 17\", \"address3\": null, \"city\": \"Doral\", \"zip_code\": \"33166\", \"country\": \"US\", \"state\": \"FL\", \"display_address\": [\"7930 NW 36th St\", \"Ste 17\", \"Doral, FL 33166\"]}, \"phone\": \"+13054710808\", \"display_phone\": \"(305) 471-0808\", \"distance\": 7259.0619311128685}, {\"id\": \"lXNNrKy3ZhT6wrZtFV2vCg\", \"alias\": \"caudalie-boutique-miami\", \"name\": \"Caudalie Boutique\", \"image_url\": \"https://s3-media2.fl.yelpcdn.com/bphoto/_4ycWWn33naKBP7YR9byfw/o.jpg\", \"is_closed\": false, \"url\": \"https://www.yelp.com/biz/caudalie-boutique-miami?adjust_creative=HX7Zg3hgCbFKs_FeotRdCA&utm_campaign=yelp_api_v3&utm_medium=api_v3_business_search&utm_source=HX7Zg3hgCbFKs_FeotRdCA\", \"review_count\": 8, \"categories\": [{\"alias\": \"cosmetics\", \"title\": \"Cosmetics & Beauty Supply\"}, {\"alias\": \"spas\", \"title\": \"Day Spas\"}, {\"alias\": \"massage\", \"title\": \"Massage\"}], \"rating\": 5.0, \"coordinates\": {\"latitude\": 25.7671674, \"longitude\": -80.1930873}, \"transactions\": [], \"location\": {\"address1\": \"701 South Miami Ave\", \"address2\": \"\", \"address3\": null, \"city\": \"Miami\", \"zip_code\": \"33131\", \"country\": \"US\", \"state\": \"FL\", \"display_address\": [\"701 South Miami Ave\", \"Miami, FL 33131\"]}, \"phone\": \"+17868717919\", \"display_phone\": \"(786) 871-7919\", \"distance\": 9647.655318506799}, {\"id\": \"chC5Oj6WRFSNMB08CVV_mQ\", \"alias\": \"perla-herrera-miami-2\", \"name\": \"Perla Herrera\", \"image_url\": \"https://s3-media3.fl.yelpcdn.com/bphoto/Aa-xtbBx06Jd377JKW3hXQ/o.jpg\", \"is_closed\": false, \"url\": \"https://www.yelp.com/biz/perla-herrera-miami-2?adjust_creative=HX7Zg3hgCbFKs_FeotRdCA&utm_campaign=yelp_api_v3&utm_medium=api_v3_business_search&utm_source=HX7Zg3hgCbFKs_FeotRdCA\", \"review_count\": 5, \"categories\": [{\"alias\": \"massage_therapy\", \"title\": \"Massage Therapy\"}, {\"alias\": \"reiki\", \"title\": \"Reiki\"}], \"rating\": 5.0, \"coordinates\": {\"latitude\": 25.7564662, \"longitude\": -80.2711588}, \"transactions\": [], \"location\": {\"address1\": \"\", \"address2\": null, \"address3\": \"\", \"city\": \"Miami\", \"zip_code\": \"33134\", \"country\": \"US\", \"state\": \"FL\", \"display_address\": [\"Miami, FL 33134\"]}, \"phone\": \"+13053213890\", \"display_phone\": \"(305) 321-3890\", \"distance\": 1744.7747429181068}, {\"id\": \"jQy5eAwY3d3A2TrUOGlwDg\", \"alias\": \"como-shambhala-urban-escape-miami-beach\", \"name\": \"COMO Shambhala Urban Escape\", \"image_url\": \"https://s3-media1.fl.yelpcdn.com/bphoto/pfMzI_rAttXrleNE5cb3ig/o.jpg\", \"is_closed\": false, \"url\": \"https://www.yelp.com/biz/como-shambhala-urban-escape-miami-beach?adjust_creative=HX7Zg3hgCbFKs_FeotRdCA&utm_campaign=yelp_api_v3&utm_medium=api_v3_business_search&utm_source=HX7Zg3hgCbFKs_FeotRdCA\", \"review_count\": 10, \"categories\": [{\"alias\": \"massage\", \"title\": \"Massage\"}, {\"alias\": \"yoga\", \"title\": \"Yoga\"}], \"rating\": 5.0, \"coordinates\": {\"latitude\": 25.8003921508789, \"longitude\": -80.1260375976562}, \"transactions\": [], \"price\": \"$$$\", \"location\": {\"address1\": \"2445 Collins Ave\", \"address2\": \"\", \"address3\": \"\", \"city\": \"Miami Beach\", \"zip_code\": \"33140\", \"country\": \"US\", \"state\": \"FL\", \"display_address\": [\"2445 Collins Ave\", \"Miami Beach, FL 33140\"]}, \"phone\": \"+13056953528\", \"display_phone\": \"(305) 695-3528\", \"distance\": 17057.71506737357}, {\"id\": \"5enkzBw4T4Y4u_gbXymPww\", \"alias\": \"the-spa-at-four-seasons-hotel-surfside\", \"name\": \"The Spa at Four Seasons Hotel\", \"image_url\": \"https://s3-media3.fl.yelpcdn.com/bphoto/oc0bY7r1IFEESy6aj8fhZQ/o.jpg\", \"is_closed\": false, \"url\": \"https://www.yelp.com/biz/the-spa-at-four-seasons-hotel-surfside?adjust_creative=HX7Zg3hgCbFKs_FeotRdCA&utm_campaign=yelp_api_v3&utm_medium=api_v3_business_search&utm_source=HX7Zg3hgCbFKs_FeotRdCA\", \"review_count\": 3, \"categories\": [{\"alias\": \"spas\", \"title\": \"Day Spas\"}], \"rating\": 4.5, \"coordinates\": {\"latitude\": 25.8780547, \"longitude\": -80.1218405}, \"transactions\": [], \"location\": {\"address1\": \"9101 Collins Ave\", \"address2\": null, \"address3\": \"The Surf Club\", \"city\": \"Surfside\", \"zip_code\": \"33154\", \"country\": \"US\", \"state\": \"FL\", \"display_address\": [\"9101 Collins Ave\", \"The Surf Club\", \"Surfside, FL 33154\"]}, \"phone\": \"+17864822362\", \"display_phone\": \"(786) 482-2362\", \"distance\": 21703.437657098097}, {\"id\": \"CySVbQLQ-QvG6lzzrF2X8g\", \"alias\": \"rejuvenation-spa-surfside\", \"name\": \"Rejuvenation Spa\", \"image_url\": \"https://s3-media3.fl.yelpcdn.com/bphoto/CQnukI92_oZSlHWJbiKnHw/o.jpg\", \"is_closed\": false, \"url\": \"https://www.yelp.com/biz/rejuvenation-spa-surfside?adjust_creative=HX7Zg3hgCbFKs_FeotRdCA&utm_campaign=yelp_api_v3&utm_medium=api_v3_business_search&utm_source=HX7Zg3hgCbFKs_FeotRdCA\", \"review_count\": 7, \"categories\": [{\"alias\": \"spas\", \"title\": \"Day Spas\"}, {\"alias\": \"healthtrainers\", \"title\": \"Trainers\"}, {\"alias\": \"massage_therapy\", \"title\": \"Massage Therapy\"}], \"rating\": 5.0, \"coordinates\": {\"latitude\": 25.8840394791732, \"longitude\": -80.1222525014697}, \"transactions\": [], \"location\": {\"address1\": \"9449 Collins Ave\", \"address2\": \"\", \"address3\": null, \"city\": \"Surfside\", \"zip_code\": \"33154\", \"country\": \"US\", \"state\": \"FL\", \"display_address\": [\"9449 Collins Ave\", \"Surfside, FL 33154\"]}, \"phone\": \"+17864565777\", \"display_phone\": \"(786) 456-5777\", \"distance\": 22105.23009783941}, {\"id\": \"947TixecuEgY_OsGR8AeiA\", \"alias\": \"momo-relaxation-spa-pembroke-pines\", \"name\": \"Momo Relaxation Spa\", \"image_url\": \"https://s3-media2.fl.yelpcdn.com/bphoto/v286ei6HeDoHyr7dorjg_g/o.jpg\", \"is_closed\": false, \"url\": \"https://www.yelp.com/biz/momo-relaxation-spa-pembroke-pines?adjust_creative=HX7Zg3hgCbFKs_FeotRdCA&utm_campaign=yelp_api_v3&utm_medium=api_v3_business_search&utm_source=HX7Zg3hgCbFKs_FeotRdCA\", \"review_count\": 13, \"categories\": [{\"alias\": \"massage\", \"title\": \"Massage\"}, {\"alias\": \"reflexology\", \"title\": \"Reflexology\"}, {\"alias\": \"massage_therapy\", \"title\": \"Massage Therapy\"}], \"rating\": 4.5, \"coordinates\": {\"latitude\": 26.0292451, \"longitude\": -80.3695477}, \"transactions\": [], \"location\": {\"address1\": \"16610 Sheridan St\", \"address2\": null, \"address3\": \"\", \"city\": \"Pembroke Pines\", \"zip_code\": \"33028\", \"country\": \"US\", \"state\": \"FL\", \"display_address\": [\"16610 Sheridan St\", \"Pembroke Pines, FL 33028\"]}, \"phone\": \"+17868566885\", \"display_phone\": \"(786) 856-6885\", \"distance\": 31799.154949998258}, {\"id\": \"JgcnLVNDb3PnxBIT3XdgXg\", \"alias\": \"massage-from-heaven-hollywood-2\", \"name\": \"Massage From Heaven\", \"image_url\": \"https://s3-media2.fl.yelpcdn.com/bphoto/tUyMX9o5P6ZXghZsMgx6dA/o.jpg\", \"is_closed\": false, \"url\": \"https://www.yelp.com/biz/massage-from-heaven-hollywood-2?adjust_creative=HX7Zg3hgCbFKs_FeotRdCA&utm_campaign=yelp_api_v3&utm_medium=api_v3_business_search&utm_source=HX7Zg3hgCbFKs_FeotRdCA\", \"review_count\": 76, \"categories\": [{\"alias\": \"massage\", \"title\": \"Massage\"}, {\"alias\": \"spas\", \"title\": \"Day Spas\"}, {\"alias\": \"waxing\", \"title\": \"Waxing\"}], \"rating\": 4.5, \"coordinates\": {\"latitude\": 26.0148105, \"longitude\": -80.1172037}, \"transactions\": [], \"price\": \"$$\", \"location\": {\"address1\": \"411-B N Ocean Dr\", \"address2\": null, \"address3\": \"\", \"city\": \"Hollywood\", \"zip_code\": \"33019\", \"country\": \"US\", \"state\": \"FL\", \"display_address\": [\"411-B N Ocean Dr\", \"Hollywood, FL 33019\"]}, \"phone\": \"+19543673917\", \"display_phone\": \"(954) 367-3917\", \"distance\": 33783.74287282427}, {\"id\": \"mVQdnM-K2DwCsBnh_OmvQA\", \"alias\": \"the-massage-room-miami-beach-2\", \"name\": \"The Massage Room\", \"image_url\": \"https://s3-media3.fl.yelpcdn.com/bphoto/nVb-UPywfandtiEMUnkGOw/o.jpg\", \"is_closed\": false, \"url\": \"https://www.yelp.com/biz/the-massage-room-miami-beach-2?adjust_creative=HX7Zg3hgCbFKs_FeotRdCA&utm_campaign=yelp_api_v3&utm_medium=api_v3_business_search&utm_source=HX7Zg3hgCbFKs_FeotRdCA\", \"review_count\": 38, \"categories\": [{\"alias\": \"massage\", \"title\": \"Massage\"}], \"rating\": 4.5, \"coordinates\": {\"latitude\": 25.7908238, \"longitude\": -80.1311693}, \"transactions\": [], \"price\": \"$$\", \"location\": {\"address1\": \"311 Lincoln Rd\", \"address2\": \"Ste 305A\", \"address3\": \"\", \"city\": \"Miami Beach\", \"zip_code\": \"33139\", \"country\": \"US\", \"state\": \"FL\", \"display_address\": [\"311 Lincoln Rd\", \"Ste 305A\", \"Miami Beach, FL 33139\"]}, \"phone\": \"+17862526211\", \"display_phone\": \"(786) 252-6211\", \"distance\": 16277.697376443071}, {\"id\": \"hSDY_VltsTjrrQ-8F-bfrA\", \"alias\": \"the-ritz-carlton-spa-south-beach-miami-beach-2\", \"name\": \"The Ritz-Carlton Spa, South Beach\", \"image_url\": \"https://s3-media4.fl.yelpcdn.com/bphoto/lJoakpLc41h4Q39Cn2kgdA/o.jpg\", \"is_closed\": false, \"url\": \"https://www.yelp.com/biz/the-ritz-carlton-spa-south-beach-miami-beach-2?adjust_creative=HX7Zg3hgCbFKs_FeotRdCA&utm_campaign=yelp_api_v3&utm_medium=api_v3_business_search&utm_source=HX7Zg3hgCbFKs_FeotRdCA\", \"review_count\": 21, \"categories\": [{\"alias\": \"spas\", \"title\": \"Day Spas\"}], \"rating\": 4.0, \"coordinates\": {\"latitude\": 25.7908857721547, \"longitude\": -80.1287854723388}, \"transactions\": [], \"price\": \"$$$$\", \"location\": {\"address1\": \"1 Lincoln Rd\", \"address2\": null, \"address3\": \"The Ritz-Carlton, South Beach\", \"city\": \"Miami Beach\", \"zip_code\": \"33139\", \"country\": \"US\", \"state\": \"FL\", \"display_address\": [\"1 Lincoln Rd\", \"The Ritz-Carlton, South Beach\", \"Miami Beach, FL 33139\"]}, \"phone\": \"+17862764090\", \"display_phone\": \"(786) 276-4090\", \"distance\": 16505.394450110212}, {\"id\": \"d9AX4z6mioBVJc-idQGrhg\", \"alias\": \"black-lotus-spa-miami\", \"name\": \"Black Lotus Spa\", \"image_url\": \"https://s3-media2.fl.yelpcdn.com/bphoto/OexB18EJc48_8HG6o_QNHA/o.jpg\", \"is_closed\": false, \"url\": \"https://www.yelp.com/biz/black-lotus-spa-miami?adjust_creative=HX7Zg3hgCbFKs_FeotRdCA&utm_campaign=yelp_api_v3&utm_medium=api_v3_business_search&utm_source=HX7Zg3hgCbFKs_FeotRdCA\", \"review_count\": 6, \"categories\": [{\"alias\": \"massage\", \"title\": \"Massage\"}, {\"alias\": \"massage_therapy\", \"title\": \"Massage Therapy\"}, {\"alias\": \"reiki\", \"title\": \"Reiki\"}], \"rating\": 5.0, \"coordinates\": {\"latitude\": 25.62293667, \"longitude\": -80.34202167}, \"transactions\": [], \"price\": \"$$\", \"location\": {\"address1\": \"9225 SW 158th Ln\", \"address2\": \"Ste A\", \"address3\": \"\", \"city\": \"Miami\", \"zip_code\": \"33157\", \"country\": \"US\", \"state\": \"FL\", \"display_address\": [\"9225 SW 158th Ln\", \"Ste A\", \"Miami, FL 33157\"]}, \"phone\": \"+13055628712\", \"display_phone\": \"(305) 562-8712\", \"distance\": 15436.22924251003}], \"total\": 2800, \"region\": {\"center\": {\"longitude\": -80.2880859375, \"latitude\": 25.752753731496888}}}'"
      ]
     },
     "execution_count": 10,
     "metadata": {},
     "output_type": "execute_result"
    }
   ],
   "source": [
    "response.text"
   ]
  },
  {
   "cell_type": "code",
   "execution_count": 11,
   "metadata": {},
   "outputs": [],
   "source": [
    "data = json.loads(response.text)"
   ]
  },
  {
   "cell_type": "code",
   "execution_count": 12,
   "metadata": {},
   "outputs": [
    {
     "name": "stdout",
     "output_type": "stream",
     "text": [
      "businesses\n",
      "<class 'list'>\n",
      "total\n",
      "<class 'int'>\n",
      "region\n",
      "<class 'dict'>\n"
     ]
    }
   ],
   "source": [
    "for key in data.keys(): \n",
    "    print(key)\n",
    "    print(type(data[key]))"
   ]
  },
  {
   "cell_type": "code",
   "execution_count": 13,
   "metadata": {},
   "outputs": [
    {
     "data": {
      "text/plain": [
       "2800"
      ]
     },
     "execution_count": 13,
     "metadata": {},
     "output_type": "execute_result"
    }
   ],
   "source": [
    "data['total']"
   ]
  },
  {
   "cell_type": "code",
   "execution_count": 14,
   "metadata": {},
   "outputs": [
    {
     "data": {
      "text/plain": [
       "50"
      ]
     },
     "execution_count": 14,
     "metadata": {},
     "output_type": "execute_result"
    }
   ],
   "source": [
    "len(data['businesses'])"
   ]
  },
  {
   "cell_type": "code",
   "execution_count": 15,
   "metadata": {},
   "outputs": [
    {
     "data": {
      "text/plain": [
       "{'id': 'nNLKoINrGTcwPYznO0afNA',\n",
       " 'alias': 'tao-spa-miami-miami-beach',\n",
       " 'name': 'Tao Spa Miami',\n",
       " 'image_url': 'https://s3-media4.fl.yelpcdn.com/bphoto/om4OLJ9l8nxcmZUznImuTg/o.jpg',\n",
       " 'is_closed': False,\n",
       " 'url': 'https://www.yelp.com/biz/tao-spa-miami-miami-beach?adjust_creative=HX7Zg3hgCbFKs_FeotRdCA&utm_campaign=yelp_api_v3&utm_medium=api_v3_business_search&utm_source=HX7Zg3hgCbFKs_FeotRdCA',\n",
       " 'review_count': 215,\n",
       " 'categories': [{'alias': 'massage', 'title': 'Massage'},\n",
       "  {'alias': 'skincare', 'title': 'Skin Care'},\n",
       "  {'alias': 'spas', 'title': 'Day Spas'}],\n",
       " 'rating': 4.5,\n",
       " 'coordinates': {'latitude': 25.7757272509468, 'longitude': -80.1356340580861},\n",
       " 'transactions': [],\n",
       " 'price': '$$',\n",
       " 'location': {'address1': '726 6th St',\n",
       "  'address2': '',\n",
       "  'address3': None,\n",
       "  'city': 'Miami Beach',\n",
       "  'zip_code': '33139',\n",
       "  'country': 'US',\n",
       "  'state': 'FL',\n",
       "  'display_address': ['726 6th St', 'Miami Beach, FL 33139']},\n",
       " 'phone': '+17862167200',\n",
       " 'display_phone': '(786) 216-7200',\n",
       " 'distance': 15478.922368900325}"
      ]
     },
     "execution_count": 15,
     "metadata": {},
     "output_type": "execute_result"
    }
   ],
   "source": [
    "business = data['businesses'][0]\n",
    "business"
   ]
  },
  {
   "cell_type": "code",
   "execution_count": 16,
   "metadata": {},
   "outputs": [
    {
     "data": {
      "text/plain": [
       "'https://api.yelp.com/v3/businesses/HrTHjKD-zbS2GvbDCeS54Q/reviews'"
      ]
     },
     "execution_count": 16,
     "metadata": {},
     "output_type": "execute_result"
    }
   ],
   "source": [
    "url2 = 'https://api.yelp.com/v3/businesses/HrTHjKD-zbS2GvbDCeS54Q/reviews' \n",
    "url2"
   ]
  },
  {
   "cell_type": "code",
   "execution_count": 17,
   "metadata": {},
   "outputs": [
    {
     "ename": "NameError",
     "evalue": "name 'business_id' is not defined",
     "output_type": "error",
     "traceback": [
      "\u001b[0;31m---------------------------------------------------------------------------\u001b[0m",
      "\u001b[0;31mNameError\u001b[0m                                 Traceback (most recent call last)",
      "\u001b[0;32m<ipython-input-17-a5385fc41940>\u001b[0m in \u001b[0;36m<module>\u001b[0;34m\u001b[0m\n\u001b[0;32m----> 1\u001b[0;31m \u001b[0murl3\u001b[0m \u001b[0;34m=\u001b[0m \u001b[0;34m'https://api.yelp.com/v3/businesses/{}/reviews'\u001b[0m\u001b[0;34m.\u001b[0m\u001b[0mformat\u001b[0m\u001b[0;34m(\u001b[0m\u001b[0mbusiness_id\u001b[0m\u001b[0;34m)\u001b[0m\u001b[0;34m\u001b[0m\u001b[0;34m\u001b[0m\u001b[0m\n\u001b[0m\u001b[1;32m      2\u001b[0m \u001b[0murl3\u001b[0m\u001b[0;34m\u001b[0m\u001b[0;34m\u001b[0m\u001b[0m\n",
      "\u001b[0;31mNameError\u001b[0m: name 'business_id' is not defined"
     ]
    }
   ],
   "source": [
    "url3 = 'https://api.yelp.com/v3/businesses/{}/reviews'.format(business_id) \n",
    "url3"
   ]
  },
  {
   "cell_type": "code",
   "execution_count": null,
   "metadata": {},
   "outputs": [],
   "source": [
    "response2 = requests.get(url2, headers=headers)\n",
    "response2.text"
   ]
  },
  {
   "cell_type": "code",
   "execution_count": null,
   "metadata": {},
   "outputs": [],
   "source": [
    "data2 = json.loads(response2.text) \n",
    "data2"
   ]
  },
  {
   "cell_type": "code",
   "execution_count": null,
   "metadata": {},
   "outputs": [],
   "source": [
    "response3 = requests.get(url3, headers=headers, params=url_params)\n",
    "response3.text"
   ]
  },
  {
   "cell_type": "markdown",
   "metadata": {},
   "source": [
    "## Part 2 - Set up the DB\n",
    "\n",
    "Now that you are familiar with the data, create your SQL queries to create the DB and the appropriate tables. "
   ]
  },
  {
   "cell_type": "markdown",
   "metadata": {},
   "source": [
    "### Foriegn Keys\n",
    "\n",
    "For this project you will have two tables that you need to link using a foreign key. Below is some information about how to create a foriegn key.  \n",
    "\n",
    "https://www.sqlitetutorial.net/sqlite-foreign-key/\n"
   ]
  },
  {
   "cell_type": "markdown",
   "metadata": {},
   "source": [
    "### Using DB:\n",
    "    \n",
    "For this lab, you can either store the data on one DB or put in on both of the partners DBs. If you decide to put it on one DB, you want to make sure both partners have access to it.  To do this you want to add a user to your DB.  \n",
    "\n",
    "[how to add a new user](https://howchoo.com/g/mtm3zdq2nzv/how-to-add-a-mysql-user-and-grant-privileges)"
   ]
  },
  {
   "cell_type": "code",
   "execution_count": null,
   "metadata": {},
   "outputs": [],
   "source": [
    "## Connect to local SQLite instance \n",
    "import sqlite3 \n",
    "import pandas as pd"
   ]
  },
  {
   "cell_type": "code",
   "execution_count": null,
   "metadata": {},
   "outputs": [],
   "source": [
    "## Create new DB  \n",
    "\n",
    "conn = sqlite3.connect('yelpspa.db')\n",
    "cur = conn.cursor()\n",
    "\n",
    "conn.commit() \n",
    "cur.close() \n",
    "conn.close()"
   ]
  },
  {
   "cell_type": "code",
   "execution_count": null,
   "metadata": {},
   "outputs": [],
   "source": [
    "conn = sqlite3.connect('yelpspa.db')\n",
    "cur = conn.cursor()"
   ]
  },
  {
   "cell_type": "code",
   "execution_count": null,
   "metadata": {},
   "outputs": [],
   "source": [
    "# Create a table for the Businesses \n",
    "\n",
    "cur.execute(\"\"\"CREATE TABLE business (\n",
    "                                id TEXT PRIMARY KEY,\n",
    "                                name TEXT,\n",
    "                                is_closed NUMERIC,\n",
    "                                review_count INTEGER,\n",
    "                                categories TEXT, \n",
    "                                rating INTEGER, \n",
    "                                price TEXT, \n",
    "                                location_city TEXT,\n",
    "                                location_zipcode INTEGER)          \n",
    "            \"\"\") \n",
    "\n",
    "conn.commit()"
   ]
  },
  {
   "cell_type": "code",
   "execution_count": null,
   "metadata": {},
   "outputs": [],
   "source": [
    "business"
   ]
  },
  {
   "cell_type": "code",
   "execution_count": null,
   "metadata": {},
   "outputs": [],
   "source": [
    "#We will note which catagories we includes since some have up to 3 catagories.  (Ask Sean Abu) \n",
    "\n",
    "\n",
    "\n",
    "biz_tuple = (business['id'],\n",
    "             business['name'],\n",
    "             business['is_closed'], \n",
    "             business['review_count'],\n",
    "             business['categories'][0]['title'],\n",
    "             business['categories'][1]['title'] , \n",
    "             business['rating'], \n",
    "             business ['price'], \n",
    "             business['location']['city'], \n",
    "             business['location']['zip_code']) \n",
    "biz_tuple"
   ]
  },
  {
   "cell_type": "code",
   "execution_count": 18,
   "metadata": {},
   "outputs": [
    {
     "name": "stdout",
     "output_type": "stream",
     "text": [
      "made it\n"
     ]
    },
    {
     "ename": "NameError",
     "evalue": "name 'np' is not defined",
     "output_type": "error",
     "traceback": [
      "\u001b[0;31m---------------------------------------------------------------------------\u001b[0m",
      "\u001b[0;31mNameError\u001b[0m                                 Traceback (most recent call last)",
      "\u001b[0;32m<ipython-input-18-65f554c77a48>\u001b[0m in \u001b[0;36m<module>\u001b[0;34m\u001b[0m\n\u001b[1;32m     12\u001b[0m             \u001b[0;32melif\u001b[0m \u001b[0mlen\u001b[0m\u001b[0;34m(\u001b[0m\u001b[0mbusiness\u001b[0m\u001b[0;34m[\u001b[0m\u001b[0mitem\u001b[0m\u001b[0;34m]\u001b[0m\u001b[0;34m)\u001b[0m \u001b[0;34m==\u001b[0m \u001b[0;36m1\u001b[0m\u001b[0;34m:\u001b[0m\u001b[0;34m\u001b[0m\u001b[0;34m\u001b[0m\u001b[0m\n\u001b[1;32m     13\u001b[0m                 \u001b[0mprint\u001b[0m\u001b[0;34m(\u001b[0m\u001b[0;34m'made it'\u001b[0m\u001b[0;34m)\u001b[0m\u001b[0;34m\u001b[0m\u001b[0;34m\u001b[0m\u001b[0m\n\u001b[0;32m---> 14\u001b[0;31m                 \u001b[0mbusiness\u001b[0m\u001b[0;34m[\u001b[0m\u001b[0mitem\u001b[0m\u001b[0;34m]\u001b[0m\u001b[0;34m.\u001b[0m\u001b[0mappend\u001b[0m\u001b[0;34m(\u001b[0m\u001b[0;34m{\u001b[0m\u001b[0;34m'alias'\u001b[0m\u001b[0;34m:\u001b[0m \u001b[0;34m''\u001b[0m\u001b[0;34m,\u001b[0m \u001b[0;34m'title'\u001b[0m\u001b[0;34m:\u001b[0m \u001b[0mnp\u001b[0m\u001b[0;34m.\u001b[0m\u001b[0mnan\u001b[0m\u001b[0;34m}\u001b[0m\u001b[0;34m)\u001b[0m\u001b[0;34m\u001b[0m\u001b[0;34m\u001b[0m\u001b[0m\n\u001b[0m\u001b[1;32m     15\u001b[0m         \u001b[0;32mif\u001b[0m \u001b[0mitem\u001b[0m \u001b[0;32mnot\u001b[0m \u001b[0;32min\u001b[0m \u001b[0mbusiness\u001b[0m\u001b[0;34m:\u001b[0m\u001b[0;34m\u001b[0m\u001b[0;34m\u001b[0m\u001b[0m\n\u001b[1;32m     16\u001b[0m             \u001b[0mbusiness\u001b[0m\u001b[0;34m[\u001b[0m\u001b[0mitem\u001b[0m\u001b[0;34m]\u001b[0m \u001b[0;34m=\u001b[0m \u001b[0mnp\u001b[0m\u001b[0;34m.\u001b[0m\u001b[0mnan\u001b[0m\u001b[0;34m\u001b[0m\u001b[0;34m\u001b[0m\u001b[0m\n",
      "\u001b[0;31mNameError\u001b[0m: name 'np' is not defined"
     ]
    }
   ],
   "source": [
    "biz_list = []\n",
    "count = 0\n",
    "biz_ID_list = []\n",
    "\n",
    "for business in data['businesses']:\n",
    "    for item in ['is_closed', 'review_count', 'categories', 'rating', 'price']:\n",
    "        if item == 'categories':\n",
    "            if len(business[item]) == 0:\n",
    "                business[item] = []\n",
    "                business[item].append({'alias': '', 'title': np.nan})\n",
    "                business[item].append({'alias': '', 'title': np.nan})\n",
    "            elif len(business[item]) == 1:\n",
    "                print('made it')\n",
    "                business[item].append({'alias': '', 'title': np.nan})\n",
    "        if item not in business:\n",
    "            business[item] = np.nan\n",
    "        else:\n",
    "            business[item]\n",
    "    biz_tuple = (business['id'], \n",
    "            business['name'] , \n",
    "            business['is_closed'], \n",
    "            business['review_count'],\n",
    "            business['categories'][0]['title'], \n",
    "            business['categories'][1]['title'],\n",
    "            business ['rating'], \n",
    "            business ['price'],\n",
    "            business['location']['city'],\n",
    "            business['location']['zip_code'])\n",
    "    count += 1\n",
    "    biz_list.append(biz_tuple)"
   ]
  },
  {
   "cell_type": "code",
   "execution_count": null,
   "metadata": {},
   "outputs": [],
   "source": [
    "for b in data['businesses']: \n",
    "    "
   ]
  },
  {
   "cell_type": "code",
   "execution_count": null,
   "metadata": {},
   "outputs": [],
   "source": [
    "for contact in contacts:\n",
    "    firstName = contact['firstName']\n",
    "    lastName = contact['lastName']\n",
    "    role = contact['role']\n",
    "    telephone  = contact['telephone ']\n",
    "    street = contact['street']\n",
    "    city = contact['city']\n",
    "    state = contact['state']\n",
    "    zipcode  = contact['zipcode ']\n",
    "    cur.execute(\"\"\"INSERT INTO contactInfo3 (firstname, lastname, role, telephone, street, city, state, zipcode) \n",
    "                  VALUES ('{}', '{}', '{}', '{}', '{}', '{}', '{}', '{}');\n",
    "                \"\"\".format(firstName, lastName, role, telephone, street, city, state, zipcode) )"
   ]
  },
  {
   "cell_type": "code",
   "execution_count": null,
   "metadata": {},
   "outputs": [],
   "source": [
    "# Create a table for the reviews \n",
    "\n",
    "cur.execute(\"\"\"CREATE TABLE reviews (\n",
    "                                id TEXT PRIMARY KEY,\n",
    "                                text TEXT,\n",
    "                                rating NUMERIC,\n",
    "                                time_created NUMERIC,\n",
    "                                business_id TEXT  \n",
    "                               )          \n",
    "            \"\"\") \n",
    "\n",
    "conn.commit()"
   ]
  },
  {
   "cell_type": "code",
   "execution_count": null,
   "metadata": {},
   "outputs": [],
   "source": [
    "cur.execute(\"\"\"SELECT * \n",
    "                FROM business;\n",
    "            \"\"\") \n",
    "\n",
    "cur.fetchall()\n"
   ]
  },
  {
   "cell_type": "markdown",
   "metadata": {},
   "source": [
    "## Part 3 - Create ETL pipeline for the business data from the API\n",
    "\n",
    "Now that you know what data you need from the API, you want to write code that will execute a api call, parse those results and then insert the results into the DB.  \n",
    "\n",
    "It is helpful to break this up into three different functions (*api call, parse results, and insert into DB*) and then you can write a function/script that pull the other three functions together. \n",
    "\n",
    "Let's first do this for the Business endpoint."
   ]
  },
  {
   "cell_type": "markdown",
   "metadata": {},
   "source": [
    "- Write a function to make a call to the yelp API"
   ]
  },
  {
   "cell_type": "code",
   "execution_count": null,
   "metadata": {},
   "outputs": [],
   "source": [
    "def yelp_call(url_params, api_key):\n",
    "    # your code to make the yelp call\n",
    "    return data"
   ]
  },
  {
   "cell_type": "markdown",
   "metadata": {},
   "source": [
    "- Write a function to parse the API response so that you can easily insert the data in to the DB"
   ]
  },
  {
   "cell_type": "code",
   "execution_count": null,
   "metadata": {},
   "outputs": [],
   "source": [
    "def parse_results(results):\n",
    "    # your code to parse the result to make them easier to insert into the DB\n",
    "    return parsed_results"
   ]
  },
  {
   "cell_type": "markdown",
   "metadata": {},
   "source": [
    "- Write a function to take your parsed data and insert it into the DB"
   ]
  },
  {
   "cell_type": "code",
   "execution_count": null,
   "metadata": {},
   "outputs": [],
   "source": [
    "def db_insert(cnx, cursor, parsed results):\n",
    "    # your code to insert and commit the results\n",
    "    # I would create the connection and cursor outside of this function and then pass it through"
   ]
  },
  {
   "cell_type": "markdown",
   "metadata": {},
   "source": [
    "- Write a script that combines the three functions above into a single process."
   ]
  },
  {
   "cell_type": "code",
   "execution_count": null,
   "metadata": {},
   "outputs": [],
   "source": [
    "\n",
    "\n",
    "# create a variable  to keep track of which result you are in. \n",
    "cur = 0\n",
    "\n",
    "#set up a while loop to go through and grab the result \n",
    "while cur < num and cur < 1000:\n",
    "    #set the offset parameter to be where you currently are in the results \n",
    "    url_params['offset'] = cur\n",
    "    #make your API call with the new offset number\n",
    "    results = yelp_call(url_params, api_key)\n",
    "    \n",
    "    #after you get your results you can now use your function to parse those results\n",
    "    parsed_results = parse_results(results)\n",
    "    \n",
    "    # use your function to insert your parsed results into the db\n",
    "    db_insert(parsed_results)\n",
    "    #increment the counter by 50 to move on to the next results\n",
    "    cur += 20"
   ]
  },
  {
   "cell_type": "markdown",
   "metadata": {},
   "source": [
    "## Part 4 -  Create ETL pipeline for the restaurant review data from the API\n",
    "\n",
    "You've done this for the Businesses, now you need to do this for reviews. You will follow the same process, but your functions will be specific to reviews."
   ]
  },
  {
   "cell_type": "markdown",
   "metadata": {},
   "source": [
    "- Write a SQL query to pull back all of the business ids. You will need these ids to pull back the reviews for each restaurant"
   ]
  },
  {
   "cell_type": "markdown",
   "metadata": {},
   "source": [
    "- Write a function that takes a business id and makes a call to the API for reivews\n"
   ]
  },
  {
   "cell_type": "markdown",
   "metadata": {},
   "source": [
    "- Write a function to parse out the relevant information from the reviews"
   ]
  },
  {
   "cell_type": "markdown",
   "metadata": {},
   "source": [
    "- Write a function to insert the parsed data into the reviews table"
   ]
  },
  {
   "cell_type": "markdown",
   "metadata": {},
   "source": [
    "- Combine the functions above into a single script  "
   ]
  },
  {
   "cell_type": "markdown",
   "metadata": {},
   "source": [
    "## Part 5 -  Write SQL queries that will answer the questions posed. \n",
    "\n",
    "Now that your data is in the DB, you can answer the questions. Write SQL querires that will answer the questions. **Do not use Pandas for this part of the project.**"
   ]
  },
  {
   "cell_type": "code",
   "execution_count": null,
   "metadata": {},
   "outputs": [],
   "source": []
  },
  {
   "cell_type": "markdown",
   "metadata": {},
   "source": [
    "## Part 6 - Pull in relevant data into your python environment and analysis it using descriptive statistics.  This can be don either using Pandas or solely Python code.\n"
   ]
  },
  {
   "cell_type": "code",
   "execution_count": null,
   "metadata": {},
   "outputs": [],
   "source": []
  },
  {
   "cell_type": "markdown",
   "metadata": {},
   "source": [
    "## Part 7 - Create Data visualizations using Matplotlib or Seaborn"
   ]
  },
  {
   "cell_type": "code",
   "execution_count": null,
   "metadata": {},
   "outputs": [],
   "source": []
  },
  {
   "cell_type": "markdown",
   "metadata": {},
   "source": [
    "# Reference help"
   ]
  },
  {
   "cell_type": "code",
   "execution_count": null,
   "metadata": {},
   "outputs": [],
   "source": []
  },
  {
   "cell_type": "markdown",
   "metadata": {},
   "source": [
    "###  Pagination\n",
    "\n",
    "Returning to the Yelp API, the [documentation](https://www.yelp.com/developers/documentation/v3/business_search) also provides us details regarding the API limits. These often include details about the number of requests a user is allowed to make within a specified time limit and the maximum number of results to be returned. In this case, we are told that any request has a maximum of 50 results per request and defaults to 20. Furthermore, any search will be limited to a total of 1000 results. To retrieve all 1000 of these results, we would have to page through the results piece by piece, retriving 50 at a time. Processes such as these are often refered to as pagination.\n",
    "\n",
    "Now that you have an initial response, you can examine the contents of the json container. For example, you might start with ```response.json().keys()```. Here, you'll see a key for `'total'`, which tells you the full number of matching results given your query parameters. Write a loop (or ideally a function) which then makes successive API calls using the offset parameter to retrieve all of the results (or 5000 for a particularly large result set) for the original query. As you do this, be mindful of how you store the data. \n",
    "\n",
    "**Note: be mindful of the API rate limits. You can only make 5000 requests per day, and APIs can make requests too fast. Start prototyping small before running a loop that could be faulty. You can also use time.sleep(n) to add delays. For more details see https://www.yelp.com/developers/documentation/v3/rate_limiting.**"
   ]
  },
  {
   "cell_type": "markdown",
   "metadata": {},
   "source": [
    "***Below is sample code that you can use to help you deal with the pagination parameter and bring all of the functions together.***\n",
    "\n",
    "\n",
    "***Also, something might cause your code to break while it is running. You don't want to constantly repull the same data when this happens, so you should insert the data into the database as you call and parse it, not after you have all of the data***\n"
   ]
  },
  {
   "cell_type": "code",
   "execution_count": null,
   "metadata": {},
   "outputs": [],
   "source": [
    "# create a variable  to keep track of which result you are in. \n",
    "cur = 0\n",
    "\n",
    "#set up a while loop to go through and grab the result \n",
    "while cur < num and cur < 1000:\n",
    "    #set the offset parameter to be where you currently are in the results \n",
    "    url_params['offset'] = cur\n",
    "    #make your API call with the new offset number\n",
    "    results = yelp_call(url_params, api_key)\n",
    "    \n",
    "    #after you get your results you can now use your function to parse those results\n",
    "    parsed_results = parse_results(results)\n",
    "    \n",
    "    # use your function to insert your parsed results into the db\n",
    "    db_insert(parsed_results)\n",
    "    #increment the counter by 50 to move on to the next results\n",
    "    cur += 20"
   ]
  },
  {
   "cell_type": "code",
   "execution_count": null,
   "metadata": {},
   "outputs": [],
   "source": []
  }
 ],
 "metadata": {
  "kernelspec": {
   "display_name": "Python 3",
   "language": "python",
   "name": "python3"
  },
  "language_info": {
   "codemirror_mode": {
    "name": "ipython",
    "version": 3
   },
   "file_extension": ".py",
   "mimetype": "text/x-python",
   "name": "python",
   "nbconvert_exporter": "python",
   "pygments_lexer": "ipython3",
   "version": "3.8.3"
  },
  "toc": {
   "base_numbering": 1,
   "nav_menu": {},
   "number_sections": false,
   "sideBar": true,
   "skip_h1_title": false,
   "title_cell": "Table of Contents",
   "title_sidebar": "Contents",
   "toc_cell": false,
   "toc_position": {},
   "toc_section_display": true,
   "toc_window_display": false
  }
 },
 "nbformat": 4,
 "nbformat_minor": 4
}
