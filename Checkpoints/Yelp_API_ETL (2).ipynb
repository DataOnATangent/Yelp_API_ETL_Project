{
 "cells": [
  {
   "cell_type": "markdown",
   "metadata": {},
   "source": [
    "## Part 1 - Understanding your data and question\n",
    "\n",
    "Lok at the question and determine what data you will need to store in your database in order to answer the questions. Start to thin about your DB schema. What tables will you want to create and what columns will you ahve for those tables. \n",
    "\n",
    "Look at the API documentation, and determine what fields of the API response you will match up with the columns you want in your DB tables. \n",
    "\n",
    "\n",
    "https://www.yelp.com/developers/documentation/v3/get_started"
   ]
  },
  {
   "cell_type": "code",
   "execution_count": null,
   "metadata": {},
   "outputs": [],
   "source": [
    "#Which are the 5 most reviewed businesses?  \n",
    "# Look for. ' review_count'#Lapis Spa, Tao Spa Miami, VITA Body Club,  Exhale Miami, Mindykim Skincare, Elements Massage-Pinecrest \n",
    "#What is the highest rating recieved in your data set and how many businesses have that rating?\n",
    "#''rating''\n",
    "#What percentage of businesses have a rating greater than or 4.5?\n",
    "#What percentage of businesses have a rating less than 3?\n",
    "\n",
    "#What is the average rating of businesses that have a price label of one dollar sign? Two dollar signs? Three dollar signs?\n",
    "#'price' , 0:4 $ \n",
    "#Return the text of the reviews for the most reviewed business.\n",
    "#Return the name of the business with the most recent review.\n",
    "#Find the highest rated business and return text of the most recent review. If multiple business have the same rating, select the business with the most reviews.\n",
    "#Find the lowest rated business and return text of the most recent review. If multiple business have the same rating, select the business with the least reviews"
   ]
  },
  {
   "cell_type": "code",
   "execution_count": null,
   "metadata": {},
   "outputs": [],
   "source": [
    "import requests\n",
    "import json"
   ]
  },
  {
   "cell_type": "code",
   "execution_count": null,
   "metadata": {},
   "outputs": [],
   "source": [
    "url =  'https://api.yelp.com/v3/businesses/search' "
   ]
  },
  {
   "cell_type": "code",
   "execution_count": null,
   "metadata": {},
   "outputs": [],
   "source": [
    "client_id = 'HX7Zg3hgCbFKs_FeotRdCA' \n",
    "api_key = 'm3thcmik5l2yJb4BAfg-uYJyI82T6W52bEBS_HFE4nzUudzabtUagvEnJUdwb9wfSDjTZD1C2-qdcpLU6x-suSaz8ijI2b4hc3Brygw8hmNGm_skfaMen_JZ6EvzX3Yx'"
   ]
  },
  {
   "cell_type": "code",
   "execution_count": null,
   "metadata": {},
   "outputs": [],
   "source": [
    "headers = {\n",
    "        'Authorization': 'Bearer {}'.format(api_key),\n",
    "    }"
   ]
  },
  {
   "cell_type": "code",
   "execution_count": null,
   "metadata": {},
   "outputs": [],
   "source": [
    "# what type of business do you want to search\n",
    "term = 'spa' \n",
    "\n",
    "#where do you want to perform this search\n",
    "location = 'Miami,FL'\n",
    "\n",
    "# what is your other parameter you want to search against\n",
    "radius = 40000"
   ]
  },
  {
   "cell_type": "code",
   "execution_count": null,
   "metadata": {},
   "outputs": [],
   "source": [
    "url_params = {\n",
    "                \"term\": term.replace(' ', '+'),\n",
    "                \"location\": location.replace(' ', '+'),\n",
    "                \"radius\" : radius,\n",
    "                \"limit\": 50 \n",
    "                \n",
    "            }"
   ]
  },
  {
   "cell_type": "code",
   "execution_count": 19,
   "metadata": {},
   "outputs": [
    {
     "data": {
      "text/plain": [
       "{'term': 'spa',\n",
       " 'location': 'Miami,FL',\n",
       " 'radius': 40000,\n",
       " 'limit': 50,\n",
       " 'offset': 0}"
      ]
     },
     "execution_count": 19,
     "metadata": {},
     "output_type": "execute_result"
    }
   ],
   "source": [
    "url_params"
   ]
  },
  {
   "cell_type": "code",
   "execution_count": 20,
   "metadata": {},
   "outputs": [],
   "source": [
    "response = requests.get(url, headers=headers, params=url_params)"
   ]
  },
  {
   "cell_type": "code",
   "execution_count": null,
   "metadata": {},
   "outputs": [],
   "source": [
    "response.text"
   ]
  },
  {
   "cell_type": "code",
   "execution_count": 21,
   "metadata": {},
   "outputs": [],
   "source": [
    "data = json.loads(response.text)"
   ]
  },
  {
   "cell_type": "code",
   "execution_count": null,
   "metadata": {},
   "outputs": [],
   "source": [
    "for key in data.keys(): \n",
    "    print(key)\n",
    "    print(type(data[key]))"
   ]
  },
  {
   "cell_type": "code",
   "execution_count": null,
   "metadata": {},
   "outputs": [],
   "source": [
    "data['total']"
   ]
  },
  {
   "cell_type": "code",
   "execution_count": null,
   "metadata": {},
   "outputs": [],
   "source": [
    "len(data['businesses'])"
   ]
  },
  {
   "cell_type": "code",
   "execution_count": null,
   "metadata": {},
   "outputs": [],
   "source": [
    "url2 = 'https://api.yelp.com/v3/businesses/HrTHjKD-zbS2GvbDCeS54Q/reviews' \n",
    "url2"
   ]
  },
  {
   "cell_type": "code",
   "execution_count": null,
   "metadata": {},
   "outputs": [],
   "source": [
    "url3 = 'https://api.yelp.com/v3/businesses/{}/reviews'.format(business_id) \n",
    "url3"
   ]
  },
  {
   "cell_type": "code",
   "execution_count": null,
   "metadata": {},
   "outputs": [],
   "source": [
    "response2 = requests.get(url2, headers=headers)\n",
    "response2.text"
   ]
  },
  {
   "cell_type": "code",
   "execution_count": null,
   "metadata": {},
   "outputs": [],
   "source": [
    "data2 = json.loads(response2.text) \n",
    "data2"
   ]
  },
  {
   "cell_type": "code",
   "execution_count": null,
   "metadata": {},
   "outputs": [],
   "source": [
    "response3 = requests.get(url3, headers=headers, params=url_params)\n",
    "response3.text"
   ]
  },
  {
   "cell_type": "markdown",
   "metadata": {},
   "source": [
    "## Part 2 - Set up the DB\n",
    "\n",
    "Now that you are familiar with the data, create your SQL queries to create the DB and the appropriate tables. "
   ]
  },
  {
   "cell_type": "markdown",
   "metadata": {},
   "source": [
    "### Foriegn Keys\n",
    "\n",
    "For this project you will have two tables that you need to link using a foreign key. Below is some information about how to create a foriegn key.  \n",
    "\n",
    "https://www.sqlitetutorial.net/sqlite-foreign-key/\n"
   ]
  },
  {
   "cell_type": "markdown",
   "metadata": {},
   "source": [
    "### Using DB:\n",
    "    \n",
    "For this lab, you can either store the data on one DB or put in on both of the partners DBs. If you decide to put it on one DB, you want to make sure both partners have access to it.  To do this you want to add a user to your DB.  \n",
    "\n",
    "[how to add a new user](https://howchoo.com/g/mtm3zdq2nzv/how-to-add-a-mysql-user-and-grant-privileges)"
   ]
  },
  {
   "cell_type": "code",
   "execution_count": null,
   "metadata": {},
   "outputs": [],
   "source": [
    "## Connect to local SQLite instance \n",
    "import sqlite3 \n",
    "import pandas as pd\n",
    "import numpy as np"
   ]
  },
  {
   "cell_type": "code",
   "execution_count": 7,
   "metadata": {},
   "outputs": [],
   "source": [
    "## Create new DB  \n",
    "\n",
    "conn = sqlite3.connect('yelpspa.db')\n",
    "cur = conn.cursor()\n",
    "\n",
    "conn.commit() \n",
    "cur.close() \n",
    "conn.close()"
   ]
  },
  {
   "cell_type": "code",
   "execution_count": 8,
   "metadata": {},
   "outputs": [],
   "source": [
    "conn = sqlite3.connect('yelpspa.db')\n",
    "cur = conn.cursor()"
   ]
  },
  {
   "cell_type": "code",
   "execution_count": 9,
   "metadata": {},
   "outputs": [],
   "source": [
    "# Create a table for the Businesses \n",
    "\n",
    "cur.execute(\"\"\"CREATE TABLE business (\n",
    "                                id TEXT PRIMARY KEY NOT NULL,\n",
    "                                name TEXT,\n",
    "                                is_closed NUMERIC,\n",
    "                                review_count INTEGER,\n",
    "                                category_1 TEXT,\n",
    "                                category_2 TEXT,\n",
    "                                rating INTEGER, \n",
    "                                price TEXT,\n",
    "                                area TEXT,\n",
    "                                location_city TEXT,\n",
    "                                location_zipcode INTEGER)          \n",
    "            \"\"\") \n",
    "\n",
    "conn.commit()"
   ]
  },
  {
   "cell_type": "raw",
   "metadata": {},
   "source": [
    "biz_tuple = (business['id'], \n",
    "            business['name'] , \n",
    "            business['is_closed'], \n",
    "            business['review_count'],\n",
    "            business['categories'][0]['title'], \n",
    "            business['categories'][1]['title'],\n",
    "            business ['rating'], \n",
    "            business ['price'],\n",
    "            location,\n",
    "            business['location']['city'],\n",
    "            business['location']['zip_code'])"
   ]
  },
  {
   "cell_type": "raw",
   "metadata": {},
   "source": [
    "import numpy as np\n",
    "\n",
    "if 'price' not in business:\n",
    "    business['price'] = np.nan\n",
    "else:\n",
    "    business['price']\n",
    "            \n",
    "biz_tuple = (business['id'], \n",
    "            business['name'] , \n",
    "            business['is_closed'], \n",
    "            business['review_count'],\n",
    "            business['categories'][0]['title'], \n",
    "            business['categories'][1]['title'],\n",
    "            business ['rating'], \n",
    "            business ['price'],\n",
    "            business['location']['city'],\n",
    "            business['location']['zip_code']) \n",
    "biz_tuple"
   ]
  },
  {
   "cell_type": "raw",
   "metadata": {},
   "source": [
    "import numpy as np\n",
    "\n",
    "for item in ['is_closed', 'review_count', 'categories', 'rating', 'price']:\n",
    "    if item == 'categories':\n",
    "        if len(item) == 0:\n",
    "            business[item][0]['title'] = np.nan\n",
    "        else:\n",
    "            business[item][0]['title']\n",
    "        if len(item) == 1:\n",
    "            business[item][1]['title'] = np.nan\n",
    "        else:\n",
    "            business[item][1]['title']\n",
    "    if item not in business:\n",
    "        business[item] = np.nan\n",
    "    else:\n",
    "        business[item]\n",
    "\n",
    "biz_tuple = (business['id'], \n",
    "            business['name'] , \n",
    "            business['is_closed'], \n",
    "            business['review_count'],\n",
    "            business['categories'][0]['title'], \n",
    "            business['categories'][1]['title'],\n",
    "            business ['rating'], \n",
    "            business ['price'],\n",
    "            business['location']['city'],\n",
    "            business['location']['zip_code']) \n",
    "biz_tuple"
   ]
  },
  {
   "cell_type": "code",
   "execution_count": 22,
   "metadata": {},
   "outputs": [
    {
     "name": "stdout",
     "output_type": "stream",
     "text": [
      "made it\n",
      "made it\n",
      "made it\n",
      "made it\n",
      "made it\n",
      "made it\n",
      "made it\n",
      "made it\n",
      "made it\n",
      "made it\n",
      "made it\n",
      "made it\n"
     ]
    }
   ],
   "source": [
    "biz_list = []\n",
    "count = 0\n",
    "biz_ID_list = []\n",
    "\n",
    "for business in data['businesses']:\n",
    "    for item in ['is_closed', 'review_count', 'categories', 'rating', 'price']:\n",
    "        if item == 'categories':\n",
    "            if len(business[item]) == 0:\n",
    "                business[item] = []\n",
    "                business[item].append({'alias': '', 'title': np.nan})\n",
    "                business[item].append({'alias': '', 'title': np.nan})\n",
    "            elif len(business[item]) == 1:\n",
    "                print('made it')\n",
    "                business[item].append({'alias': '', 'title': np.nan})\n",
    "        if item not in business:\n",
    "            business[item] = np.nan\n",
    "        else:\n",
    "            business[item]\n",
    "        \n",
    "    biz_tuple = (business['id'], \n",
    "            business['name'] , \n",
    "            business['is_closed'], \n",
    "            business['review_count'],\n",
    "            business['categories'][0]['title'], \n",
    "            business['categories'][1]['title'],\n",
    "            business ['rating'], \n",
    "            business ['price'],\n",
    "            location,\n",
    "            business['location']['city'],\n",
    "            business['location']['zip_code'])\n",
    "    count += 1\n",
    "    biz_ID_list.append(business['id'])\n",
    "    biz_list.append(biz_tuple)"
   ]
  },
  {
   "cell_type": "code",
   "execution_count": 23,
   "metadata": {},
   "outputs": [
    {
     "data": {
      "text/plain": [
       "[('nNLKoINrGTcwPYznO0afNA',\n",
       "  'Tao Spa Miami',\n",
       "  False,\n",
       "  215,\n",
       "  'Massage',\n",
       "  'Skin Care',\n",
       "  4.5,\n",
       "  '$$',\n",
       "  'Miami,FL',\n",
       "  'Miami Beach',\n",
       "  '33139'),\n",
       " ('HrTHjKD-zbS2GvbDCeS54Q',\n",
       "  'Biltmore Spa',\n",
       "  False,\n",
       "  101,\n",
       "  'Day Spas',\n",
       "  'Hair Salons',\n",
       "  4.0,\n",
       "  '$$$',\n",
       "  'Miami,FL',\n",
       "  'Coral Gables',\n",
       "  '33134'),\n",
       " ('ImwHmojjWspwyItzRZxd7A',\n",
       "  'The Spa at Mandarin Oriental',\n",
       "  False,\n",
       "  73,\n",
       "  'Day Spas',\n",
       "  'Massage',\n",
       "  4.0,\n",
       "  '$$$$',\n",
       "  'Miami,FL',\n",
       "  'Miami',\n",
       "  '33131'),\n",
       " ('N2Rex8AJS2MG58goE-bXLg',\n",
       "  'Exhale Miami',\n",
       "  False,\n",
       "  125,\n",
       "  'Day Spas',\n",
       "  nan,\n",
       "  4.0,\n",
       "  '$$$',\n",
       "  'Miami,FL',\n",
       "  'Miami',\n",
       "  '33131'),\n",
       " ('WcURjIVEINE-Y24WLpezAA',\n",
       "  'Lapis Spa',\n",
       "  False,\n",
       "  296,\n",
       "  'Day Spas',\n",
       "  'Hair Salons',\n",
       "  4.0,\n",
       "  '$$$',\n",
       "  'Miami,FL',\n",
       "  'Miami Beach',\n",
       "  '33140'),\n",
       " ('_ia42yHh93ZT3nBUHqah2w',\n",
       "  'ME SPA Pembroke Pines',\n",
       "  False,\n",
       "  86,\n",
       "  'Day Spas',\n",
       "  'Massage',\n",
       "  4.5,\n",
       "  '$$',\n",
       "  'Miami,FL',\n",
       "  'Pembroke Pines',\n",
       "  '33027'),\n",
       " ('k-7IhhbFIBPHul8kTt-12Q',\n",
       "  'Body Sense',\n",
       "  False,\n",
       "  103,\n",
       "  'Day Spas',\n",
       "  'Acupuncture',\n",
       "  4.5,\n",
       "  '$$',\n",
       "  'Miami,FL',\n",
       "  'Coral Gables',\n",
       "  '33145'),\n",
       " ('QKwwA55LFR2f-bHsWm2Y8A',\n",
       "  'Esencia Wellness Spa',\n",
       "  False,\n",
       "  81,\n",
       "  'Day Spas',\n",
       "  nan,\n",
       "  4.0,\n",
       "  '$$$',\n",
       "  'Miami,FL',\n",
       "  'Miami Beach',\n",
       "  '33140'),\n",
       " ('qu_bT0BP2-qOHUaiVdet0w',\n",
       "  'Magic Waters Spa',\n",
       "  False,\n",
       "  7,\n",
       "  'Day Spas',\n",
       "  nan,\n",
       "  5.0,\n",
       "  '$$',\n",
       "  'Miami,FL',\n",
       "  'Miami',\n",
       "  '33173'),\n",
       " ('E8_C9Q9AFH1iEermrBP9YA',\n",
       "  'The Spa at Conrad Miami',\n",
       "  False,\n",
       "  38,\n",
       "  'Day Spas',\n",
       "  'Hydrotherapy',\n",
       "  4.5,\n",
       "  '$$',\n",
       "  'Miami,FL',\n",
       "  'Miami',\n",
       "  '33131'),\n",
       " ('aw0KgujpRfZgrgHV9tFV3w',\n",
       "  'Blu Bliss Massage and Spa',\n",
       "  False,\n",
       "  84,\n",
       "  'Skin Care',\n",
       "  'Massage Therapy',\n",
       "  5.0,\n",
       "  '$$',\n",
       "  'Miami,FL',\n",
       "  'Pembroke Pines',\n",
       "  '33024'),\n",
       " ('d6mR7ngdYtGDuTbWlM7mVA',\n",
       "  \"Pecan's Day Spa\",\n",
       "  False,\n",
       "  21,\n",
       "  'Massage',\n",
       "  'Skin Care',\n",
       "  5.0,\n",
       "  '$$$',\n",
       "  'Miami,FL',\n",
       "  'Coral Gables',\n",
       "  '33134'),\n",
       " ('a7TmwhsaAy-ZYddjBRgNdA',\n",
       "  'Skintique Miami',\n",
       "  False,\n",
       "  82,\n",
       "  'Skin Care',\n",
       "  'Massage',\n",
       "  4.5,\n",
       "  '$$',\n",
       "  'Miami,FL',\n",
       "  'Coral Gables',\n",
       "  '33146'),\n",
       " ('Kb90N2LGQ4mHNXpSH4xHbg',\n",
       "  'The Ritz-Carlton Spa, Key Biscayne',\n",
       "  False,\n",
       "  30,\n",
       "  'Day Spas',\n",
       "  'Massage',\n",
       "  4.0,\n",
       "  '$$$',\n",
       "  'Miami,FL',\n",
       "  'Key Biscayne',\n",
       "  '33149'),\n",
       " ('yWcsCImrTFp6_Mg_HZXIcw',\n",
       "  'Golden Foot Massage & Spa',\n",
       "  False,\n",
       "  87,\n",
       "  'Day Spas',\n",
       "  'Skin Care',\n",
       "  4.5,\n",
       "  '$$',\n",
       "  'Miami,FL',\n",
       "  'Coral Gables',\n",
       "  '33134'),\n",
       " ('OYaNEbmBl0ge1V3FkwE9mg',\n",
       "  'Amazian Massage',\n",
       "  False,\n",
       "  60,\n",
       "  'Massage',\n",
       "  'Massage Therapy',\n",
       "  5.0,\n",
       "  '$$',\n",
       "  'Miami,FL',\n",
       "  'Miami',\n",
       "  '33177'),\n",
       " ('uoNVqp8KLAYYeLzDeCQEWA',\n",
       "  'Elements Massage - Pinecrest',\n",
       "  False,\n",
       "  124,\n",
       "  'Massage Therapy',\n",
       "  'Massage',\n",
       "  4.5,\n",
       "  '$$',\n",
       "  'Miami,FL',\n",
       "  'Miami',\n",
       "  '33156'),\n",
       " ('pG_xCYGOOZGJFPk60_q9QQ',\n",
       "  'Valmont for The Spa at The Setai, Miami Beach',\n",
       "  False,\n",
       "  24,\n",
       "  'Day Spas',\n",
       "  'Reflexology',\n",
       "  4.0,\n",
       "  '$$$$',\n",
       "  'Miami,FL',\n",
       "  'Miami Beach',\n",
       "  '33139'),\n",
       " ('m7o5c5icwFxu8YG5dcKIBg',\n",
       "  'All About You Massage',\n",
       "  False,\n",
       "  3,\n",
       "  'Massage',\n",
       "  'Massage Therapy',\n",
       "  5.0,\n",
       "  nan,\n",
       "  'Miami,FL',\n",
       "  'Miami',\n",
       "  '33126'),\n",
       " ('PwA5jq0QuHqwrk84KrVtLQ',\n",
       "  'Acqualina Spa By Espa',\n",
       "  False,\n",
       "  50,\n",
       "  'Day Spas',\n",
       "  'Massage',\n",
       "  4.0,\n",
       "  '$$$',\n",
       "  'Miami,FL',\n",
       "  'Sunny Isles Beach',\n",
       "  '33160'),\n",
       " ('fbzlD7as3lEJw3l595KgjQ',\n",
       "  'VITA Body Club',\n",
       "  False,\n",
       "  207,\n",
       "  'Laser Hair Removal',\n",
       "  'Skin Care',\n",
       "  4.0,\n",
       "  '$$',\n",
       "  'Miami,FL',\n",
       "  'Miami',\n",
       "  '33137'),\n",
       " ('zNVDZTaKd9aqYuZRJWRG9w',\n",
       "  'MySpa Miami',\n",
       "  False,\n",
       "  27,\n",
       "  'Day Spas',\n",
       "  nan,\n",
       "  3.5,\n",
       "  '$$$',\n",
       "  'Miami,FL',\n",
       "  'Miami',\n",
       "  '33131'),\n",
       " ('EK5aaj3c4uEoOPtaXJcKzQ',\n",
       "  'The Healing Room',\n",
       "  False,\n",
       "  7,\n",
       "  'Massage',\n",
       "  'Massage Therapy',\n",
       "  5.0,\n",
       "  nan,\n",
       "  'Miami,FL',\n",
       "  'Key Biscayne',\n",
       "  '33149'),\n",
       " ('upk91T-WWBPoBanqltP_Kw',\n",
       "  'Exhale Bal Harbour',\n",
       "  False,\n",
       "  32,\n",
       "  'Day Spas',\n",
       "  nan,\n",
       "  4.5,\n",
       "  '$$$',\n",
       "  'Miami,FL',\n",
       "  'Bal Harbour',\n",
       "  '33154'),\n",
       " ('lZWlZzP2k0QI4SGxoCPzxg',\n",
       "  'The Spa at The Miami Beach EDITION',\n",
       "  False,\n",
       "  16,\n",
       "  'Day Spas',\n",
       "  'Massage',\n",
       "  4.0,\n",
       "  '$$$',\n",
       "  'Miami,FL',\n",
       "  'Miami Beach',\n",
       "  '33140'),\n",
       " ('8G_U0mBAtJXsEho3RsEGfQ',\n",
       "  'The Trump Spa',\n",
       "  False,\n",
       "  40,\n",
       "  'Day Spas',\n",
       "  'Saunas',\n",
       "  3.5,\n",
       "  '$$$',\n",
       "  'Miami,FL',\n",
       "  'Doral',\n",
       "  '33178'),\n",
       " ('y1Z6IGebQIaPMcZ5BMmA8g',\n",
       "  'The Standard Spa',\n",
       "  False,\n",
       "  88,\n",
       "  'Day Spas',\n",
       "  nan,\n",
       "  3.5,\n",
       "  '$$$',\n",
       "  'Miami,FL',\n",
       "  'Miami Beach',\n",
       "  '33139'),\n",
       " ('YjjeADTSKV53B2x6hentLA',\n",
       "  'Maribelle Day Spa',\n",
       "  False,\n",
       "  86,\n",
       "  'Day Spas',\n",
       "  'Nail Salons',\n",
       "  4.5,\n",
       "  '$$',\n",
       "  'Miami,FL',\n",
       "  'Miami',\n",
       "  '33155'),\n",
       " ('d97_MiMMhgqH34CaQxDOLg',\n",
       "  'Miami Lakes Therapeutic Massage',\n",
       "  False,\n",
       "  20,\n",
       "  'Massage Therapy',\n",
       "  nan,\n",
       "  5.0,\n",
       "  nan,\n",
       "  'Miami,FL',\n",
       "  'Miami Lakes',\n",
       "  '33014'),\n",
       " ('ssnK9hk7DDW8lvypRg5UXw',\n",
       "  'Precise Touch Spa',\n",
       "  False,\n",
       "  3,\n",
       "  'Massage',\n",
       "  'Skin Care',\n",
       "  5.0,\n",
       "  '$$',\n",
       "  'Miami,FL',\n",
       "  'Miami',\n",
       "  '33134'),\n",
       " ('1W8g5R8lk49C26jY5vgGRg',\n",
       "  'Metamorphis Healing Spa',\n",
       "  False,\n",
       "  22,\n",
       "  'Day Spas',\n",
       "  'Massage Therapy',\n",
       "  4.5,\n",
       "  '$$',\n",
       "  'Miami,FL',\n",
       "  'Miami',\n",
       "  '33175'),\n",
       " ('a-OaSMsJZYlzRseD_sDAJA',\n",
       "  'Mindykim Skincare',\n",
       "  False,\n",
       "  125,\n",
       "  'Skin Care',\n",
       "  'Acne Treatment',\n",
       "  4.5,\n",
       "  '$$',\n",
       "  'Miami,FL',\n",
       "  'Miami',\n",
       "  '33137'),\n",
       " ('MlncKnaxHlrO8qw1PXQfvQ',\n",
       "  'Carillon Miami Wellness Resort',\n",
       "  False,\n",
       "  120,\n",
       "  'Hotels',\n",
       "  'Day Spas',\n",
       "  3.5,\n",
       "  '$$$',\n",
       "  'Miami,FL',\n",
       "  'Miami',\n",
       "  '33141'),\n",
       " ('EfhW75HfUrbfv07m8hLqJA',\n",
       "  'The Salt Day Spa',\n",
       "  False,\n",
       "  5,\n",
       "  'Skin Care',\n",
       "  'Massage',\n",
       "  5.0,\n",
       "  '$$',\n",
       "  'Miami,FL',\n",
       "  'Sunny Isles Beach',\n",
       "  '33160'),\n",
       " ('AWeFLix12_yY7xbiel64Yg',\n",
       "  'Âme Spa & Wellness Collective',\n",
       "  False,\n",
       "  82,\n",
       "  'Day Spas',\n",
       "  'Hair Salons',\n",
       "  4.0,\n",
       "  '$$$',\n",
       "  'Miami,FL',\n",
       "  'Aventura',\n",
       "  '33180'),\n",
       " ('mVolayOtz0SdZb9sc9FDFQ',\n",
       "  \"Lauren's Face the Day\",\n",
       "  False,\n",
       "  48,\n",
       "  'Day Spas',\n",
       "  'Skin Care',\n",
       "  5.0,\n",
       "  '$$',\n",
       "  'Miami,FL',\n",
       "  'Coral Gables',\n",
       "  '33134'),\n",
       " ('UzTuNxtUguKwII9KcB1omg',\n",
       "  'Healing Hands Therapeutic Massage',\n",
       "  False,\n",
       "  64,\n",
       "  'Massage Therapy',\n",
       "  nan,\n",
       "  5.0,\n",
       "  nan,\n",
       "  'Miami,FL',\n",
       "  'Miami',\n",
       "  '33130'),\n",
       " ('_QnUTaa62uS1n2GPbTTcvQ',\n",
       "  'Tuya Spa',\n",
       "  False,\n",
       "  22,\n",
       "  'Skin Care',\n",
       "  'Day Spas',\n",
       "  5.0,\n",
       "  '$$',\n",
       "  'Miami,FL',\n",
       "  'North Miami',\n",
       "  '33181'),\n",
       " ('n_EokmERqNxhAmnOUUgeXQ',\n",
       "  'Remede Spa',\n",
       "  False,\n",
       "  13,\n",
       "  'Day Spas',\n",
       "  nan,\n",
       "  5.0,\n",
       "  '$$$$',\n",
       "  'Miami,FL',\n",
       "  'Miami Beach',\n",
       "  '33154'),\n",
       " ('5zUqRk4b-H3Jmfc8WAkYtw',\n",
       "  'Oriental Massage',\n",
       "  False,\n",
       "  10,\n",
       "  'Massage',\n",
       "  'Massage Therapy',\n",
       "  5.0,\n",
       "  '$$',\n",
       "  'Miami,FL',\n",
       "  'Doral',\n",
       "  '33166'),\n",
       " ('lXNNrKy3ZhT6wrZtFV2vCg',\n",
       "  'Caudalie Boutique',\n",
       "  False,\n",
       "  8,\n",
       "  'Cosmetics & Beauty Supply',\n",
       "  'Day Spas',\n",
       "  5.0,\n",
       "  nan,\n",
       "  'Miami,FL',\n",
       "  'Miami',\n",
       "  '33131'),\n",
       " ('chC5Oj6WRFSNMB08CVV_mQ',\n",
       "  'Perla Herrera',\n",
       "  False,\n",
       "  5,\n",
       "  'Massage Therapy',\n",
       "  'Reiki',\n",
       "  5.0,\n",
       "  nan,\n",
       "  'Miami,FL',\n",
       "  'Miami',\n",
       "  '33134'),\n",
       " ('jQy5eAwY3d3A2TrUOGlwDg',\n",
       "  'COMO Shambhala Urban Escape',\n",
       "  False,\n",
       "  10,\n",
       "  'Massage',\n",
       "  'Yoga',\n",
       "  5.0,\n",
       "  '$$$',\n",
       "  'Miami,FL',\n",
       "  'Miami Beach',\n",
       "  '33140'),\n",
       " ('5enkzBw4T4Y4u_gbXymPww',\n",
       "  'The Spa at Four Seasons Hotel',\n",
       "  False,\n",
       "  3,\n",
       "  'Day Spas',\n",
       "  nan,\n",
       "  4.5,\n",
       "  nan,\n",
       "  'Miami,FL',\n",
       "  'Surfside',\n",
       "  '33154'),\n",
       " ('CySVbQLQ-QvG6lzzrF2X8g',\n",
       "  'Rejuvenation Spa',\n",
       "  False,\n",
       "  7,\n",
       "  'Day Spas',\n",
       "  'Trainers',\n",
       "  5.0,\n",
       "  nan,\n",
       "  'Miami,FL',\n",
       "  'Surfside',\n",
       "  '33154'),\n",
       " ('947TixecuEgY_OsGR8AeiA',\n",
       "  'Momo Relaxation Spa',\n",
       "  False,\n",
       "  13,\n",
       "  'Massage',\n",
       "  'Reflexology',\n",
       "  4.5,\n",
       "  nan,\n",
       "  'Miami,FL',\n",
       "  'Pembroke Pines',\n",
       "  '33028'),\n",
       " ('JgcnLVNDb3PnxBIT3XdgXg',\n",
       "  'Massage From Heaven',\n",
       "  False,\n",
       "  76,\n",
       "  'Massage',\n",
       "  'Day Spas',\n",
       "  4.5,\n",
       "  '$$',\n",
       "  'Miami,FL',\n",
       "  'Hollywood',\n",
       "  '33019'),\n",
       " ('mVQdnM-K2DwCsBnh_OmvQA',\n",
       "  'The Massage Room',\n",
       "  False,\n",
       "  38,\n",
       "  'Massage',\n",
       "  nan,\n",
       "  4.5,\n",
       "  '$$',\n",
       "  'Miami,FL',\n",
       "  'Miami Beach',\n",
       "  '33139'),\n",
       " ('hSDY_VltsTjrrQ-8F-bfrA',\n",
       "  'The Ritz-Carlton Spa, South Beach',\n",
       "  False,\n",
       "  21,\n",
       "  'Day Spas',\n",
       "  nan,\n",
       "  4.0,\n",
       "  '$$$$',\n",
       "  'Miami,FL',\n",
       "  'Miami Beach',\n",
       "  '33139'),\n",
       " ('d9AX4z6mioBVJc-idQGrhg',\n",
       "  'Black Lotus Spa',\n",
       "  False,\n",
       "  6,\n",
       "  'Massage',\n",
       "  'Massage Therapy',\n",
       "  5.0,\n",
       "  '$$',\n",
       "  'Miami,FL',\n",
       "  'Miami',\n",
       "  '33157')]"
      ]
     },
     "execution_count": 23,
     "metadata": {},
     "output_type": "execute_result"
    }
   ],
   "source": [
    "biz_list"
   ]
  },
  {
   "cell_type": "code",
   "execution_count": 24,
   "metadata": {},
   "outputs": [
    {
     "data": {
      "text/plain": [
       "['nNLKoINrGTcwPYznO0afNA',\n",
       " 'HrTHjKD-zbS2GvbDCeS54Q',\n",
       " 'ImwHmojjWspwyItzRZxd7A',\n",
       " 'N2Rex8AJS2MG58goE-bXLg',\n",
       " 'WcURjIVEINE-Y24WLpezAA',\n",
       " '_ia42yHh93ZT3nBUHqah2w',\n",
       " 'k-7IhhbFIBPHul8kTt-12Q',\n",
       " 'QKwwA55LFR2f-bHsWm2Y8A',\n",
       " 'qu_bT0BP2-qOHUaiVdet0w',\n",
       " 'E8_C9Q9AFH1iEermrBP9YA',\n",
       " 'aw0KgujpRfZgrgHV9tFV3w',\n",
       " 'd6mR7ngdYtGDuTbWlM7mVA',\n",
       " 'a7TmwhsaAy-ZYddjBRgNdA',\n",
       " 'Kb90N2LGQ4mHNXpSH4xHbg',\n",
       " 'yWcsCImrTFp6_Mg_HZXIcw',\n",
       " 'OYaNEbmBl0ge1V3FkwE9mg',\n",
       " 'uoNVqp8KLAYYeLzDeCQEWA',\n",
       " 'pG_xCYGOOZGJFPk60_q9QQ',\n",
       " 'm7o5c5icwFxu8YG5dcKIBg',\n",
       " 'PwA5jq0QuHqwrk84KrVtLQ',\n",
       " 'fbzlD7as3lEJw3l595KgjQ',\n",
       " 'zNVDZTaKd9aqYuZRJWRG9w',\n",
       " 'EK5aaj3c4uEoOPtaXJcKzQ',\n",
       " 'upk91T-WWBPoBanqltP_Kw',\n",
       " 'lZWlZzP2k0QI4SGxoCPzxg',\n",
       " '8G_U0mBAtJXsEho3RsEGfQ',\n",
       " 'y1Z6IGebQIaPMcZ5BMmA8g',\n",
       " 'YjjeADTSKV53B2x6hentLA',\n",
       " 'd97_MiMMhgqH34CaQxDOLg',\n",
       " 'ssnK9hk7DDW8lvypRg5UXw',\n",
       " '1W8g5R8lk49C26jY5vgGRg',\n",
       " 'a-OaSMsJZYlzRseD_sDAJA',\n",
       " 'MlncKnaxHlrO8qw1PXQfvQ',\n",
       " 'EfhW75HfUrbfv07m8hLqJA',\n",
       " 'AWeFLix12_yY7xbiel64Yg',\n",
       " 'mVolayOtz0SdZb9sc9FDFQ',\n",
       " 'UzTuNxtUguKwII9KcB1omg',\n",
       " '_QnUTaa62uS1n2GPbTTcvQ',\n",
       " 'n_EokmERqNxhAmnOUUgeXQ',\n",
       " '5zUqRk4b-H3Jmfc8WAkYtw',\n",
       " 'lXNNrKy3ZhT6wrZtFV2vCg',\n",
       " 'chC5Oj6WRFSNMB08CVV_mQ',\n",
       " 'jQy5eAwY3d3A2TrUOGlwDg',\n",
       " '5enkzBw4T4Y4u_gbXymPww',\n",
       " 'CySVbQLQ-QvG6lzzrF2X8g',\n",
       " '947TixecuEgY_OsGR8AeiA',\n",
       " 'JgcnLVNDb3PnxBIT3XdgXg',\n",
       " 'mVQdnM-K2DwCsBnh_OmvQA',\n",
       " 'hSDY_VltsTjrrQ-8F-bfrA',\n",
       " 'd9AX4z6mioBVJc-idQGrhg']"
      ]
     },
     "execution_count": 24,
     "metadata": {},
     "output_type": "execute_result"
    }
   ],
   "source": [
    "biz_ID_list"
   ]
  },
  {
   "cell_type": "code",
   "execution_count": 72,
   "metadata": {},
   "outputs": [],
   "source": [
    "# Create a table for the reviews \n",
    "\n",
    "cur.execute(\"\"\"CREATE TABLE reviews (\n",
    "                                id TEXT PRIMARY KEY,\n",
    "                                text TEXT,\n",
    "                                rating NUMERIC,\n",
    "                                time_created NUMERIC,\n",
    "                                business_id TEXT  \n",
    "                               )          \n",
    "            \"\"\") \n",
    "\n",
    "conn.commit()"
   ]
  },
  {
   "cell_type": "code",
   "execution_count": null,
   "metadata": {},
   "outputs": [],
   "source": [
    "cur.execute(\"\"\"SELECT * \n",
    "                FROM business;\n",
    "            \"\"\") \n",
    "\n",
    "cur.fetchall()\n"
   ]
  },
  {
   "cell_type": "markdown",
   "metadata": {},
   "source": [
    "## Part 3 - Create ETL pipeline for the business data from the API\n",
    "\n",
    "Now that you know what data you need from the API, you want to write code that will execute a api call, parse those results and then insert the results into the DB.  \n",
    "\n",
    "It is helpful to break this up into three different functions (*api call, parse results, and insert into DB*) and then you can write a function/script that pull the other three functions together. \n",
    "\n",
    "Let's first do this for the Business endpoint."
   ]
  },
  {
   "cell_type": "code",
   "execution_count": 1,
   "metadata": {},
   "outputs": [],
   "source": [
    "import requests\n",
    "import json\n",
    "import sqlite3 \n",
    "import pandas as pd\n",
    "import numpy as np"
   ]
  },
  {
   "cell_type": "code",
   "execution_count": 2,
   "metadata": {},
   "outputs": [],
   "source": [
    "url =  'https://api.yelp.com/v3/businesses/search' "
   ]
  },
  {
   "cell_type": "code",
   "execution_count": 3,
   "metadata": {},
   "outputs": [],
   "source": [
    "client_id = 'HX7Zg3hgCbFKs_FeotRdCA' \n",
    "api_key = 'm3thcmik5l2yJb4BAfg-uYJyI82T6W52bEBS_HFE4nzUudzabtUagvEnJUdwb9wfSDjTZD1C2-qdcpLU6x-suSaz8ijI2b4hc3Brygw8hmNGm_skfaMen_JZ6EvzX3Yx'"
   ]
  },
  {
   "cell_type": "code",
   "execution_count": 4,
   "metadata": {},
   "outputs": [],
   "source": [
    "headers = {\n",
    "        'Authorization': 'Bearer {}'.format(api_key),\n",
    "    }"
   ]
  },
  {
   "cell_type": "code",
   "execution_count": 5,
   "metadata": {},
   "outputs": [],
   "source": [
    "# what type of business do you want to search\n",
    "term = 'spa' \n",
    "\n",
    "#where do you want to perform this search\n",
    "location = 'Miami,FL'\n",
    "\n",
    "# what is your other parameter you want to search against\n",
    "radius = 40000"
   ]
  },
  {
   "cell_type": "code",
   "execution_count": 6,
   "metadata": {},
   "outputs": [],
   "source": [
    "url_params = {\n",
    "                \"term\": term.replace(' ', '+'),\n",
    "                \"location\": location.replace(' ', '+'),\n",
    "                \"radius\" : radius,\n",
    "                \"limit\": 50\n",
    "            }"
   ]
  },
  {
   "cell_type": "markdown",
   "metadata": {},
   "source": [
    "- Write a function to make a call to the yelp API"
   ]
  },
  {
   "cell_type": "code",
   "execution_count": 10,
   "metadata": {},
   "outputs": [],
   "source": [
    "def yelp_call(url, url_params, api_key):\n",
    "    # your code to make the yelp call\n",
    "    response = requests.get(url, headers=headers, params=url_params)\n",
    "    data = json.loads(response.text)\n",
    "    return data"
   ]
  },
  {
   "cell_type": "markdown",
   "metadata": {},
   "source": [
    "- Write a function to parse the API response so that you can easily insert the data in to the DB"
   ]
  },
  {
   "cell_type": "code",
   "execution_count": 25,
   "metadata": {},
   "outputs": [],
   "source": [
    "def parse_results(results):\n",
    "    # your code to parse the result to make them easier to insert into the DB\n",
    "    parsed_results = []\n",
    "    biz_ID_list = []\n",
    "\n",
    "    for business in results['businesses']:\n",
    "        for item in ['is_closed', 'review_count', 'categories', 'rating', 'price']:\n",
    "            if item == 'categories':\n",
    "                if len(business[item]) == 0:\n",
    "                    business[item] = []\n",
    "                    business[item].append({'alias': '', 'title': np.nan})\n",
    "                    business[item].append({'alias': '', 'title': np.nan})\n",
    "                elif len(business[item]) == 1:\n",
    "                    business[item].append({'alias': '', 'title': np.nan})\n",
    "            if item not in business:\n",
    "                business[item] = np.nan\n",
    "            else:\n",
    "                business[item]\n",
    "\n",
    "        biz_tuple = (business['id'], \n",
    "                business['name'] , \n",
    "                business['is_closed'], \n",
    "                business['review_count'],\n",
    "                business['categories'][0]['title'], \n",
    "                business['categories'][1]['title'],\n",
    "                business ['rating'], \n",
    "                business ['price'],\n",
    "                location,\n",
    "                business['location']['city'],\n",
    "                business['location']['zip_code'])\n",
    "        biz_ID_list.append(business['id'])\n",
    "        parsed_results.append(biz_tuple)\n",
    "    return parsed_results"
   ]
  },
  {
   "cell_type": "markdown",
   "metadata": {},
   "source": [
    "- Write a function to take your parsed data and insert it into the DB"
   ]
  },
  {
   "cell_type": "raw",
   "metadata": {},
   "source": [
    "conn = sqlite3.connect('yelpspa.db')\n",
    "cur = conn.cursor()\n",
    "\n",
    "conn.commit() \n",
    "cur.close() \n",
    "conn.close()"
   ]
  },
  {
   "cell_type": "raw",
   "metadata": {},
   "source": [
    "cur.execute(\"\"\"CREATE TABLE business (\n",
    "                                id TEXT PRIMARY KEY NOT NULL,\n",
    "                                name TEXT,\n",
    "                                is_closed NUMERIC,\n",
    "                                review_count INTEGER,\n",
    "                                category_1 TEXT,\n",
    "                                category_2 TEXT,\n",
    "                                rating INTEGER, \n",
    "                                price TEXT,\n",
    "                                area TEXT,\n",
    "                                location_city TEXT,\n",
    "                                location_zipcode INTEGER)          \n",
    "            \"\"\") \n",
    "\n",
    "conn.commit()"
   ]
  },
  {
   "cell_type": "code",
   "execution_count": 32,
   "metadata": {
    "collapsed": true
   },
   "outputs": [
    {
     "data": {
      "text/plain": [
       "[('nNLKoINrGTcwPYznO0afNA',\n",
       "  'Tao Spa Miami',\n",
       "  False,\n",
       "  215,\n",
       "  'Massage',\n",
       "  'Skin Care',\n",
       "  4.5,\n",
       "  '$$',\n",
       "  'Miami,FL',\n",
       "  'Miami Beach',\n",
       "  '33139'),\n",
       " ('HrTHjKD-zbS2GvbDCeS54Q',\n",
       "  'Biltmore Spa',\n",
       "  False,\n",
       "  101,\n",
       "  'Day Spas',\n",
       "  'Hair Salons',\n",
       "  4.0,\n",
       "  '$$$',\n",
       "  'Miami,FL',\n",
       "  'Coral Gables',\n",
       "  '33134'),\n",
       " ('ImwHmojjWspwyItzRZxd7A',\n",
       "  'The Spa at Mandarin Oriental',\n",
       "  False,\n",
       "  73,\n",
       "  'Day Spas',\n",
       "  'Massage',\n",
       "  4.0,\n",
       "  '$$$$',\n",
       "  'Miami,FL',\n",
       "  'Miami',\n",
       "  '33131'),\n",
       " ('N2Rex8AJS2MG58goE-bXLg',\n",
       "  'Exhale Miami',\n",
       "  False,\n",
       "  125,\n",
       "  'Day Spas',\n",
       "  nan,\n",
       "  4.0,\n",
       "  '$$$',\n",
       "  'Miami,FL',\n",
       "  'Miami',\n",
       "  '33131'),\n",
       " ('WcURjIVEINE-Y24WLpezAA',\n",
       "  'Lapis Spa',\n",
       "  False,\n",
       "  296,\n",
       "  'Day Spas',\n",
       "  'Hair Salons',\n",
       "  4.0,\n",
       "  '$$$',\n",
       "  'Miami,FL',\n",
       "  'Miami Beach',\n",
       "  '33140'),\n",
       " ('_ia42yHh93ZT3nBUHqah2w',\n",
       "  'ME SPA Pembroke Pines',\n",
       "  False,\n",
       "  86,\n",
       "  'Day Spas',\n",
       "  'Massage',\n",
       "  4.5,\n",
       "  '$$',\n",
       "  'Miami,FL',\n",
       "  'Pembroke Pines',\n",
       "  '33027'),\n",
       " ('k-7IhhbFIBPHul8kTt-12Q',\n",
       "  'Body Sense',\n",
       "  False,\n",
       "  103,\n",
       "  'Day Spas',\n",
       "  'Acupuncture',\n",
       "  4.5,\n",
       "  '$$',\n",
       "  'Miami,FL',\n",
       "  'Coral Gables',\n",
       "  '33145'),\n",
       " ('QKwwA55LFR2f-bHsWm2Y8A',\n",
       "  'Esencia Wellness Spa',\n",
       "  False,\n",
       "  81,\n",
       "  'Day Spas',\n",
       "  nan,\n",
       "  4.0,\n",
       "  '$$$',\n",
       "  'Miami,FL',\n",
       "  'Miami Beach',\n",
       "  '33140'),\n",
       " ('qu_bT0BP2-qOHUaiVdet0w',\n",
       "  'Magic Waters Spa',\n",
       "  False,\n",
       "  7,\n",
       "  'Day Spas',\n",
       "  nan,\n",
       "  5.0,\n",
       "  '$$',\n",
       "  'Miami,FL',\n",
       "  'Miami',\n",
       "  '33173'),\n",
       " ('E8_C9Q9AFH1iEermrBP9YA',\n",
       "  'The Spa at Conrad Miami',\n",
       "  False,\n",
       "  38,\n",
       "  'Day Spas',\n",
       "  'Hydrotherapy',\n",
       "  4.5,\n",
       "  '$$',\n",
       "  'Miami,FL',\n",
       "  'Miami',\n",
       "  '33131'),\n",
       " ('aw0KgujpRfZgrgHV9tFV3w',\n",
       "  'Blu Bliss Massage and Spa',\n",
       "  False,\n",
       "  84,\n",
       "  'Skin Care',\n",
       "  'Massage Therapy',\n",
       "  5.0,\n",
       "  '$$',\n",
       "  'Miami,FL',\n",
       "  'Pembroke Pines',\n",
       "  '33024'),\n",
       " ('d6mR7ngdYtGDuTbWlM7mVA',\n",
       "  \"Pecan's Day Spa\",\n",
       "  False,\n",
       "  21,\n",
       "  'Massage',\n",
       "  'Skin Care',\n",
       "  5.0,\n",
       "  '$$$',\n",
       "  'Miami,FL',\n",
       "  'Coral Gables',\n",
       "  '33134'),\n",
       " ('a7TmwhsaAy-ZYddjBRgNdA',\n",
       "  'Skintique Miami',\n",
       "  False,\n",
       "  82,\n",
       "  'Skin Care',\n",
       "  'Massage',\n",
       "  4.5,\n",
       "  '$$',\n",
       "  'Miami,FL',\n",
       "  'Coral Gables',\n",
       "  '33146'),\n",
       " ('Kb90N2LGQ4mHNXpSH4xHbg',\n",
       "  'The Ritz-Carlton Spa, Key Biscayne',\n",
       "  False,\n",
       "  30,\n",
       "  'Day Spas',\n",
       "  'Massage',\n",
       "  4.0,\n",
       "  '$$$',\n",
       "  'Miami,FL',\n",
       "  'Key Biscayne',\n",
       "  '33149'),\n",
       " ('yWcsCImrTFp6_Mg_HZXIcw',\n",
       "  'Golden Foot Massage & Spa',\n",
       "  False,\n",
       "  87,\n",
       "  'Day Spas',\n",
       "  'Skin Care',\n",
       "  4.5,\n",
       "  '$$',\n",
       "  'Miami,FL',\n",
       "  'Coral Gables',\n",
       "  '33134'),\n",
       " ('OYaNEbmBl0ge1V3FkwE9mg',\n",
       "  'Amazian Massage',\n",
       "  False,\n",
       "  60,\n",
       "  'Massage',\n",
       "  'Massage Therapy',\n",
       "  5.0,\n",
       "  '$$',\n",
       "  'Miami,FL',\n",
       "  'Miami',\n",
       "  '33177'),\n",
       " ('uoNVqp8KLAYYeLzDeCQEWA',\n",
       "  'Elements Massage - Pinecrest',\n",
       "  False,\n",
       "  124,\n",
       "  'Massage Therapy',\n",
       "  'Massage',\n",
       "  4.5,\n",
       "  '$$',\n",
       "  'Miami,FL',\n",
       "  'Miami',\n",
       "  '33156'),\n",
       " ('pG_xCYGOOZGJFPk60_q9QQ',\n",
       "  'Valmont for The Spa at The Setai, Miami Beach',\n",
       "  False,\n",
       "  24,\n",
       "  'Day Spas',\n",
       "  'Reflexology',\n",
       "  4.0,\n",
       "  '$$$$',\n",
       "  'Miami,FL',\n",
       "  'Miami Beach',\n",
       "  '33139'),\n",
       " ('m7o5c5icwFxu8YG5dcKIBg',\n",
       "  'All About You Massage',\n",
       "  False,\n",
       "  3,\n",
       "  'Massage',\n",
       "  'Massage Therapy',\n",
       "  5.0,\n",
       "  nan,\n",
       "  'Miami,FL',\n",
       "  'Miami',\n",
       "  '33126'),\n",
       " ('PwA5jq0QuHqwrk84KrVtLQ',\n",
       "  'Acqualina Spa By Espa',\n",
       "  False,\n",
       "  50,\n",
       "  'Day Spas',\n",
       "  'Massage',\n",
       "  4.0,\n",
       "  '$$$',\n",
       "  'Miami,FL',\n",
       "  'Sunny Isles Beach',\n",
       "  '33160'),\n",
       " ('fbzlD7as3lEJw3l595KgjQ',\n",
       "  'VITA Body Club',\n",
       "  False,\n",
       "  207,\n",
       "  'Laser Hair Removal',\n",
       "  'Skin Care',\n",
       "  4.0,\n",
       "  '$$',\n",
       "  'Miami,FL',\n",
       "  'Miami',\n",
       "  '33137'),\n",
       " ('zNVDZTaKd9aqYuZRJWRG9w',\n",
       "  'MySpa Miami',\n",
       "  False,\n",
       "  27,\n",
       "  'Day Spas',\n",
       "  nan,\n",
       "  3.5,\n",
       "  '$$$',\n",
       "  'Miami,FL',\n",
       "  'Miami',\n",
       "  '33131'),\n",
       " ('EK5aaj3c4uEoOPtaXJcKzQ',\n",
       "  'The Healing Room',\n",
       "  False,\n",
       "  7,\n",
       "  'Massage',\n",
       "  'Massage Therapy',\n",
       "  5.0,\n",
       "  nan,\n",
       "  'Miami,FL',\n",
       "  'Key Biscayne',\n",
       "  '33149'),\n",
       " ('upk91T-WWBPoBanqltP_Kw',\n",
       "  'Exhale Bal Harbour',\n",
       "  False,\n",
       "  32,\n",
       "  'Day Spas',\n",
       "  nan,\n",
       "  4.5,\n",
       "  '$$$',\n",
       "  'Miami,FL',\n",
       "  'Bal Harbour',\n",
       "  '33154'),\n",
       " ('lZWlZzP2k0QI4SGxoCPzxg',\n",
       "  'The Spa at The Miami Beach EDITION',\n",
       "  False,\n",
       "  16,\n",
       "  'Day Spas',\n",
       "  'Massage',\n",
       "  4.0,\n",
       "  '$$$',\n",
       "  'Miami,FL',\n",
       "  'Miami Beach',\n",
       "  '33140'),\n",
       " ('8G_U0mBAtJXsEho3RsEGfQ',\n",
       "  'The Trump Spa',\n",
       "  False,\n",
       "  40,\n",
       "  'Day Spas',\n",
       "  'Saunas',\n",
       "  3.5,\n",
       "  '$$$',\n",
       "  'Miami,FL',\n",
       "  'Doral',\n",
       "  '33178'),\n",
       " ('y1Z6IGebQIaPMcZ5BMmA8g',\n",
       "  'The Standard Spa',\n",
       "  False,\n",
       "  88,\n",
       "  'Day Spas',\n",
       "  nan,\n",
       "  3.5,\n",
       "  '$$$',\n",
       "  'Miami,FL',\n",
       "  'Miami Beach',\n",
       "  '33139'),\n",
       " ('YjjeADTSKV53B2x6hentLA',\n",
       "  'Maribelle Day Spa',\n",
       "  False,\n",
       "  86,\n",
       "  'Day Spas',\n",
       "  'Nail Salons',\n",
       "  4.5,\n",
       "  '$$',\n",
       "  'Miami,FL',\n",
       "  'Miami',\n",
       "  '33155'),\n",
       " ('d97_MiMMhgqH34CaQxDOLg',\n",
       "  'Miami Lakes Therapeutic Massage',\n",
       "  False,\n",
       "  20,\n",
       "  'Massage Therapy',\n",
       "  nan,\n",
       "  5.0,\n",
       "  nan,\n",
       "  'Miami,FL',\n",
       "  'Miami Lakes',\n",
       "  '33014'),\n",
       " ('ssnK9hk7DDW8lvypRg5UXw',\n",
       "  'Precise Touch Spa',\n",
       "  False,\n",
       "  3,\n",
       "  'Massage',\n",
       "  'Skin Care',\n",
       "  5.0,\n",
       "  '$$',\n",
       "  'Miami,FL',\n",
       "  'Miami',\n",
       "  '33134'),\n",
       " ('1W8g5R8lk49C26jY5vgGRg',\n",
       "  'Metamorphis Healing Spa',\n",
       "  False,\n",
       "  22,\n",
       "  'Day Spas',\n",
       "  'Massage Therapy',\n",
       "  4.5,\n",
       "  '$$',\n",
       "  'Miami,FL',\n",
       "  'Miami',\n",
       "  '33175'),\n",
       " ('a-OaSMsJZYlzRseD_sDAJA',\n",
       "  'Mindykim Skincare',\n",
       "  False,\n",
       "  125,\n",
       "  'Skin Care',\n",
       "  'Acne Treatment',\n",
       "  4.5,\n",
       "  '$$',\n",
       "  'Miami,FL',\n",
       "  'Miami',\n",
       "  '33137'),\n",
       " ('MlncKnaxHlrO8qw1PXQfvQ',\n",
       "  'Carillon Miami Wellness Resort',\n",
       "  False,\n",
       "  120,\n",
       "  'Hotels',\n",
       "  'Day Spas',\n",
       "  3.5,\n",
       "  '$$$',\n",
       "  'Miami,FL',\n",
       "  'Miami',\n",
       "  '33141'),\n",
       " ('EfhW75HfUrbfv07m8hLqJA',\n",
       "  'The Salt Day Spa',\n",
       "  False,\n",
       "  5,\n",
       "  'Skin Care',\n",
       "  'Massage',\n",
       "  5.0,\n",
       "  '$$',\n",
       "  'Miami,FL',\n",
       "  'Sunny Isles Beach',\n",
       "  '33160'),\n",
       " ('AWeFLix12_yY7xbiel64Yg',\n",
       "  'Âme Spa & Wellness Collective',\n",
       "  False,\n",
       "  82,\n",
       "  'Day Spas',\n",
       "  'Hair Salons',\n",
       "  4.0,\n",
       "  '$$$',\n",
       "  'Miami,FL',\n",
       "  'Aventura',\n",
       "  '33180'),\n",
       " ('mVolayOtz0SdZb9sc9FDFQ',\n",
       "  \"Lauren's Face the Day\",\n",
       "  False,\n",
       "  48,\n",
       "  'Day Spas',\n",
       "  'Skin Care',\n",
       "  5.0,\n",
       "  '$$',\n",
       "  'Miami,FL',\n",
       "  'Coral Gables',\n",
       "  '33134'),\n",
       " ('UzTuNxtUguKwII9KcB1omg',\n",
       "  'Healing Hands Therapeutic Massage',\n",
       "  False,\n",
       "  64,\n",
       "  'Massage Therapy',\n",
       "  nan,\n",
       "  5.0,\n",
       "  nan,\n",
       "  'Miami,FL',\n",
       "  'Miami',\n",
       "  '33130'),\n",
       " ('_QnUTaa62uS1n2GPbTTcvQ',\n",
       "  'Tuya Spa',\n",
       "  False,\n",
       "  22,\n",
       "  'Skin Care',\n",
       "  'Day Spas',\n",
       "  5.0,\n",
       "  '$$',\n",
       "  'Miami,FL',\n",
       "  'North Miami',\n",
       "  '33181'),\n",
       " ('n_EokmERqNxhAmnOUUgeXQ',\n",
       "  'Remede Spa',\n",
       "  False,\n",
       "  13,\n",
       "  'Day Spas',\n",
       "  nan,\n",
       "  5.0,\n",
       "  '$$$$',\n",
       "  'Miami,FL',\n",
       "  'Miami Beach',\n",
       "  '33154'),\n",
       " ('5zUqRk4b-H3Jmfc8WAkYtw',\n",
       "  'Oriental Massage',\n",
       "  False,\n",
       "  10,\n",
       "  'Massage',\n",
       "  'Massage Therapy',\n",
       "  5.0,\n",
       "  '$$',\n",
       "  'Miami,FL',\n",
       "  'Doral',\n",
       "  '33166'),\n",
       " ('lXNNrKy3ZhT6wrZtFV2vCg',\n",
       "  'Caudalie Boutique',\n",
       "  False,\n",
       "  8,\n",
       "  'Cosmetics & Beauty Supply',\n",
       "  'Day Spas',\n",
       "  5.0,\n",
       "  nan,\n",
       "  'Miami,FL',\n",
       "  'Miami',\n",
       "  '33131'),\n",
       " ('chC5Oj6WRFSNMB08CVV_mQ',\n",
       "  'Perla Herrera',\n",
       "  False,\n",
       "  5,\n",
       "  'Massage Therapy',\n",
       "  'Reiki',\n",
       "  5.0,\n",
       "  nan,\n",
       "  'Miami,FL',\n",
       "  'Miami',\n",
       "  '33134'),\n",
       " ('jQy5eAwY3d3A2TrUOGlwDg',\n",
       "  'COMO Shambhala Urban Escape',\n",
       "  False,\n",
       "  10,\n",
       "  'Massage',\n",
       "  'Yoga',\n",
       "  5.0,\n",
       "  '$$$',\n",
       "  'Miami,FL',\n",
       "  'Miami Beach',\n",
       "  '33140'),\n",
       " ('5enkzBw4T4Y4u_gbXymPww',\n",
       "  'The Spa at Four Seasons Hotel',\n",
       "  False,\n",
       "  3,\n",
       "  'Day Spas',\n",
       "  nan,\n",
       "  4.5,\n",
       "  nan,\n",
       "  'Miami,FL',\n",
       "  'Surfside',\n",
       "  '33154'),\n",
       " ('CySVbQLQ-QvG6lzzrF2X8g',\n",
       "  'Rejuvenation Spa',\n",
       "  False,\n",
       "  7,\n",
       "  'Day Spas',\n",
       "  'Trainers',\n",
       "  5.0,\n",
       "  nan,\n",
       "  'Miami,FL',\n",
       "  'Surfside',\n",
       "  '33154'),\n",
       " ('947TixecuEgY_OsGR8AeiA',\n",
       "  'Momo Relaxation Spa',\n",
       "  False,\n",
       "  13,\n",
       "  'Massage',\n",
       "  'Reflexology',\n",
       "  4.5,\n",
       "  nan,\n",
       "  'Miami,FL',\n",
       "  'Pembroke Pines',\n",
       "  '33028'),\n",
       " ('JgcnLVNDb3PnxBIT3XdgXg',\n",
       "  'Massage From Heaven',\n",
       "  False,\n",
       "  76,\n",
       "  'Massage',\n",
       "  'Day Spas',\n",
       "  4.5,\n",
       "  '$$',\n",
       "  'Miami,FL',\n",
       "  'Hollywood',\n",
       "  '33019'),\n",
       " ('mVQdnM-K2DwCsBnh_OmvQA',\n",
       "  'The Massage Room',\n",
       "  False,\n",
       "  38,\n",
       "  'Massage',\n",
       "  nan,\n",
       "  4.5,\n",
       "  '$$',\n",
       "  'Miami,FL',\n",
       "  'Miami Beach',\n",
       "  '33139'),\n",
       " ('hSDY_VltsTjrrQ-8F-bfrA',\n",
       "  'The Ritz-Carlton Spa, South Beach',\n",
       "  False,\n",
       "  21,\n",
       "  'Day Spas',\n",
       "  nan,\n",
       "  4.0,\n",
       "  '$$$$',\n",
       "  'Miami,FL',\n",
       "  'Miami Beach',\n",
       "  '33139'),\n",
       " ('d9AX4z6mioBVJc-idQGrhg',\n",
       "  'Black Lotus Spa',\n",
       "  False,\n",
       "  6,\n",
       "  'Massage',\n",
       "  'Massage Therapy',\n",
       "  5.0,\n",
       "  '$$',\n",
       "  'Miami,FL',\n",
       "  'Miami',\n",
       "  '33157')]"
      ]
     },
     "execution_count": 32,
     "metadata": {},
     "output_type": "execute_result"
    }
   ],
   "source": [
    "parsed_results"
   ]
  },
  {
   "cell_type": "code",
   "execution_count": 33,
   "metadata": {},
   "outputs": [
    {
     "data": {
      "text/plain": [
       "('nNLKoINrGTcwPYznO0afNA',\n",
       " 'Tao Spa Miami',\n",
       " False,\n",
       " 215,\n",
       " 'Massage',\n",
       " 'Skin Care',\n",
       " 4.5,\n",
       " '$$',\n",
       " 'Miami,FL',\n",
       " 'Miami Beach',\n",
       " '33139')"
      ]
     },
     "execution_count": 33,
     "metadata": {},
     "output_type": "execute_result"
    }
   ],
   "source": [
    "parsed_results[0]"
   ]
  },
  {
   "cell_type": "code",
   "execution_count": 36,
   "metadata": {},
   "outputs": [],
   "source": [
    "def db_insert(cnx, cursor, parsed_results):\n",
    "    # your code to insert and commit the results\n",
    "    # I would create the connection and cursor outside of this function and then pass it through\n",
    "#     for business in parsed_results: <-- we had this line while writing the code. but it was not necessary\n",
    "#     for db_review_insert function, so it might not be necessary here. Need to \n",
    "    add_business = (\"\"\"INSERT INTO business \n",
    "              (id, name, is_closed, review_count, category_1, category_2, rating, price, area,\n",
    "                   location_city, location_zipcode) \n",
    "              VALUES (?, ?, ?, ?, ?, ?, ?, ?, ?, ?, ?)\"\"\")\n",
    "    \n",
    "    cursor.executemany(add_business, parsed_results)\n",
    "    cnx.commit()"
   ]
  },
  {
   "cell_type": "markdown",
   "metadata": {},
   "source": [
    "- Write a script that combines the three functions above into a single process."
   ]
  },
  {
   "cell_type": "code",
   "execution_count": 37,
   "metadata": {},
   "outputs": [
    {
     "name": "stdout",
     "output_type": "stream",
     "text": [
      "0\n",
      "50\n",
      "100\n",
      "150\n",
      "200\n",
      "250\n",
      "300\n",
      "350\n",
      "400\n",
      "450\n",
      "500\n",
      "550\n",
      "600\n",
      "650\n",
      "700\n",
      "750\n",
      "800\n",
      "850\n",
      "900\n",
      "950\n"
     ]
    }
   ],
   "source": [
    "# create a variable  to keep track of which result you are in. \n",
    "current_offset = 0\n",
    "business_ID_list = []\n",
    "\n",
    "#set up a while loop to go through and grab the result \n",
    "while current_offset < 1000:  # current_offset < num and \n",
    "    #set the offset parameter to be where you currently are in the results \n",
    "    url_params['offset'] = current_offset\n",
    "    #make your API call with the new offset number\n",
    "    results = yelp_call(url, url_params, api_key)\n",
    "    \n",
    "    #after you get your results you can now use your function to parse those results\n",
    "    parsed_results = parse_results(results)\n",
    "    \n",
    "    # use your function to insert your parsed results into the db\n",
    "    db_insert(conn, cur, parsed_results)\n",
    "    #increment the counter by 50 to move on to the next results\n",
    "    print(current_offset)\n",
    "    current_offset += 50"
   ]
  },
  {
   "cell_type": "code",
   "execution_count": 38,
   "metadata": {},
   "outputs": [],
   "source": [
    "#where do you want to perform this search\n",
    "location = 'Orlando,FL'"
   ]
  },
  {
   "cell_type": "code",
   "execution_count": 41,
   "metadata": {},
   "outputs": [],
   "source": [
    "url_params = {\n",
    "                \"term\": term.replace(' ', '+'),\n",
    "                \"location\": location.replace(' ', '+'),\n",
    "                \"radius\" : radius,\n",
    "                \"limit\": 50\n",
    "            }"
   ]
  },
  {
   "cell_type": "code",
   "execution_count": 42,
   "metadata": {},
   "outputs": [
    {
     "data": {
      "text/plain": [
       "{'term': 'spa', 'location': 'Orlando,FL', 'radius': 40000, 'limit': 50}"
      ]
     },
     "execution_count": 42,
     "metadata": {},
     "output_type": "execute_result"
    }
   ],
   "source": [
    "url_params"
   ]
  },
  {
   "cell_type": "code",
   "execution_count": 43,
   "metadata": {},
   "outputs": [
    {
     "name": "stdout",
     "output_type": "stream",
     "text": [
      "0\n",
      "50\n",
      "100\n",
      "150\n",
      "200\n",
      "250\n",
      "300\n",
      "350\n",
      "400\n",
      "450\n",
      "500\n",
      "550\n",
      "600\n",
      "650\n",
      "700\n",
      "750\n",
      "800\n",
      "850\n",
      "900\n",
      "950\n"
     ]
    }
   ],
   "source": [
    "# create a variable  to keep track of which result you are in. \n",
    "current_offset = 0\n",
    "business_ID_list = []\n",
    "\n",
    "#set up a while loop to go through and grab the result \n",
    "while current_offset < 1000:  # current_offset < num and \n",
    "    #set the offset parameter to be where you currently are in the results \n",
    "    url_params['offset'] = current_offset\n",
    "    #make your API call with the new offset number\n",
    "    results = yelp_call(url, url_params, api_key)\n",
    "    \n",
    "    #after you get your results you can now use your function to parse those results\n",
    "    parsed_results = parse_results(results)\n",
    "    \n",
    "    # use your function to insert your parsed results into the db\n",
    "    db_insert(conn, cur, parsed_results)\n",
    "    #increment the counter by 50 to move on to the next results\n",
    "    print(current_offset)\n",
    "    current_offset += 50"
   ]
  },
  {
   "cell_type": "code",
   "execution_count": 84,
   "metadata": {},
   "outputs": [],
   "source": [
    "query = (\"SELECT id FROM business \")\n",
    "cur.execute(query)\n",
    "business_ID_list = cur.fetchall()"
   ]
  },
  {
   "cell_type": "code",
   "execution_count": 114,
   "metadata": {},
   "outputs": [
    {
     "data": {
      "text/html": [
       "<div>\n",
       "<style scoped>\n",
       "    .dataframe tbody tr th:only-of-type {\n",
       "        vertical-align: middle;\n",
       "    }\n",
       "\n",
       "    .dataframe tbody tr th {\n",
       "        vertical-align: top;\n",
       "    }\n",
       "\n",
       "    .dataframe thead th {\n",
       "        text-align: right;\n",
       "    }\n",
       "</style>\n",
       "<table border=\"1\" class=\"dataframe\">\n",
       "  <thead>\n",
       "    <tr style=\"text-align: right;\">\n",
       "      <th></th>\n",
       "      <th>id</th>\n",
       "    </tr>\n",
       "  </thead>\n",
       "  <tbody>\n",
       "    <tr>\n",
       "      <th>0</th>\n",
       "      <td>-4CWLN_ZIWC3dfIWbFHisw</td>\n",
       "    </tr>\n",
       "    <tr>\n",
       "      <th>1</th>\n",
       "      <td>-51v1nSIQvqbYfILt8BSKw</td>\n",
       "    </tr>\n",
       "    <tr>\n",
       "      <th>2</th>\n",
       "      <td>-6WOo-7oDbq9UMgNQmo4BQ</td>\n",
       "    </tr>\n",
       "    <tr>\n",
       "      <th>3</th>\n",
       "      <td>-6n1xRKlUK64DjxYtnB44g</td>\n",
       "    </tr>\n",
       "    <tr>\n",
       "      <th>4</th>\n",
       "      <td>-7GkIQg_47vOBH9aBc3qhQ</td>\n",
       "    </tr>\n",
       "    <tr>\n",
       "      <th>...</th>\n",
       "      <td>...</td>\n",
       "    </tr>\n",
       "    <tr>\n",
       "      <th>1995</th>\n",
       "      <td>zqt0ceq-cSx3vXKqTJPh4A</td>\n",
       "    </tr>\n",
       "    <tr>\n",
       "      <th>1996</th>\n",
       "      <td>ztHi4eAgln2jkn738f6mnQ</td>\n",
       "    </tr>\n",
       "    <tr>\n",
       "      <th>1997</th>\n",
       "      <td>ztdcbZf5ICBC_XH9f28__g</td>\n",
       "    </tr>\n",
       "    <tr>\n",
       "      <th>1998</th>\n",
       "      <td>zwLEQ5nET8c1BDIHHOQ5YQ</td>\n",
       "    </tr>\n",
       "    <tr>\n",
       "      <th>1999</th>\n",
       "      <td>zygj7nRfUhVvMpmaET-TaQ</td>\n",
       "    </tr>\n",
       "  </tbody>\n",
       "</table>\n",
       "<p>2000 rows × 1 columns</p>\n",
       "</div>"
      ],
      "text/plain": [
       "                          id\n",
       "0     -4CWLN_ZIWC3dfIWbFHisw\n",
       "1     -51v1nSIQvqbYfILt8BSKw\n",
       "2     -6WOo-7oDbq9UMgNQmo4BQ\n",
       "3     -6n1xRKlUK64DjxYtnB44g\n",
       "4     -7GkIQg_47vOBH9aBc3qhQ\n",
       "...                      ...\n",
       "1995  zqt0ceq-cSx3vXKqTJPh4A\n",
       "1996  ztHi4eAgln2jkn738f6mnQ\n",
       "1997  ztdcbZf5ICBC_XH9f28__g\n",
       "1998  zwLEQ5nET8c1BDIHHOQ5YQ\n",
       "1999  zygj7nRfUhVvMpmaET-TaQ\n",
       "\n",
       "[2000 rows x 1 columns]"
      ]
     },
     "execution_count": 114,
     "metadata": {},
     "output_type": "execute_result"
    }
   ],
   "source": [
    "pd.read_sql('SELECT id from business', conn)"
   ]
  },
  {
   "cell_type": "code",
   "execution_count": 113,
   "metadata": {
    "scrolled": true
   },
   "outputs": [
    {
     "data": {
      "text/html": [
       "<div>\n",
       "<style scoped>\n",
       "    .dataframe tbody tr th:only-of-type {\n",
       "        vertical-align: middle;\n",
       "    }\n",
       "\n",
       "    .dataframe tbody tr th {\n",
       "        vertical-align: top;\n",
       "    }\n",
       "\n",
       "    .dataframe thead th {\n",
       "        text-align: right;\n",
       "    }\n",
       "</style>\n",
       "<table border=\"1\" class=\"dataframe\">\n",
       "  <thead>\n",
       "    <tr style=\"text-align: right;\">\n",
       "      <th></th>\n",
       "      <th>0</th>\n",
       "    </tr>\n",
       "  </thead>\n",
       "  <tbody>\n",
       "    <tr>\n",
       "      <th>0</th>\n",
       "      <td>-4CWLN_ZIWC3dfIWbFHisw</td>\n",
       "    </tr>\n",
       "    <tr>\n",
       "      <th>1</th>\n",
       "      <td>-51v1nSIQvqbYfILt8BSKw</td>\n",
       "    </tr>\n",
       "    <tr>\n",
       "      <th>2</th>\n",
       "      <td>-6WOo-7oDbq9UMgNQmo4BQ</td>\n",
       "    </tr>\n",
       "    <tr>\n",
       "      <th>3</th>\n",
       "      <td>-6n1xRKlUK64DjxYtnB44g</td>\n",
       "    </tr>\n",
       "    <tr>\n",
       "      <th>4</th>\n",
       "      <td>-7GkIQg_47vOBH9aBc3qhQ</td>\n",
       "    </tr>\n",
       "    <tr>\n",
       "      <th>...</th>\n",
       "      <td>...</td>\n",
       "    </tr>\n",
       "    <tr>\n",
       "      <th>1995</th>\n",
       "      <td>zqt0ceq-cSx3vXKqTJPh4A</td>\n",
       "    </tr>\n",
       "    <tr>\n",
       "      <th>1996</th>\n",
       "      <td>ztHi4eAgln2jkn738f6mnQ</td>\n",
       "    </tr>\n",
       "    <tr>\n",
       "      <th>1997</th>\n",
       "      <td>ztdcbZf5ICBC_XH9f28__g</td>\n",
       "    </tr>\n",
       "    <tr>\n",
       "      <th>1998</th>\n",
       "      <td>zwLEQ5nET8c1BDIHHOQ5YQ</td>\n",
       "    </tr>\n",
       "    <tr>\n",
       "      <th>1999</th>\n",
       "      <td>zygj7nRfUhVvMpmaET-TaQ</td>\n",
       "    </tr>\n",
       "  </tbody>\n",
       "</table>\n",
       "<p>2000 rows × 1 columns</p>\n",
       "</div>"
      ],
      "text/plain": [
       "                           0\n",
       "0     -4CWLN_ZIWC3dfIWbFHisw\n",
       "1     -51v1nSIQvqbYfILt8BSKw\n",
       "2     -6WOo-7oDbq9UMgNQmo4BQ\n",
       "3     -6n1xRKlUK64DjxYtnB44g\n",
       "4     -7GkIQg_47vOBH9aBc3qhQ\n",
       "...                      ...\n",
       "1995  zqt0ceq-cSx3vXKqTJPh4A\n",
       "1996  ztHi4eAgln2jkn738f6mnQ\n",
       "1997  ztdcbZf5ICBC_XH9f28__g\n",
       "1998  zwLEQ5nET8c1BDIHHOQ5YQ\n",
       "1999  zygj7nRfUhVvMpmaET-TaQ\n",
       "\n",
       "[2000 rows x 1 columns]"
      ]
     },
     "execution_count": 113,
     "metadata": {},
     "output_type": "execute_result"
    }
   ],
   "source": [
    "pd.DataFrame(business_ID_list)"
   ]
  },
  {
   "cell_type": "code",
   "execution_count": 106,
   "metadata": {},
   "outputs": [
    {
     "data": {
      "text/plain": [
       "tuple"
      ]
     },
     "execution_count": 106,
     "metadata": {},
     "output_type": "execute_result"
    }
   ],
   "source": [
    "type(business_ID_list[0])"
   ]
  },
  {
   "cell_type": "code",
   "execution_count": 109,
   "metadata": {},
   "outputs": [
    {
     "data": {
      "text/plain": [
       "str"
      ]
     },
     "execution_count": 109,
     "metadata": {},
     "output_type": "execute_result"
    }
   ],
   "source": [
    "type(business_ID_list[0][0])"
   ]
  },
  {
   "cell_type": "code",
   "execution_count": 110,
   "metadata": {},
   "outputs": [],
   "source": [
    "for biz in business_ID_list[:5]:\n",
    "    bizid = biz[0]\n",
    "    yelp_review_call(bizid)"
   ]
  },
  {
   "cell_type": "code",
   "execution_count": 48,
   "metadata": {},
   "outputs": [
    {
     "data": {
      "text/plain": [
       "2000"
      ]
     },
     "execution_count": 48,
     "metadata": {},
     "output_type": "execute_result"
    }
   ],
   "source": [
    "len(business_ID_list)"
   ]
  },
  {
   "cell_type": "raw",
   "metadata": {},
   "source": [
    "url3 = 'https://api.yelp.com/v3/businesses/{}/reviews'.format(business_id) \n",
    "url3"
   ]
  },
  {
   "cell_type": "code",
   "execution_count": null,
   "metadata": {},
   "outputs": [],
   "source": [
    "for id in business_ID_list:\n",
    "    "
   ]
  },
  {
   "cell_type": "code",
   "execution_count": 51,
   "metadata": {},
   "outputs": [],
   "source": [
    "def yelp_review_call(business_id):\n",
    "    # your code to make the yelp call\n",
    "    response = requests.get('https://api.yelp.com/v3/businesses/{}/reviews'.format(business_id), headers=headers)\n",
    "    review_data = json.loads(response.text)\n",
    "    return review_data"
   ]
  },
  {
   "cell_type": "code",
   "execution_count": 52,
   "metadata": {},
   "outputs": [],
   "source": [
    "id = '-4CWLN_ZIWC3dfIWbFHisw'\n",
    "review_results = yelp_review_call(id)"
   ]
  },
  {
   "cell_type": "code",
   "execution_count": 53,
   "metadata": {},
   "outputs": [
    {
     "data": {
      "text/plain": [
       "{'reviews': [{'id': 'CymB81wlWv0Z-RS3kPaMfA',\n",
       "   'url': 'https://www.yelp.com/biz/zativa-life-health-and-wellness-coral-gables?adjust_creative=HX7Zg3hgCbFKs_FeotRdCA&hrid=CymB81wlWv0Z-RS3kPaMfA&utm_campaign=yelp_api_v3&utm_medium=api_v3_business_reviews&utm_source=HX7Zg3hgCbFKs_FeotRdCA',\n",
       "   'text': 'I was feeling down and felt I had some type of virus I went to zativa in Coral Gables and received a high dosage of an immune IV infusion and immediately...',\n",
       "   'rating': 5,\n",
       "   'time_created': '2020-11-15 09:48:51',\n",
       "   'user': {'id': 'jHs1HDEl_Q6FWTkvjOPWEQ',\n",
       "    'profile_url': 'https://www.yelp.com/user_details?userid=jHs1HDEl_Q6FWTkvjOPWEQ',\n",
       "    'image_url': None,\n",
       "    'name': 'Al F.'}}],\n",
       " 'total': 1,\n",
       " 'possible_languages': ['en']}"
      ]
     },
     "execution_count": 53,
     "metadata": {},
     "output_type": "execute_result"
    }
   ],
   "source": [
    "review_results"
   ]
  },
  {
   "cell_type": "code",
   "execution_count": 55,
   "metadata": {},
   "outputs": [
    {
     "name": "stdout",
     "output_type": "stream",
     "text": [
      "reviews\n",
      "<class 'list'>\n",
      "total\n",
      "<class 'int'>\n",
      "possible_languages\n",
      "<class 'list'>\n"
     ]
    }
   ],
   "source": [
    "for key in review_results.keys(): \n",
    "    print(key)\n",
    "    print(type(review_results[key]))"
   ]
  },
  {
   "cell_type": "code",
   "execution_count": 95,
   "metadata": {},
   "outputs": [
    {
     "data": {
      "text/plain": [
       "{'reviews': [{'id': 'i2K0dYAdg_79jtldvhOBMQ',\n",
       "   'url': 'https://www.yelp.com/biz/oviedo-nails-spa-winter-springs?adjust_creative=HX7Zg3hgCbFKs_FeotRdCA&hrid=i2K0dYAdg_79jtldvhOBMQ&utm_campaign=yelp_api_v3&utm_medium=api_v3_business_reviews&utm_source=HX7Zg3hgCbFKs_FeotRdCA',\n",
       "   'text': \"I am SO impressed with Oviedo Nails Spa. I haven't had a manicure since pre-COVID and this place was super clean. Chelsea did a phenomenal job on my nails...\",\n",
       "   'rating': 5,\n",
       "   'time_created': '2020-08-19 16:30:23',\n",
       "   'user': {'id': 'wP7LYXw301zCMoI92l14GQ',\n",
       "    'profile_url': 'https://www.yelp.com/user_details?userid=wP7LYXw301zCMoI92l14GQ',\n",
       "    'image_url': 'https://s3-media4.fl.yelpcdn.com/photo/osBxZlkbEU4acOn12Wyilw/o.jpg',\n",
       "    'name': 'Casey M.'}},\n",
       "  {'id': 'CgeQ5TL6eEaK6wiHaTyMgA',\n",
       "   'url': 'https://www.yelp.com/biz/oviedo-nails-spa-winter-springs?adjust_creative=HX7Zg3hgCbFKs_FeotRdCA&hrid=CgeQ5TL6eEaK6wiHaTyMgA&utm_campaign=yelp_api_v3&utm_medium=api_v3_business_reviews&utm_source=HX7Zg3hgCbFKs_FeotRdCA',\n",
       "   'text': 'I have been going to Oviedo Nails Spa now for about 1 year. I had to switch nail technicians because my tech became pregnant and decided to stop working....',\n",
       "   'rating': 3,\n",
       "   'time_created': '2019-01-17 12:05:10',\n",
       "   'user': {'id': '25lFO3LFrj7UDXPgm90-Lw',\n",
       "    'profile_url': 'https://www.yelp.com/user_details?userid=25lFO3LFrj7UDXPgm90-Lw',\n",
       "    'image_url': 'https://s3-media3.fl.yelpcdn.com/photo/d5Ruy0u8_TVZ22xwSizcvQ/o.jpg',\n",
       "    'name': 'Kristin R.'}},\n",
       "  {'id': 'UF64vVW2EOimnOYjjluW4g',\n",
       "   'url': 'https://www.yelp.com/biz/oviedo-nails-spa-winter-springs?adjust_creative=HX7Zg3hgCbFKs_FeotRdCA&hrid=UF64vVW2EOimnOYjjluW4g&utm_campaign=yelp_api_v3&utm_medium=api_v3_business_reviews&utm_source=HX7Zg3hgCbFKs_FeotRdCA',\n",
       "   'text': 'I been to this nail salon three times and the third time will be my last. The older lady with Peter pan hair style did my nails and she used to work at the...',\n",
       "   'rating': 1,\n",
       "   'time_created': '2020-02-24 16:28:25',\n",
       "   'user': {'id': 'vkqz6rHXEzBqT7i0EUOjfw',\n",
       "    'profile_url': 'https://www.yelp.com/user_details?userid=vkqz6rHXEzBqT7i0EUOjfw',\n",
       "    'image_url': None,\n",
       "    'name': 'AD S.'}}],\n",
       " 'total': 25,\n",
       " 'possible_languages': ['en']}"
      ]
     },
     "execution_count": 95,
     "metadata": {},
     "output_type": "execute_result"
    }
   ],
   "source": [
    "biz_id = '6aH7DSWciePmAEiLhTizkw'\n",
    "review_results = yelp_review_call(biz_id)\n",
    "review_results"
   ]
  },
  {
   "cell_type": "code",
   "execution_count": 92,
   "metadata": {},
   "outputs": [
    {
     "data": {
      "text/plain": [
       "'BUSINESS_UNAVAILABLE'"
      ]
     },
     "execution_count": 92,
     "metadata": {},
     "output_type": "execute_result"
    }
   ],
   "source": [
    "review_results['error']['code']"
   ]
  },
  {
   "cell_type": "code",
   "execution_count": 80,
   "metadata": {},
   "outputs": [
    {
     "data": {
      "text/plain": [
       "{'reviews': [{'id': 'CymB81wlWv0Z-RS3kPaMfA',\n",
       "   'url': 'https://www.yelp.com/biz/zativa-life-health-and-wellness-coral-gables?adjust_creative=HX7Zg3hgCbFKs_FeotRdCA&hrid=CymB81wlWv0Z-RS3kPaMfA&utm_campaign=yelp_api_v3&utm_medium=api_v3_business_reviews&utm_source=HX7Zg3hgCbFKs_FeotRdCA',\n",
       "   'text': 'I was feeling down and felt I had some type of virus I went to zativa in Coral Gables and received a high dosage of an immune IV infusion and immediately...',\n",
       "   'rating': 5,\n",
       "   'time_created': '2020-11-15 09:48:51',\n",
       "   'user': {'id': 'jHs1HDEl_Q6FWTkvjOPWEQ',\n",
       "    'profile_url': 'https://www.yelp.com/user_details?userid=jHs1HDEl_Q6FWTkvjOPWEQ',\n",
       "    'image_url': None,\n",
       "    'name': 'Al F.'}}],\n",
       " 'total': 1,\n",
       " 'possible_languages': ['en']}"
      ]
     },
     "execution_count": 80,
     "metadata": {},
     "output_type": "execute_result"
    }
   ],
   "source": [
    "response = requests.get('https://api.yelp.com/v3/businesses/{}/reviews'.format('-4CWLN_ZIWC3dfIWbFHisw'), headers=headers)\n",
    "review_data = json.loads(response.text)\n",
    "review_data"
   ]
  },
  {
   "cell_type": "code",
   "execution_count": 64,
   "metadata": {},
   "outputs": [
    {
     "data": {
      "text/plain": [
       "{'id': '8XPcvo1or6MAw5d2UCV8dQ',\n",
       " 'url': 'https://www.yelp.com/biz/mademoiselle-pines-miramar?adjust_creative=HX7Zg3hgCbFKs_FeotRdCA&hrid=8XPcvo1or6MAw5d2UCV8dQ&utm_campaign=yelp_api_v3&utm_medium=api_v3_business_reviews&utm_source=HX7Zg3hgCbFKs_FeotRdCA',\n",
       " 'text': 'I was referred to Keisy by a friend and she was right! Keisy is amazing all around - cleans hands and feet very well, great selection of colors and great...',\n",
       " 'rating': 5,\n",
       " 'time_created': '2020-11-11 11:30:37',\n",
       " 'user': {'id': 'Hpkt5TvIHQtiB3WFLnp6Ag',\n",
       "  'profile_url': 'https://www.yelp.com/user_details?userid=Hpkt5TvIHQtiB3WFLnp6Ag',\n",
       "  'image_url': 'https://s3-media4.fl.yelpcdn.com/photo/nu_-10y_aX6pHh9tUxUB9Q/o.jpg',\n",
       "  'name': 'Karen I.'}}"
      ]
     },
     "execution_count": 64,
     "metadata": {},
     "output_type": "execute_result"
    }
   ],
   "source": [
    "review_results['reviews'][0]"
   ]
  },
  {
   "cell_type": "code",
   "execution_count": 65,
   "metadata": {},
   "outputs": [
    {
     "name": "stdout",
     "output_type": "stream",
     "text": [
      "reviews\n",
      "<class 'list'>\n",
      "total\n",
      "<class 'int'>\n",
      "possible_languages\n",
      "<class 'list'>\n"
     ]
    }
   ],
   "source": [
    "for key in review_results.keys(): \n",
    "    print(key)\n",
    "    print(type(review_results[key]))"
   ]
  },
  {
   "cell_type": "raw",
   "metadata": {},
   "source": [
    "cur.execute(\"\"\"CREATE TABLE reviews (\n",
    "                                id TEXT PRIMARY KEY,\n",
    "                                text TEXT,\n",
    "                                rating NUMERIC,\n",
    "                                time_created NUMERIC,\n",
    "                                business_id TEXT  \n",
    "                               )          \n",
    "            \"\"\") \n",
    "\n",
    "conn.commit()"
   ]
  },
  {
   "cell_type": "code",
   "execution_count": 76,
   "metadata": {},
   "outputs": [
    {
     "data": {
      "text/plain": [
       "{'error': {'code': 'VALIDATION_ERROR',\n",
       "  'description': '\"(\\'-4CWLN_ZIWC3dfIWbFHisw\\',)\" is not a \\'business-id-or-alias\\'',\n",
       "  'field': 'business_id',\n",
       "  'instance': \"('-4CWLN_ZIWC3dfIWbFHisw',)\"}}"
      ]
     },
     "execution_count": 76,
     "metadata": {},
     "output_type": "execute_result"
    }
   ],
   "source": [
    "review_results"
   ]
  },
  {
   "cell_type": "code",
   "execution_count": 96,
   "metadata": {},
   "outputs": [],
   "source": [
    "def parse_review_results(review_results, business_id):\n",
    "    # your code to parse the result to make them easier to insert into the DB\n",
    "    parsed_results = []\n",
    "    \n",
    "    if 'error' in review_results:\n",
    "        if review_results['error']['code'] == 'BUSINESS_UNAVAILABLE':\n",
    "            return None\n",
    "    else:\n",
    "        for review in review_results['reviews']:\n",
    "            for item in ['text', 'rating', 'time_created']:\n",
    "                if item not in review:\n",
    "                    review[item] = np.nan\n",
    "                else:\n",
    "                    review[item]\n",
    "\n",
    "            review_tuple = (review['id'], \n",
    "                    review['text'] , \n",
    "                    review['rating'], \n",
    "                    review['time_created'],\n",
    "                    business_id)\n",
    "            parsed_results.append(review_tuple)\n",
    "        return parsed_results"
   ]
  },
  {
   "cell_type": "code",
   "execution_count": 70,
   "metadata": {},
   "outputs": [],
   "source": [
    "parsed_review_results = parse_review_results(review_results, biz_id)"
   ]
  },
  {
   "cell_type": "code",
   "execution_count": 71,
   "metadata": {},
   "outputs": [
    {
     "data": {
      "text/plain": [
       "[('8XPcvo1or6MAw5d2UCV8dQ',\n",
       "  'I was referred to Keisy by a friend and she was right! Keisy is amazing all around - cleans hands and feet very well, great selection of colors and great...',\n",
       "  5,\n",
       "  '2020-11-11 11:30:37',\n",
       "  '01_3mQ-TsSp_MPi-861-3g'),\n",
       " ('fir-LqjChzjTOqXWbDJGCw',\n",
       "  \"Omg! So this was my first time here, I so do so L O V E it here! They are so family oriented, it's cozy, and fun to be here. \\n\\nI will be coming back, this...\",\n",
       "  5,\n",
       "  '2020-02-29 11:32:30',\n",
       "  '01_3mQ-TsSp_MPi-861-3g'),\n",
       " ('0UlZRvpu5Z6VKL2kyoaMgg',\n",
       "  'Keisy at mademoiselle Pines is fantastic! I have been going to her for years and she is the sweetest! She takes her time with detailing my nails and I am...',\n",
       "  5,\n",
       "  '2020-02-29 12:45:28',\n",
       "  '01_3mQ-TsSp_MPi-861-3g')]"
      ]
     },
     "execution_count": 71,
     "metadata": {},
     "output_type": "execute_result"
    }
   ],
   "source": [
    "parsed_review_results"
   ]
  },
  {
   "cell_type": "raw",
   "metadata": {},
   "source": [
    "cur.execute(\"\"\"CREATE TABLE reviews (\n",
    "                                id TEXT PRIMARY KEY,\n",
    "                                text TEXT,\n",
    "                                rating NUMERIC,\n",
    "                                time_created NUMERIC,\n",
    "                                business_id TEXT  \n",
    "                               )          \n",
    "            \"\"\") \n",
    "\n",
    "conn.commit()"
   ]
  },
  {
   "cell_type": "code",
   "execution_count": 74,
   "metadata": {},
   "outputs": [],
   "source": [
    "def db_review_insert(cnx, cursor, parsed_results):\n",
    "    # your code to insert and commit the results\n",
    "    # I would create the connection and cursor outside of this function and then pass it through\n",
    "#     for business in parsed_results:\n",
    "    add_review = (\"\"\"INSERT INTO reviews \n",
    "              (id, text, rating, time_created, business_id) \n",
    "              VALUES (?, ?, ?, ?, ?)\"\"\")\n",
    "    \n",
    "    cursor.executemany(add_review, parsed_results)\n",
    "    cnx.commit()"
   ]
  },
  {
   "cell_type": "code",
   "execution_count": 104,
   "metadata": {},
   "outputs": [],
   "source": [
    "# create a variable  to keep track of which result you are in. \n",
    "\n",
    "#set up a while loop to go through and grab the result \n",
    "count = 0\n",
    "for biz_id in business_ID_list: # we ran this in blocks of 200\n",
    "#     biz_id = str(biz_id)[2:-3]\n",
    "    biz_id = biz_id[0]\n",
    "#     print(biz_id)\n",
    "    #make your API call with the new offset number\n",
    "    review_results = yelp_review_call(biz_id)\n",
    "    \n",
    "    #after you get your results you can now use your function to parse those results\n",
    "    parsed_review_results = parse_review_results(review_results, biz_id)\n",
    "    \n",
    "    # use your function to insert your parsed results into the db\n",
    "    if parsed_review_results == None:\n",
    "        pass\n",
    "#         print(count)\n",
    "#         continue\n",
    "    else:\n",
    "        db_review_insert(conn, cur, parsed_review_results)\n",
    "    #increment the counter by 50 to move on to the next results\n",
    "#     print(count)\n",
    "    count += 1"
   ]
  },
  {
   "cell_type": "markdown",
   "metadata": {},
   "source": [
    "## Part 4 -  Create ETL pipeline for the restaurant review data from the API\n",
    "\n",
    "You've done this for the Businesses, now you need to do this for reviews. You will follow the same process, but your functions will be specific to reviews."
   ]
  },
  {
   "cell_type": "markdown",
   "metadata": {},
   "source": [
    "- Write a SQL query to pull back all of the business ids. You will need these ids to pull back the reviews for each restaurant"
   ]
  },
  {
   "cell_type": "markdown",
   "metadata": {},
   "source": [
    "- Write a function that takes a business id and makes a call to the API for reivews\n"
   ]
  },
  {
   "cell_type": "markdown",
   "metadata": {},
   "source": [
    "- Write a function to parse out the relevant information from the reviews"
   ]
  },
  {
   "cell_type": "markdown",
   "metadata": {},
   "source": [
    "- Write a function to insert the parsed data into the reviews table"
   ]
  },
  {
   "cell_type": "markdown",
   "metadata": {},
   "source": [
    "- Combine the functions above into a single script  "
   ]
  },
  {
   "cell_type": "markdown",
   "metadata": {},
   "source": [
    "## Part 5 -  Write SQL queries that will answer the questions posed. \n",
    "\n",
    "Now that your data is in the DB, you can answer the questions. Write SQL querires that will answer the questions. **Do not use Pandas for this part of the project.**"
   ]
  },
  {
   "cell_type": "markdown",
   "metadata": {},
   "source": [
    "Which are the 5 most reviewed businesses?\n",
    "What is the highest rating recieved in your data set and how many businesses have that rating?\n",
    "What percentage of businesses have a rating greater than or 4.5?\n",
    "What percentage of businesses have a rating less than 3?\n",
    "What is the average rating of businesses that have a price label of one dollar sign? Two dollar signs? Three dollar signs?\n",
    "Return the text of the reviews for the most reviewed business.\n",
    "Return the name of the business with the most recent review.\n",
    "Find the highest rated business and return text of the most recent review. If multiple business have the same rating, select the business with the most reviews.\n",
    "Find the lowest rated business and return text of the most recent review. If multiple business have the same rating, select the business with the least reviews."
   ]
  },
  {
   "cell_type": "raw",
   "metadata": {},
   "source": [
    "conn = sqlite3.connect('yelpspa.db')\n",
    "cur = conn.cursor()\n",
    "\n",
    "conn.commit() \n",
    "cur.close() \n",
    "conn.close()"
   ]
  },
  {
   "cell_type": "code",
   "execution_count": 151,
   "metadata": {},
   "outputs": [
    {
     "data": {
      "text/plain": [
       "[('gHq4H4JSyKTtdnZFSBiwdQ', 580),\n",
       " ('u8DmsVlpXuSXlXc-cUvoPQ', 417),\n",
       " ('eBhYZjns_OHOg0iRW2pYHw', 393),\n",
       " ('Y6Ywqa4u1GKNEhM6ZzbDpg', 393),\n",
       " ('l3DfUvU2jqu-6pw4DFKDOA', 307)]"
      ]
     },
     "execution_count": 151,
     "metadata": {},
     "output_type": "execute_result"
    }
   ],
   "source": [
    "# Which are the 5 most reviewed businesses?\n",
    "most_reviewed_query = (\"\"\"SELECT id, review_count\n",
    "            FROM business\n",
    "            ORDER BY review_count DESC\n",
    "            LIMIT 5;\"\"\")\n",
    "cur.execute(most_reviewed_query)\n",
    "most_reviewed_list = cur.fetchall()\n",
    "most_reviewed_list"
   ]
  },
  {
   "cell_type": "code",
   "execution_count": 152,
   "metadata": {},
   "outputs": [
    {
     "data": {
      "text/plain": [
       "[(5, 945), (4.5, 388)]"
      ]
     },
     "execution_count": 152,
     "metadata": {},
     "output_type": "execute_result"
    }
   ],
   "source": [
    "# What is the highest rating recieved in your data set and how many businesses have that rating?\n",
    "highest_rated_query = (\"\"\"SELECT rating, count(rating)\n",
    "            FROM business\n",
    "            GROUP BY rating\n",
    "            ORDER BY rating DESC\n",
    "            LIMIT 2;\"\"\")\n",
    "cur.execute(highest_rated_query)\n",
    "highest_rated_list = cur.fetchall()\n",
    "highest_rated_list"
   ]
  },
  {
   "cell_type": "code",
   "execution_count": 158,
   "metadata": {},
   "outputs": [
    {
     "data": {
      "text/plain": [
       "[(66.65,)]"
      ]
     },
     "execution_count": 158,
     "metadata": {},
     "output_type": "execute_result"
    }
   ],
   "source": [
    "# What percentage of businesses have a rating greater than or 4.5?\n",
    "rated4point5plus_query = (\"\"\"SELECT round(count(rating), 2) *100/ (SELECT count(id) FROM business) \n",
    "                                FROM business\n",
    "                                WHERE rating >= 4.5;\"\"\")\n",
    "cur.execute(rated4point5plus_query)\n",
    "rated4point5plus_list = cur.fetchall()\n",
    "rated4point5plus_list"
   ]
  },
  {
   "cell_type": "markdown",
   "metadata": {},
   "source": [
    "## Part 6 - Pull in relevant data into your python environment and analysis it using descriptive statistics.  This can be don either using Pandas or solely Python code.\n"
   ]
  },
  {
   "cell_type": "code",
   "execution_count": null,
   "metadata": {},
   "outputs": [],
   "source": []
  },
  {
   "cell_type": "markdown",
   "metadata": {},
   "source": [
    "## Part 7 - Create Data visualizations using Matplotlib or Seaborn"
   ]
  },
  {
   "cell_type": "code",
   "execution_count": null,
   "metadata": {},
   "outputs": [],
   "source": []
  },
  {
   "cell_type": "markdown",
   "metadata": {},
   "source": [
    "# Reference help"
   ]
  },
  {
   "cell_type": "code",
   "execution_count": null,
   "metadata": {},
   "outputs": [],
   "source": []
  },
  {
   "cell_type": "markdown",
   "metadata": {},
   "source": [
    "###  Pagination\n",
    "\n",
    "Returning to the Yelp API, the [documentation](https://www.yelp.com/developers/documentation/v3/business_search) also provides us details regarding the API limits. These often include details about the number of requests a user is allowed to make within a specified time limit and the maximum number of results to be returned. In this case, we are told that any request has a maximum of 50 results per request and defaults to 20. Furthermore, any search will be limited to a total of 1000 results. To retrieve all 1000 of these results, we would have to page through the results piece by piece, retriving 50 at a time. Processes such as these are often refered to as pagination.\n",
    "\n",
    "Now that you have an initial response, you can examine the contents of the json container. For example, you might start with ```response.json().keys()```. Here, you'll see a key for `'total'`, which tells you the full number of matching results given your query parameters. Write a loop (or ideally a function) which then makes successive API calls using the offset parameter to retrieve all of the results (or 5000 for a particularly large result set) for the original query. As you do this, be mindful of how you store the data. \n",
    "\n",
    "**Note: be mindful of the API rate limits. You can only make 5000 requests per day, and APIs can make requests too fast. Start prototyping small before running a loop that could be faulty. You can also use time.sleep(n) to add delays. For more details see https://www.yelp.com/developers/documentation/v3/rate_limiting.**"
   ]
  },
  {
   "cell_type": "markdown",
   "metadata": {},
   "source": [
    "***Below is sample code that you can use to help you deal with the pagination parameter and bring all of the functions together.***\n",
    "\n",
    "\n",
    "***Also, something might cause your code to break while it is running. You don't want to constantly repull the same data when this happens, so you should insert the data into the database as you call and parse it, not after you have all of the data***\n"
   ]
  },
  {
   "cell_type": "code",
   "execution_count": null,
   "metadata": {},
   "outputs": [],
   "source": [
    "# create a variable  to keep track of which result you are in. \n",
    "cur = 0\n",
    "\n",
    "#set up a while loop to go through and grab the result \n",
    "while cur < num and cur < 1000:\n",
    "    #set the offset parameter to be where you currently are in the results \n",
    "    url_params['offset'] = cur\n",
    "    #make your API call with the new offset number\n",
    "    results = yelp_call(url_params, api_key)\n",
    "    \n",
    "    #after you get your results you can now use your function to parse those results\n",
    "    parsed_results = parse_results(results)\n",
    "    \n",
    "    # use your function to insert your parsed results into the db\n",
    "    db_insert(parsed_results)\n",
    "    #increment the counter by 50 to move on to the next results\n",
    "    cur += 20"
   ]
  },
  {
   "cell_type": "code",
   "execution_count": null,
   "metadata": {},
   "outputs": [],
   "source": []
  }
 ],
 "metadata": {
  "kernelspec": {
   "display_name": "learn-env",
   "language": "python",
   "name": "learn-env"
  },
  "language_info": {
   "codemirror_mode": {
    "name": "ipython",
    "version": 3
   },
   "file_extension": ".py",
   "mimetype": "text/x-python",
   "name": "python",
   "nbconvert_exporter": "python",
   "pygments_lexer": "ipython3",
   "version": "3.8.5"
  },
  "toc": {
   "base_numbering": 1,
   "nav_menu": {},
   "number_sections": false,
   "sideBar": true,
   "skip_h1_title": false,
   "title_cell": "Table of Contents",
   "title_sidebar": "Contents",
   "toc_cell": false,
   "toc_position": {},
   "toc_section_display": true,
   "toc_window_display": false
  }
 },
 "nbformat": 4,
 "nbformat_minor": 2
}
